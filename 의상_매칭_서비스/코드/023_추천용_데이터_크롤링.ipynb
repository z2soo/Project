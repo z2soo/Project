{
 "cells": [
  {
   "cell_type": "code",
   "execution_count": 10,
   "metadata": {},
   "outputs": [],
   "source": [
    "import requests\n",
    "import matplotlib.pyplot as plt\n",
    "import matplotlib.image as mpimg\n",
    "import matplotlib.patches as patches\n",
    "from matplotlib.pyplot import imshow\n",
    "import numpy as np\n",
    "import pandas as pd\n",
    "import sys\n",
    "import argparse\n",
    "from PIL import Image, ImageDraw, ImageFont\n",
    "from io import BytesIO\n",
    "import json\n",
    "import pprint\n",
    "import cv2\n",
    "import os\n",
    "import time\n",
    "import tensorflow as tf\n",
    "from keras import layers, Input, models, optimizers\n",
    "from keras.models import Model, Sequential\n",
    "from keras.layers import MaxPooling2D, Conv2D,Activation, Dropout, Flatten, Dense\n",
    "from keras.models import load_model\n",
    "from keras.callbacks import ModelCheckpoint\n",
    "from keras.layers.normalization import BatchNormalization\n",
    "from keras.preprocessing.image import ImageDataGenerator\n",
    "import sys, os\n",
    "from bs4 import BeautifulSoup\n",
    "from selenium import webdriver\n",
    "import urllib, urllib.request\n",
    "import requests\n",
    "import random\n",
    "import time\n",
    "from selenium.webdriver.common.keys import Keys"
   ]
  },
  {
   "cell_type": "markdown",
   "metadata": {},
   "source": [
    "## 추천용 이미지 크롤링"
   ]
  },
  {
   "cell_type": "code",
   "execution_count": 6,
   "metadata": {},
   "outputs": [],
   "source": [
    "# 폴더 생성 함수\n",
    "\n",
    "def createfolder(foler_dir):\n",
    "    try:\n",
    "        if not os.path.exists(folder_dir):\n",
    "            os.makedirs(folder_dir)\n",
    "    except OSError:\n",
    "        print('Error Creating directory'+folder_dir) \n"
   ]
  },
  {
   "cell_type": "code",
   "execution_count": 8,
   "metadata": {},
   "outputs": [],
   "source": [
    "def big_google_crawling(size, folder_dir, searchItem):\n",
    "    url = 'https://www.google.com/search?q=' + searchItem + '&tbm=isch'\n",
    "\n",
    "    driver = webdriver.Chrome()\n",
    "    driver.get(url)\n",
    "    time.sleep(3)\n",
    "    elem = driver.find_element_by_tag_name(\"body\")\n",
    "    \n",
    "    try:\n",
    "        if not os.path.exists(folder_dir):\n",
    "            os.makedirs(folder_dir)\n",
    "    except OSError:\n",
    "        print('Error Creating directory'+folder_dir)\n",
    "    \n",
    "\n",
    "    for i in range(1,size):\n",
    "        ### 이미지 클릭\n",
    "        try:\n",
    "            click_section = '//*[@id=\"islrg\"]/div[1]/div[' + str(i) + ']/a[1]'  \n",
    "            #div[이 안의 숫자]가 바뀌면은 클릭할 사진이 바뀌는 거임\n",
    "            driver.find_element_by_xpath(click_section).click()\n",
    "            time.sleep(2)\n",
    "\n",
    "        ### 오른쪽에 뜬 이미지 url 가져오기\n",
    "            img_section = '//*[@id=\"Sva75c\"]/div/div/div[3]/div[2]/div/div[1]/div[1]/div/div[2]/a/img'\n",
    "            img = driver.find_element_by_xpath(img_section).get_attribute('src')\n",
    "\n",
    "        ### 이미지 저장\n",
    "            img_name = folder_dir + '/' + searchItem + '원본s' + str(i) + '.jpg'\n",
    "            urllib.request.urlretrieve(img,img_name)\n",
    "\n",
    "        except:\n",
    "            pass\n",
    "        \n",
    "    if i % 100 == 0:\n",
    "        print(i)\n",
    "    driver.close()"
   ]
  },
  {
   "cell_type": "code",
   "execution_count": 11,
   "metadata": {},
   "outputs": [],
   "source": [
    "# 저장할 폴더 생성\n",
    "folder_dir = 'C:/Jupyter_Script/파이널프로젝트/img/추천용/공항패션'\n",
    "createfolder(folder_dir)\n",
    "\n",
    "# 이미지 크롤링\n",
    "size = 500\n",
    "folder_dir =  'C:/Jupyter_Script/파이널프로젝트/img/추천용/공항패션'\n",
    "searchItem = '공항패션'\n",
    "big_google_crawling(size, folder_dir, searchItem)"
   ]
  },
  {
   "cell_type": "code",
   "execution_count": 12,
   "metadata": {},
   "outputs": [],
   "source": [
    "# 저장할 폴더 생성\n",
    "folder_dir = 'C:/Jupyter_Script/파이널프로젝트/img/추천용/데일리룩'\n",
    "createfolder(folder_dir)\n",
    "\n",
    "# 이미지 크롤링\n",
    "size = 500\n",
    "folder_dir =  'C:/Jupyter_Script/파이널프로젝트/img/추천용/데일리룩'\n",
    "searchItem = '데일리룩'\n",
    "big_google_crawling(size, folder_dir, searchItem)"
   ]
  },
  {
   "cell_type": "code",
   "execution_count": 13,
   "metadata": {},
   "outputs": [],
   "source": [
    "# 저장할 폴더 생성\n",
    "folder_dir = 'C:/Jupyter_Script/파이널프로젝트/img/추천용/코디북'\n",
    "createfolder(folder_dir)\n",
    "\n",
    "# 이미지 크롤링\n",
    "size = 500\n",
    "folder_dir =  'C:/Jupyter_Script/파이널프로젝트/img/추천용/코디북'\n",
    "searchItem = '데일리룩'\n",
    "big_google_crawling(size, folder_dir, searchItem)"
   ]
  },
  {
   "cell_type": "markdown",
   "metadata": {},
   "source": [
    "## 추천용 이미지 상하의 구분 및 style, pattern, shape 예측 함수, 사진 저장, df로 정보 저장"
   ]
  },
  {
   "cell_type": "code",
   "execution_count": null,
   "metadata": {},
   "outputs": [],
   "source": [
    "# 이미지 구분하고서는 다음과 같이 저장 : 나중에 뽑아올 수 있도록 : NA없는 경우에만 저장하도록\n",
    "# top: pattern별 폴더, shape별 폴더\n",
    "# bottom: pattern별 폴더, shape별 폴더\n",
    "\n"
   ]
  },
  {
   "cell_type": "code",
   "execution_count": null,
   "metadata": {},
   "outputs": [],
   "source": [
    "# input() 원하는 스타일 입력\n",
    "# 스타일로 한번 걸러줌\n",
    "# 걸러진 상태에서 이미지 가지고 pattern, shape 예측\n",
    "# 각 pattern, shape을 가지는 상의, 하의 인 경우 하의, 상의 사진 임의로 return"
   ]
  },
  {
   "cell_type": "code",
   "execution_count": null,
   "metadata": {},
   "outputs": [],
   "source": []
  },
  {
   "cell_type": "code",
   "execution_count": null,
   "metadata": {},
   "outputs": [],
   "source": []
  }
 ],
 "metadata": {
  "kernelspec": {
   "display_name": "[VENV]",
   "language": "python",
   "name": "venv"
  },
  "language_info": {
   "codemirror_mode": {
    "name": "ipython",
    "version": 3
   },
   "file_extension": ".py",
   "mimetype": "text/x-python",
   "name": "python",
   "nbconvert_exporter": "python",
   "pygments_lexer": "ipython3",
   "version": "3.6.10"
  }
 },
 "nbformat": 4,
 "nbformat_minor": 4
}
