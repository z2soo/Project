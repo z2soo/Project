{
 "cells": [
  {
   "cell_type": "code",
   "execution_count": 1,
   "metadata": {},
   "outputs": [
    {
     "name": "stderr",
     "output_type": "stream",
     "text": [
      "C:\\Users\\student\\Anaconda3\\envs\\CPU_ENV\\lib\\site-packages\\tensorflow\\python\\framework\\dtypes.py:493: FutureWarning: Passing (type, 1) or '1type' as a synonym of type is deprecated; in a future version of numpy, it will be understood as (type, (1,)) / '(1,)type'.\n",
      "  _np_qint8 = np.dtype([(\"qint8\", np.int8, 1)])\n",
      "C:\\Users\\student\\Anaconda3\\envs\\CPU_ENV\\lib\\site-packages\\tensorflow\\python\\framework\\dtypes.py:494: FutureWarning: Passing (type, 1) or '1type' as a synonym of type is deprecated; in a future version of numpy, it will be understood as (type, (1,)) / '(1,)type'.\n",
      "  _np_quint8 = np.dtype([(\"quint8\", np.uint8, 1)])\n",
      "C:\\Users\\student\\Anaconda3\\envs\\CPU_ENV\\lib\\site-packages\\tensorflow\\python\\framework\\dtypes.py:495: FutureWarning: Passing (type, 1) or '1type' as a synonym of type is deprecated; in a future version of numpy, it will be understood as (type, (1,)) / '(1,)type'.\n",
      "  _np_qint16 = np.dtype([(\"qint16\", np.int16, 1)])\n",
      "C:\\Users\\student\\Anaconda3\\envs\\CPU_ENV\\lib\\site-packages\\tensorflow\\python\\framework\\dtypes.py:496: FutureWarning: Passing (type, 1) or '1type' as a synonym of type is deprecated; in a future version of numpy, it will be understood as (type, (1,)) / '(1,)type'.\n",
      "  _np_quint16 = np.dtype([(\"quint16\", np.uint16, 1)])\n",
      "C:\\Users\\student\\Anaconda3\\envs\\CPU_ENV\\lib\\site-packages\\tensorflow\\python\\framework\\dtypes.py:497: FutureWarning: Passing (type, 1) or '1type' as a synonym of type is deprecated; in a future version of numpy, it will be understood as (type, (1,)) / '(1,)type'.\n",
      "  _np_qint32 = np.dtype([(\"qint32\", np.int32, 1)])\n",
      "C:\\Users\\student\\Anaconda3\\envs\\CPU_ENV\\lib\\site-packages\\tensorflow\\python\\framework\\dtypes.py:502: FutureWarning: Passing (type, 1) or '1type' as a synonym of type is deprecated; in a future version of numpy, it will be understood as (type, (1,)) / '(1,)type'.\n",
      "  np_resource = np.dtype([(\"resource\", np.ubyte, 1)])\n",
      "Using TensorFlow backend.\n"
     ]
    }
   ],
   "source": [
    "import cv2\n",
    "import os\n",
    "import numpy as np\n",
    "import pandas as pd\n",
    "import tensorflow as tf\n",
    "import matplotlib.pyplot as plt\n",
    "from PIL import Image\n",
    "from sklearn.model_selection import train_test_split\n",
    "from keras import layers, Input, models, optimizers\n",
    "from keras.models import Model, Sequential\n",
    "from keras.layers import MaxPooling2D, Conv2D\n",
    "from keras.layers import Activation, Dropout, Flatten, Dense\n",
    "from keras.callbacks import ModelCheckpoint\n",
    "from keras.layers.normalization import BatchNormalization\n",
    "from keras.preprocessing.image import ImageDataGenerator"
   ]
  },
  {
   "cell_type": "markdown",
   "metadata": {},
   "source": [
    "### pattern 별로 이미지 선별했기 때문에 따로 불러와서 분류 작업 불필요"
   ]
  },
  {
   "cell_type": "markdown",
   "metadata": {},
   "source": [
    "## 1. 얼굴있는 사진 제거 및 새로 저장"
   ]
  },
  {
   "cell_type": "code",
   "execution_count": null,
   "metadata": {},
   "outputs": [],
   "source": [
    "# 1. 얼굴 인식 코드\n",
    "\n",
    "\n",
    "face_cascade = cv2.CascadeClassifier(\n",
    "    './opencv-master/data/haarcascades/haarcascade_frontalface_default.xml')"
   ]
  },
  {
   "cell_type": "code",
   "execution_count": null,
   "metadata": {},
   "outputs": [],
   "source": [
    "# 2. 얼굴 분류 함수 \n",
    "\n",
    "\n",
    "def count_face(x):\n",
    "    face_cascade = cv2.CascadeClassifier('./opencv-master/data/haarcascades/haarcascade_frontalface_default.xml')\n",
    "    grayImage = cv2.cvtColor(x, cv2.COLOR_BGR2GRAY)\n",
    "    faces = face_cascade.detectMultiScale(grayImage, 1.03, 5)\n",
    "    return faces.shape[0]"
   ]
  },
  {
   "cell_type": "code",
   "execution_count": null,
   "metadata": {},
   "outputs": [],
   "source": [
    "# 3. 폴더 생성 함수\n",
    "\n",
    "def createfolder(foler_dir):\n",
    "    try:\n",
    "        if not os.path.exists(folder_dir):\n",
    "            os.makedirs(folder_dir)\n",
    "    except OSError:\n",
    "        print('Error Creating directory'+folder_dir) "
   ]
  },
  {
   "cell_type": "code",
   "execution_count": null,
   "metadata": {},
   "outputs": [],
   "source": [
    "# 4. noface 하위 폴더 만들기\n",
    "\n",
    "\n",
    "path = 'C:/python_DA/img/pattern/' # 가져오는 이미지 폴더 path\n",
    "file_list = os.listdir(path)\n",
    "\n",
    "for folder_name in file_list:\n",
    "    path = 'C:/python_DA/img/noface_pattern/' # 새로운 이미지 폴더 path\n",
    "    folder_dir = path + folder_name\n",
    "    createfolder(folder_dir)"
   ]
  },
  {
   "cell_type": "code",
   "execution_count": null,
   "metadata": {},
   "outputs": [],
   "source": [
    "# 5. noface 사진 다시 저장\n",
    "\n",
    "\n",
    "path = 'C:/python_DA/img/pattern/'  # 가져오는 이미지 폴더 path\n",
    "file_list = os.listdir(path)\n",
    "\n",
    "for _ in range(len(file_list)):\n",
    "    folder_name = file_list[_]\n",
    "    new_dir = 'C:/python_DA/img/noface_pattern/' + folder_name # 저장할 path\n",
    "    jpg_path = path + file_list[_] + '/'\n",
    "    jpg_file =  os.listdir(jpg_path)\n",
    "    a = 0\n",
    "    for i in range(len(jpg_file)):\n",
    "        image_name = jpg_path + jpg_file[i]\n",
    "        img = cv2.imread(image_name)\n",
    "\n",
    "        try:\n",
    "            count_face(img)\n",
    "            \n",
    "        except:\n",
    "            new_name = new_dir + '/' + jpg_file[i]\n",
    "            cv2.imwrite(new_name, img)\n",
    "    \n",
    "    if _ % 50 == 0:\n",
    "        print(_)\n"
   ]
  },
  {
   "cell_type": "markdown",
   "metadata": {},
   "source": [
    "## 2. pattern 분류 모델 생성"
   ]
  },
  {
   "cell_type": "markdown",
   "metadata": {},
   "source": [
    "### 얼굴 제거 사진(1번 적용 후) 사용해도 되지만 둘 다 해보니 기존 이미지 학습의 정확도가 높음"
   ]
  },
  {
   "cell_type": "code",
   "execution_count": null,
   "metadata": {},
   "outputs": [],
   "source": [
    "# generator = tf.keras.preprocessing.image.ImageDataGenerator(\n",
    "#     rotation_range = 20,\n",
    "#     width_shift_range = 0.2,\n",
    "#     height_shift_range = 0.2,\n",
    "#     rescale = 1. / 255)"
   ]
  },
  {
   "cell_type": "code",
   "execution_count": 2,
   "metadata": {},
   "outputs": [
    {
     "name": "stdout",
     "output_type": "stream",
     "text": [
      "_________________________________________________________________\n",
      "Layer (type)                 Output Shape              Param #   \n",
      "=================================================================\n",
      "conv2d_1 (Conv2D)            (None, 150, 150, 16)      432       \n",
      "_________________________________________________________________\n",
      "batch_normalization_1 (Batch (None, 150, 150, 16)      48        \n",
      "_________________________________________________________________\n",
      "activation_1 (Activation)    (None, 150, 150, 16)      0         \n",
      "_________________________________________________________________\n",
      "max_pooling2d_1 (MaxPooling2 (None, 38, 38, 16)        0         \n",
      "_________________________________________________________________\n",
      "conv2d_2 (Conv2D)            (None, 38, 38, 32)        4608      \n",
      "_________________________________________________________________\n",
      "batch_normalization_2 (Batch (None, 38, 38, 32)        96        \n",
      "_________________________________________________________________\n",
      "activation_2 (Activation)    (None, 38, 38, 32)        0         \n",
      "_________________________________________________________________\n",
      "max_pooling2d_2 (MaxPooling2 (None, 10, 10, 32)        0         \n",
      "_________________________________________________________________\n",
      "conv2d_3 (Conv2D)            (None, 10, 10, 64)        18432     \n",
      "_________________________________________________________________\n",
      "batch_normalization_3 (Batch (None, 10, 10, 64)        192       \n",
      "_________________________________________________________________\n",
      "activation_3 (Activation)    (None, 10, 10, 64)        0         \n",
      "_________________________________________________________________\n",
      "max_pooling2d_3 (MaxPooling2 (None, 3, 3, 64)          0         \n",
      "_________________________________________________________________\n",
      "conv2d_4 (Conv2D)            (None, 3, 3, 128)         73728     \n",
      "_________________________________________________________________\n",
      "batch_normalization_4 (Batch (None, 3, 3, 128)         384       \n",
      "_________________________________________________________________\n",
      "activation_4 (Activation)    (None, 3, 3, 128)         0         \n",
      "_________________________________________________________________\n",
      "flatten_1 (Flatten)          (None, 1152)              0         \n",
      "_________________________________________________________________\n",
      "dense_1 (Dense)              (None, 512)               590336    \n",
      "_________________________________________________________________\n",
      "dense_2 (Dense)              (None, 7)                 3591      \n",
      "=================================================================\n",
      "Total params: 691,847\n",
      "Trainable params: 691,367\n",
      "Non-trainable params: 480\n",
      "_________________________________________________________________\n"
     ]
    }
   ],
   "source": [
    "model = Sequential()\n",
    "model.add(Conv2D(16, (3, 3), padding='same', use_bias=False, input_shape=(150,150, 3))) # RGB:3, gray:1\n",
    "model.add(BatchNormalization(axis=3, scale=False))\n",
    "model.add(Activation(\"relu\"))\n",
    "model.add(MaxPooling2D(pool_size=(4, 4), strides=(4, 4), padding='same'))\n",
    "#model.add(Dropout(0.2))\n",
    " \n",
    "model.add(Conv2D(32, (3, 3), padding='same', use_bias=False))\n",
    "model.add(BatchNormalization(axis=3, scale=False))\n",
    "model.add(Activation(\"relu\"))\n",
    "model.add(MaxPooling2D(pool_size=(4, 4), strides=(4, 4), padding='same'))\n",
    "#model.add(Dropout(0.2))\n",
    " \n",
    "model.add(Conv2D(64, (3, 3), padding='same', use_bias=False))\n",
    "model.add(BatchNormalization(axis=3, scale=False))\n",
    "model.add(Activation(\"relu\"))\n",
    "model.add(MaxPooling2D(pool_size=(4, 4), strides=(4, 4), padding='same'))\n",
    "#model.add(Dropout(0.2))\n",
    " \n",
    "model.add(Conv2D(128, (3, 3), padding='same', use_bias=False))\n",
    "model.add(BatchNormalization(axis=3, scale=False))\n",
    "model.add(Activation(\"relu\"))\n",
    "model.add(Flatten())\n",
    "#model.add(Dropout(0.2))\n",
    " \n",
    "model.add(Dense(512, activation='relu'))\n",
    "model.add(Dense(7, activation='softmax'))                                   # label, calss 갯수\n",
    "model.summary()\n",
    " "
   ]
  },
  {
   "cell_type": "markdown",
   "metadata": {},
   "source": [
    "## compile 및 데이터 불러오기"
   ]
  },
  {
   "cell_type": "code",
   "execution_count": 13,
   "metadata": {},
   "outputs": [
    {
     "name": "stdout",
     "output_type": "stream",
     "text": [
      "Found 4398 images belonging to 7 classes.\n",
      "Found 2166 images belonging to 7 classes.\n",
      "['check', 'dot', 'floral', 'graphic', 'leopard', 'none', 'stripe']\n"
     ]
    }
   ],
   "source": [
    "# Compiling the CNN\n",
    "\n",
    "from keras.optimizers import Adam\n",
    "optimizer = Adam(lr=0.001)\n",
    "\n",
    "model.compile(optimizer = optimizer, \n",
    "              loss = 'categorical_crossentropy', \n",
    "              metrics = ['accuracy'])\n",
    "\n",
    "\n",
    "# 데이터 셋\n",
    "train_datagen = ImageDataGenerator(rescale=1./255,\n",
    "#                                    rotation_range=10,\n",
    "#                                    width_shift_range=0.2,\n",
    "#                                    height_shift_range=0.2,\n",
    "#                                    shear_range=0.7,\n",
    "#                                    zoom_range=[0.9, 2.2],\n",
    "#                                    horizontal_flip=True,\n",
    "#                                    vertical_flip=True,\n",
    "#                                    fill_mode='nearest',\n",
    "                                   validation_split=0.33)\n",
    " \n",
    "training_set = train_datagen.flow_from_directory('C:/python_DA/img/pattern',\n",
    "                                                 target_size = (150,150),\n",
    "                                                 batch_size = 10,\n",
    "                                                 class_mode = 'categorical',\n",
    "                                                 subset=\"training\"\n",
    "#                                                 ,color_mode='grayscale'            # gray_scale로 변경\n",
    "                                                )\n",
    "validation_set = train_datagen.flow_from_directory('C:/python_DA/img/pattern',\n",
    "                                                 target_size = (150,150),\n",
    "                                                 batch_size = 10,\n",
    "                                                 class_mode = 'categorical',\n",
    "                                                 subset=\"validation\"\n",
    "#                                                 ,color_mode='grayscale'           # gray_scale로 변경\n",
    "                                                  )\n",
    "\n",
    "var = list(training_set.class_indices.keys())   # y classes에 해당되는 값\n",
    "print(var)"
   ]
  },
  {
   "cell_type": "markdown",
   "metadata": {},
   "source": [
    "## 모델 학습"
   ]
  },
  {
   "cell_type": "code",
   "execution_count": null,
   "metadata": {},
   "outputs": [],
   "source": [
    "# 훈련 세트의 정확도와 테스트 세트의 정확도 사이의 차이는 과대적합(overfitting) 때문\n",
    "# 과대적합은 머신러닝 모델이 훈련 데이터보다 새로운 데이터에서 성능이 낮아지는 현상"
   ]
  },
  {
   "cell_type": "code",
   "execution_count": null,
   "metadata": {},
   "outputs": [],
   "source": [
    "# 모델 예측\n",
    "# predict는 확률을, predict_classes는 label 값을 알려줌"
   ]
  },
  {
   "cell_type": "code",
   "execution_count": 5,
   "metadata": {},
   "outputs": [],
   "source": [
    "from keras.callbacks import EarlyStopping\n",
    "from keras.callbacks import ModelCheckpoint\n",
    "\n",
    "\n",
    "# moniter: 대상 값, mode: min/max, verbose=1 설정시 언제 멈췄는지 출력\n",
    "# patience: 성능없는 에폭 허용 범위, baseline: 값 설정\n",
    "\n",
    "#es = EarlyStopping(monitor='val_loss', mode='min')\n",
    "#es = EarlyStopping(monitor='val_loss', mode='min', verbose=1, patience=50)"
   ]
  },
  {
   "cell_type": "code",
   "execution_count": 6,
   "metadata": {},
   "outputs": [],
   "source": [
    "es = EarlyStopping(monitor='val_loss', mode='min', verbose=1, patience=1000)\n",
    "mc = ModelCheckpoint('best_model_pattern_418.h5', monitor='val_loss', mode='min', save_best_only=True)"
   ]
  },
  {
   "cell_type": "code",
   "execution_count": 7,
   "metadata": {},
   "outputs": [
    {
     "name": "stdout",
     "output_type": "stream",
     "text": [
      "Epoch 1/100\n",
      "15/15 [==============================] - 8s 550ms/step - loss: 2.6415 - acc: 0.2067 - val_loss: 3.0979 - val_acc: 0.1700\n",
      "Epoch 2/100\n",
      "15/15 [==============================] - 8s 528ms/step - loss: 1.9588 - acc: 0.2800 - val_loss: 2.1602 - val_acc: 0.1800\n",
      "Epoch 3/100\n",
      "15/15 [==============================] - 8s 520ms/step - loss: 1.7508 - acc: 0.3400 - val_loss: 1.9530 - val_acc: 0.3700\n",
      "Epoch 4/100\n",
      "15/15 [==============================] - 8s 522ms/step - loss: 1.6116 - acc: 0.3867 - val_loss: 1.8183 - val_acc: 0.2300\n",
      "Epoch 5/100\n",
      "15/15 [==============================] - 8s 532ms/step - loss: 1.5163 - acc: 0.4400 - val_loss: 1.5792 - val_acc: 0.4000\n",
      "Epoch 6/100\n",
      "15/15 [==============================] - 8s 524ms/step - loss: 1.4943 - acc: 0.4467 - val_loss: 1.8378 - val_acc: 0.3400\n",
      "Epoch 7/100\n",
      "15/15 [==============================] - 8s 535ms/step - loss: 1.5679 - acc: 0.4667 - val_loss: 1.9088 - val_acc: 0.2900\n",
      "Epoch 8/100\n",
      "15/15 [==============================] - 8s 519ms/step - loss: 1.5754 - acc: 0.4200 - val_loss: 1.5594 - val_acc: 0.4000\n",
      "Epoch 9/100\n",
      "15/15 [==============================] - 8s 518ms/step - loss: 1.3620 - acc: 0.5533 - val_loss: 1.8461 - val_acc: 0.3900\n",
      "Epoch 10/100\n",
      "15/15 [==============================] - 8s 529ms/step - loss: 1.4107 - acc: 0.5333 - val_loss: 1.8109 - val_acc: 0.3300\n",
      "Epoch 11/100\n",
      "15/15 [==============================] - 8s 524ms/step - loss: 1.2640 - acc: 0.5467 - val_loss: 1.3981 - val_acc: 0.5100\n",
      "Epoch 12/100\n",
      "15/15 [==============================] - 8s 521ms/step - loss: 1.2886 - acc: 0.4800 - val_loss: 1.2995 - val_acc: 0.5100\n",
      "Epoch 13/100\n",
      "15/15 [==============================] - 8s 520ms/step - loss: 1.4182 - acc: 0.4400 - val_loss: 1.7951 - val_acc: 0.3100\n",
      "Epoch 14/100\n",
      "15/15 [==============================] - 8s 518ms/step - loss: 1.3297 - acc: 0.4933 - val_loss: 1.7669 - val_acc: 0.3500\n",
      "Epoch 15/100\n",
      "15/15 [==============================] - 8s 530ms/step - loss: 1.1438 - acc: 0.5800 - val_loss: 1.3564 - val_acc: 0.4900\n",
      "Epoch 16/100\n",
      "15/15 [==============================] - 8s 525ms/step - loss: 1.3393 - acc: 0.4800 - val_loss: 1.7473 - val_acc: 0.3900\n",
      "Epoch 17/100\n",
      "15/15 [==============================] - 8s 524ms/step - loss: 1.3303 - acc: 0.4867 - val_loss: 1.4935 - val_acc: 0.3900\n",
      "Epoch 18/100\n",
      "15/15 [==============================] - 8s 526ms/step - loss: 1.3438 - acc: 0.5200 - val_loss: 1.3269 - val_acc: 0.5100\n",
      "Epoch 19/100\n",
      "15/15 [==============================] - 8s 521ms/step - loss: 1.1807 - acc: 0.5800 - val_loss: 1.6675 - val_acc: 0.3800\n",
      "Epoch 20/100\n",
      "15/15 [==============================] - 8s 520ms/step - loss: 1.3282 - acc: 0.5267 - val_loss: 1.5013 - val_acc: 0.4200\n",
      "Epoch 21/100\n",
      "15/15 [==============================] - 8s 517ms/step - loss: 1.0226 - acc: 0.6267 - val_loss: 1.3951 - val_acc: 0.5100\n",
      "Epoch 22/100\n",
      "15/15 [==============================] - 8s 518ms/step - loss: 1.2536 - acc: 0.5000 - val_loss: 1.4638 - val_acc: 0.5000\n",
      "Epoch 23/100\n",
      "15/15 [==============================] - 8s 519ms/step - loss: 1.3345 - acc: 0.5467 - val_loss: 2.0613 - val_acc: 0.3800\n",
      "Epoch 24/100\n",
      "15/15 [==============================] - 8s 522ms/step - loss: 1.2859 - acc: 0.5733 - val_loss: 1.5505 - val_acc: 0.4800\n",
      "Epoch 25/100\n",
      "15/15 [==============================] - 8s 518ms/step - loss: 1.1035 - acc: 0.6000 - val_loss: 1.1924 - val_acc: 0.5700\n",
      "Epoch 26/100\n",
      "15/15 [==============================] - 8s 521ms/step - loss: 1.1617 - acc: 0.5600 - val_loss: 1.5634 - val_acc: 0.4800\n",
      "Epoch 27/100\n",
      "15/15 [==============================] - 8s 522ms/step - loss: 1.2393 - acc: 0.5800 - val_loss: 1.9968 - val_acc: 0.3900\n",
      "Epoch 28/100\n",
      "15/15 [==============================] - 8s 519ms/step - loss: 1.2662 - acc: 0.5400 - val_loss: 1.3154 - val_acc: 0.5600\n",
      "Epoch 29/100\n",
      "15/15 [==============================] - 8s 518ms/step - loss: 1.1843 - acc: 0.5133 - val_loss: 1.2970 - val_acc: 0.5500\n",
      "Epoch 30/100\n",
      "15/15 [==============================] - 8s 516ms/step - loss: 1.0758 - acc: 0.6067 - val_loss: 1.7329 - val_acc: 0.4300\n",
      "Epoch 31/100\n",
      "15/15 [==============================] - 8s 522ms/step - loss: 1.3038 - acc: 0.4933 - val_loss: 1.7768 - val_acc: 0.3200\n",
      "Epoch 32/100\n",
      "15/15 [==============================] - 8s 520ms/step - loss: 0.9326 - acc: 0.6533 - val_loss: 1.4167 - val_acc: 0.4900\n",
      "Epoch 33/100\n",
      "15/15 [==============================] - 8s 515ms/step - loss: 1.0069 - acc: 0.6400 - val_loss: 1.7282 - val_acc: 0.3800\n",
      "Epoch 34/100\n",
      "15/15 [==============================] - 8s 522ms/step - loss: 1.1429 - acc: 0.5333 - val_loss: 2.0820 - val_acc: 0.4200\n",
      "Epoch 35/100\n",
      "15/15 [==============================] - 8s 519ms/step - loss: 1.0857 - acc: 0.5933 - val_loss: 1.4418 - val_acc: 0.5400\n",
      "Epoch 36/100\n",
      "15/15 [==============================] - 8s 515ms/step - loss: 1.0432 - acc: 0.5867 - val_loss: 2.3017 - val_acc: 0.2400\n",
      "Epoch 37/100\n",
      "15/15 [==============================] - 8s 529ms/step - loss: 1.1666 - acc: 0.5600 - val_loss: 2.2517 - val_acc: 0.3400\n",
      "Epoch 38/100\n",
      "15/15 [==============================] - 8s 519ms/step - loss: 0.9333 - acc: 0.6733 - val_loss: 1.7545 - val_acc: 0.4000\n",
      "Epoch 39/100\n",
      "15/15 [==============================] - 8s 522ms/step - loss: 1.0957 - acc: 0.6000 - val_loss: 3.0734 - val_acc: 0.2400\n",
      "Epoch 40/100\n",
      "15/15 [==============================] - 8s 520ms/step - loss: 1.0554 - acc: 0.6000 - val_loss: 1.2001 - val_acc: 0.6400\n",
      "Epoch 41/100\n",
      "15/15 [==============================] - 8s 515ms/step - loss: 1.0322 - acc: 0.5934 - val_loss: 1.5549 - val_acc: 0.4400\n",
      "Epoch 42/100\n",
      "15/15 [==============================] - 8s 521ms/step - loss: 1.0680 - acc: 0.5933 - val_loss: 1.6738 - val_acc: 0.4800\n",
      "Epoch 43/100\n",
      "15/15 [==============================] - 8s 534ms/step - loss: 1.1223 - acc: 0.5933 - val_loss: 1.7544 - val_acc: 0.4500\n",
      "Epoch 44/100\n",
      "15/15 [==============================] - 8s 526ms/step - loss: 1.0742 - acc: 0.6133 - val_loss: 1.3402 - val_acc: 0.5100\n",
      "Epoch 45/100\n",
      "15/15 [==============================] - 8s 532ms/step - loss: 0.9141 - acc: 0.6667 - val_loss: 1.1700 - val_acc: 0.6100\n",
      "Epoch 46/100\n",
      "15/15 [==============================] - 8s 520ms/step - loss: 1.0793 - acc: 0.6067 - val_loss: 1.1586 - val_acc: 0.5300\n",
      "Epoch 47/100\n",
      "15/15 [==============================] - 8s 530ms/step - loss: 0.8373 - acc: 0.6800 - val_loss: 1.5689 - val_acc: 0.4700\n",
      "Epoch 48/100\n",
      "15/15 [==============================] - 8s 523ms/step - loss: 0.8406 - acc: 0.6933 - val_loss: 2.0008 - val_acc: 0.4900\n",
      "Epoch 49/100\n",
      "15/15 [==============================] - 8s 532ms/step - loss: 0.9522 - acc: 0.6800 - val_loss: 1.1903 - val_acc: 0.5800\n",
      "Epoch 50/100\n",
      "15/15 [==============================] - 8s 522ms/step - loss: 0.8701 - acc: 0.6867 - val_loss: 1.5086 - val_acc: 0.4900\n",
      "Epoch 51/100\n",
      "15/15 [==============================] - 8s 535ms/step - loss: 0.9504 - acc: 0.6733 - val_loss: 1.2835 - val_acc: 0.5800\n",
      "Epoch 52/100\n",
      "15/15 [==============================] - 8s 532ms/step - loss: 0.8786 - acc: 0.7067 - val_loss: 1.3899 - val_acc: 0.5100\n",
      "Epoch 53/100\n",
      "15/15 [==============================] - 8s 533ms/step - loss: 0.8903 - acc: 0.6667 - val_loss: 1.2881 - val_acc: 0.5600\n",
      "Epoch 54/100\n",
      "15/15 [==============================] - 8s 528ms/step - loss: 0.9191 - acc: 0.6667 - val_loss: 1.6750 - val_acc: 0.3800\n",
      "Epoch 55/100\n",
      "15/15 [==============================] - 8s 528ms/step - loss: 0.7880 - acc: 0.7333 - val_loss: 1.5437 - val_acc: 0.5500\n",
      "Epoch 56/100\n",
      "15/15 [==============================] - 8s 531ms/step - loss: 0.8612 - acc: 0.6667 - val_loss: 1.2472 - val_acc: 0.5600\n",
      "Epoch 57/100\n",
      "15/15 [==============================] - 8s 521ms/step - loss: 0.9165 - acc: 0.7067 - val_loss: 1.0920 - val_acc: 0.6000\n",
      "Epoch 58/100\n",
      "15/15 [==============================] - 8s 520ms/step - loss: 1.1197 - acc: 0.5933 - val_loss: 2.1793 - val_acc: 0.4000\n",
      "Epoch 59/100\n",
      "15/15 [==============================] - 8s 521ms/step - loss: 0.9494 - acc: 0.6533 - val_loss: 1.2806 - val_acc: 0.5500\n",
      "Epoch 60/100\n",
      "15/15 [==============================] - 8s 520ms/step - loss: 0.9692 - acc: 0.7133 - val_loss: 2.7019 - val_acc: 0.3500\n",
      "Epoch 61/100\n",
      "15/15 [==============================] - 8s 522ms/step - loss: 0.9246 - acc: 0.7267 - val_loss: 1.1600 - val_acc: 0.5800\n",
      "Epoch 62/100\n"
     ]
    },
    {
     "name": "stdout",
     "output_type": "stream",
     "text": [
      "15/15 [==============================] - 8s 519ms/step - loss: 0.9340 - acc: 0.6533 - val_loss: 1.7341 - val_acc: 0.5200\n",
      "Epoch 63/100\n",
      "15/15 [==============================] - 8s 539ms/step - loss: 0.6676 - acc: 0.7933 - val_loss: 1.3438 - val_acc: 0.5700\n",
      "Epoch 64/100\n",
      "15/15 [==============================] - 9s 571ms/step - loss: 0.9651 - acc: 0.6667 - val_loss: 1.9915 - val_acc: 0.2900\n",
      "Epoch 65/100\n",
      "15/15 [==============================] - 8s 533ms/step - loss: 0.7814 - acc: 0.7600 - val_loss: 1.5194 - val_acc: 0.4700\n",
      "Epoch 66/100\n",
      "15/15 [==============================] - 8s 538ms/step - loss: 0.7977 - acc: 0.7000 - val_loss: 1.2174 - val_acc: 0.5200\n",
      "Epoch 67/100\n",
      "15/15 [==============================] - 8s 552ms/step - loss: 0.7165 - acc: 0.7467 - val_loss: 1.2030 - val_acc: 0.5000\n",
      "Epoch 68/100\n",
      "15/15 [==============================] - 8s 531ms/step - loss: 0.7598 - acc: 0.7467 - val_loss: 1.2823 - val_acc: 0.5800\n",
      "Epoch 69/100\n",
      "15/15 [==============================] - 8s 548ms/step - loss: 1.0188 - acc: 0.6667 - val_loss: 1.2688 - val_acc: 0.5900\n",
      "Epoch 70/100\n",
      "15/15 [==============================] - 8s 545ms/step - loss: 0.9200 - acc: 0.6933 - val_loss: 1.0852 - val_acc: 0.6100\n",
      "Epoch 71/100\n",
      "15/15 [==============================] - 8s 546ms/step - loss: 0.7506 - acc: 0.7067 - val_loss: 1.8498 - val_acc: 0.3600\n",
      "Epoch 72/100\n",
      "15/15 [==============================] - 8s 520ms/step - loss: 0.8533 - acc: 0.6800 - val_loss: 1.4417 - val_acc: 0.5900\n",
      "Epoch 73/100\n",
      "15/15 [==============================] - 8s 530ms/step - loss: 0.8225 - acc: 0.7467 - val_loss: 1.2625 - val_acc: 0.5400\n",
      "Epoch 74/100\n",
      "15/15 [==============================] - 8s 530ms/step - loss: 0.9360 - acc: 0.7000 - val_loss: 1.1429 - val_acc: 0.6200\n",
      "Epoch 75/100\n",
      "15/15 [==============================] - 8s 527ms/step - loss: 0.8573 - acc: 0.7133 - val_loss: 1.2710 - val_acc: 0.5800\n",
      "Epoch 76/100\n",
      "15/15 [==============================] - 8s 521ms/step - loss: 0.8234 - acc: 0.7033 - val_loss: 1.1327 - val_acc: 0.5900\n",
      "Epoch 77/100\n",
      "15/15 [==============================] - 8s 523ms/step - loss: 0.8580 - acc: 0.7400 - val_loss: 1.0683 - val_acc: 0.6000\n",
      "Epoch 78/100\n",
      "15/15 [==============================] - 8s 531ms/step - loss: 0.8198 - acc: 0.7133 - val_loss: 1.2037 - val_acc: 0.5700\n",
      "Epoch 79/100\n",
      "15/15 [==============================] - 8s 519ms/step - loss: 0.7213 - acc: 0.7533 - val_loss: 1.1368 - val_acc: 0.6200\n",
      "Epoch 80/100\n",
      "15/15 [==============================] - 8s 522ms/step - loss: 0.7602 - acc: 0.7000 - val_loss: 1.7294 - val_acc: 0.5200\n",
      "Epoch 81/100\n",
      "15/15 [==============================] - 8s 522ms/step - loss: 0.8774 - acc: 0.7267 - val_loss: 1.6467 - val_acc: 0.4500\n",
      "Epoch 82/100\n",
      "15/15 [==============================] - 8s 523ms/step - loss: 0.9238 - acc: 0.6667 - val_loss: 1.0178 - val_acc: 0.6500\n",
      "Epoch 83/100\n",
      "15/15 [==============================] - 8s 519ms/step - loss: 0.9117 - acc: 0.6533 - val_loss: 1.0599 - val_acc: 0.6300\n",
      "Epoch 84/100\n",
      "15/15 [==============================] - 8s 520ms/step - loss: 0.9232 - acc: 0.6467 - val_loss: 1.3000 - val_acc: 0.4800\n",
      "Epoch 85/100\n",
      "15/15 [==============================] - 8s 515ms/step - loss: 0.7511 - acc: 0.7000 - val_loss: 1.0524 - val_acc: 0.6100\n",
      "Epoch 86/100\n",
      "15/15 [==============================] - 8s 521ms/step - loss: 0.8838 - acc: 0.6600 - val_loss: 1.6360 - val_acc: 0.4300\n",
      "Epoch 87/100\n",
      "15/15 [==============================] - 8s 530ms/step - loss: 0.7547 - acc: 0.7667 - val_loss: 1.3349 - val_acc: 0.4600\n",
      "Epoch 88/100\n",
      "15/15 [==============================] - 8s 518ms/step - loss: 0.8994 - acc: 0.7067 - val_loss: 1.0742 - val_acc: 0.6500\n",
      "Epoch 89/100\n",
      "15/15 [==============================] - 8s 522ms/step - loss: 0.6151 - acc: 0.7533 - val_loss: 1.5083 - val_acc: 0.5400\n",
      "Epoch 90/100\n",
      "15/15 [==============================] - 8s 520ms/step - loss: 0.4880 - acc: 0.8467 - val_loss: 0.9643 - val_acc: 0.6800\n",
      "Epoch 91/100\n",
      "15/15 [==============================] - 8s 521ms/step - loss: 0.7551 - acc: 0.7733 - val_loss: 1.2548 - val_acc: 0.6000\n",
      "Epoch 92/100\n",
      "15/15 [==============================] - 8s 518ms/step - loss: 0.7592 - acc: 0.7267 - val_loss: 1.1008 - val_acc: 0.6300\n",
      "Epoch 93/100\n",
      "15/15 [==============================] - 8s 522ms/step - loss: 0.7250 - acc: 0.7467 - val_loss: 1.0671 - val_acc: 0.6800\n",
      "Epoch 94/100\n",
      "15/15 [==============================] - 8s 521ms/step - loss: 0.6513 - acc: 0.7933 - val_loss: 1.1587 - val_acc: 0.5800\n",
      "Epoch 95/100\n",
      "15/15 [==============================] - 8s 520ms/step - loss: 0.7153 - acc: 0.7600 - val_loss: 1.1951 - val_acc: 0.6200\n",
      "Epoch 96/100\n",
      "15/15 [==============================] - 8s 517ms/step - loss: 0.7424 - acc: 0.7667 - val_loss: 0.9870 - val_acc: 0.6400\n",
      "Epoch 97/100\n",
      "15/15 [==============================] - 8s 520ms/step - loss: 0.5752 - acc: 0.8067 - val_loss: 0.9374 - val_acc: 0.7300\n",
      "Epoch 98/100\n",
      "15/15 [==============================] - 8s 515ms/step - loss: 0.6328 - acc: 0.7751 - val_loss: 1.4680 - val_acc: 0.5300\n",
      "Epoch 99/100\n",
      "15/15 [==============================] - 8s 519ms/step - loss: 0.7809 - acc: 0.7200 - val_loss: 1.3791 - val_acc: 0.5700\n",
      "Epoch 100/100\n",
      "15/15 [==============================] - 8s 522ms/step - loss: 0.8235 - acc: 0.6933 - val_loss: 1.2469 - val_acc: 0.5400\n"
     ]
    }
   ],
   "source": [
    "hist = model.fit_generator(training_set,\n",
    "                         steps_per_epoch = 15, #20\n",
    "                         epochs = 100,  #1000\n",
    "                         validation_data = validation_set,\n",
    "                         validation_steps = 10,\n",
    "                         callbacks=[es,mc])\n",
    " "
   ]
  },
  {
   "cell_type": "markdown",
   "metadata": {},
   "source": [
    "## 학습 결과 확인: 그래프"
   ]
  },
  {
   "cell_type": "code",
   "execution_count": 8,
   "metadata": {
    "scrolled": true
   },
   "outputs": [
    {
     "data": {
      "image/png": "[encoded data removed]",
      "text/plain": [
       "<Figure size 432x288 with 2 Axes>"
      ]
     },
     "metadata": {
      "needs_background": "light"
     },
     "output_type": "display_data"
    }
   ],
   "source": [
    "# 학습 과정 정확도, 손실함수 변화 그래프로 보기\n",
    "\n",
    "import matplotlib.pyplot as plt\n",
    " \n",
    "fig, loss_ax = plt.subplots()\n",
    "acc_ax = loss_ax.twinx()\n",
    " \n",
    "#loss_ax.plot(hist.history['loss'], 'y', label='train loss')\n",
    "loss_ax.plot(hist.history['val_loss'], 'r', label='val loss')\n",
    "##loss_ax.set_ylim([0.0, 0.5])\n",
    " \n",
    "#acc_ax.plot(hist.history['acc'], 'b', label='train acc')\n",
    "acc_ax.plot(hist.history['val_acc'], 'g', label='val acc')\n",
    "##acc_ax.set_ylim([0.8, 1.0])\n",
    " \n",
    "loss_ax.set_xlabel('epoch')\n",
    "loss_ax.set_ylabel('loss')\n",
    "acc_ax.set_ylabel('accuray')\n",
    " \n",
    "loss_ax.legend(loc='upper left')\n",
    "acc_ax.legend(loc='lower left')\n",
    " \n",
    "plt.show()"
   ]
  },
  {
   "cell_type": "code",
   "execution_count": 9,
   "metadata": {},
   "outputs": [
    {
     "data": {
      "image/png": "[encoded data removed]",
      "text/plain": [
       "<Figure size 432x288 with 2 Axes>"
      ]
     },
     "metadata": {
      "needs_background": "light"
     },
     "output_type": "display_data"
    }
   ],
   "source": [
    "# 학습 과정 정확도, 손실함수 변화 그래프로 보기\n",
    "\n",
    "import matplotlib.pyplot as plt\n",
    " \n",
    "fig, loss_ax = plt.subplots()\n",
    "acc_ax = loss_ax.twinx()\n",
    " \n",
    "loss_ax.plot(hist.history['loss'], 'y', label='train loss')\n",
    "#loss_ax.plot(hist.history['val_loss'], 'r', label='val loss')\n",
    "##loss_ax.set_ylim([0.0, 0.5])\n",
    " \n",
    "acc_ax.plot(hist.history['acc'], 'b', label='train acc')\n",
    "#acc_ax.plot(hist.history['val_acc'], 'g', label='val acc')\n",
    "##acc_ax.set_ylim([0.8, 1.0])\n",
    " \n",
    "loss_ax.set_xlabel('epoch')\n",
    "loss_ax.set_ylabel('loss')\n",
    "acc_ax.set_ylabel('accuray')\n",
    " \n",
    "loss_ax.legend(loc='upper left')\n",
    "acc_ax.legend(loc='lower left')\n",
    " \n",
    "plt.show()"
   ]
  },
  {
   "cell_type": "code",
   "execution_count": null,
   "metadata": {},
   "outputs": [],
   "source": [
    "# 다른 방식으로 나타낸 그래프\n",
    "\n",
    "acc = hist.history['acc']\n",
    "val_acc = hist.history['val_acc']\n",
    "loss = hist.history['loss']\n",
    "val_loss = hist.history['val_loss']\n",
    "\n",
    "epochs = range(len(acc))\n",
    "\n",
    "plt.plot(epochs, acc, 'bo', label='Training acc')\n",
    "plt.plot(epochs, val_acc, 'b', label='Validation acc')\n",
    "plt.title('Training and validation accuracy')\n",
    "plt.legend()\n",
    "\n",
    "plt.figure()\n",
    "\n",
    "plt.plot(epochs, loss, 'bo', label='Training loss')\n",
    "plt.plot(epochs, val_loss, 'b', label='Validation loss')\n",
    "plt.title('Training and validation loss')\n",
    "plt.legend()\n",
    "\n",
    "plt.show()"
   ]
  },
  {
   "cell_type": "markdown",
   "metadata": {},
   "source": [
    "## 학습 결과 확인: 정확도 및 예측"
   ]
  },
  {
   "cell_type": "code",
   "execution_count": null,
   "metadata": {},
   "outputs": [],
   "source": [
    "# output = classifier.predict_generator(test_set, steps=5)\n",
    "# print(test_set.class_indices)\n",
    "# print(output)\n",
    " \n",
    "# 모델 평가하기\n",
    "print(\"-- Evaluate : training acc --\") \n",
    "train_scores = model.evaluate_generator(\n",
    "               training_set,\n",
    "               steps = 10) \n",
    "print(\"%s: %.2f%%\" %(model.metrics_names[1], train_scores[1]*100))\n",
    "print('\\n')\n",
    "\n",
    "\n",
    "print(\"-- Evaluate : validation acc --\") \n",
    "vali_scores = model.evaluate_generator(\n",
    "            validation_set,\n",
    "            steps = 10) \n",
    "print(\"%s: %.2f%%\" %(model.metrics_names[1], vali_scores[1]*100))\n",
    " \n",
    "    \n",
    "    \n",
    "# 모델 예측하기\n",
    "# print(\"-- Predict --\")\n",
    " \n",
    "# output = model.predict_generator(\n",
    "#             validation_set,\n",
    "#             steps = 100)\n",
    "# print(validation_set.class_indices)\n",
    "# np.set_printoptions(formatter={'float': lambda x: \"{0:0.3f}\".format(x)})\n",
    "# print(output) "
   ]
  },
  {
   "cell_type": "markdown",
   "metadata": {},
   "source": [
    "## 모델 저장"
   ]
  },
  {
   "cell_type": "code",
   "execution_count": null,
   "metadata": {},
   "outputs": [],
   "source": [
    "# 모델 저장\n",
    "\n",
    "\n",
    "from keras.models import load_model, model_from_json\n",
    "model.save('pattern_no_camo_정확도76.h5')                      # 모델(architecture, weight 동시 저장) 저장 이름\n",
    "\n",
    "\n",
    "# 모델 아키텍처를 json 형, 식으로 저장                 # 모델 architecture 만 저장 \n",
    "#json_string = model.to_json()                       # json 파일에서 모델 아키텍처 재구성\n",
    "#model = model_from_json(json_string) \n",
    "\n",
    "\n",
    "# 모델 Weights 저장\n",
    "# model.save_weights('파일이름')\n"
   ]
  },
  {
   "cell_type": "markdown",
   "metadata": {},
   "source": [
    "## 저장 모델 load 및 예측"
   ]
  },
  {
   "cell_type": "code",
   "execution_count": null,
   "metadata": {},
   "outputs": [],
   "source": [
    "from keras.models import load_model\n",
    "\n",
    "model = load_model('./model/pattern_no_camo_정확도76.h5') # 불러올 모델 이름"
   ]
  },
  {
   "cell_type": "code",
   "execution_count": null,
   "metadata": {
    "scrolled": true
   },
   "outputs": [],
   "source": [
    "import json\n",
    "import pprint\n",
    "\n",
    "model_json = model.to_json()\n",
    "pprint.pprint(json.loads(model_json))"
   ]
  },
  {
   "cell_type": "code",
   "execution_count": null,
   "metadata": {
    "scrolled": true
   },
   "outputs": [],
   "source": [
    "img = Image.open('C:/python_DA/img/test/026.jpg')  # 불러올 이미지 경로\n",
    "plt.imshow(img)\n",
    "\n",
    "img = img.resize((150,150))\n",
    "data = np.array(img)\n",
    "data = data.astype('float')\n",
    "data = data/255\n",
    "data = data.reshape((1,150,150,3))               # RGB, Gray에 따라서 shape의 depth 설정\n",
    "\n",
    "\n",
    "#result = np.argmax(data)\n",
    "\n",
    "var = list(training_set.class_indices.keys())   # y에 해당되는 값\n",
    "print(var)\n",
    "\n",
    "result = model.predict_classes(data)[0]\n",
    "print(result)\n",
    "\n",
    "print('--이 사진의 pattern 값--')\n",
    "print(var[result])\n",
    "\n"
   ]
  }
 ],
 "metadata": {
  "kernelspec": {
   "display_name": "[CPU_ENV]",
   "language": "python",
   "name": "cpu_env"
  },
  "language_info": {
   "codemirror_mode": {
    "name": "ipython",
    "version": 3
   },
   "file_extension": ".py",
   "mimetype": "text/x-python",
   "name": "python",
   "nbconvert_exporter": "python",
   "pygments_lexer": "ipython3",
   "version": "3.6.9"
  }
 },
 "nbformat": 4,
 "nbformat_minor": 2
}
