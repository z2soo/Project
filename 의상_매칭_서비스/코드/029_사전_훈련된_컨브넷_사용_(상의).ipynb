{
 "cells": [
  {
   "cell_type": "code",
   "execution_count": 2,
   "metadata": {},
   "outputs": [],
   "source": [
    "import cv2\n",
    "import os\n",
    "import shutil\n",
    "import numpy as np\n",
    "import pandas as pd\n",
    "import tensorflow as tf\n",
    "import matplotlib.pyplot as plt\n",
    "import matplotlib.image as mpimg\n",
    "from PIL import Image\n",
    "from sklearn.model_selection import train_test_split\n",
    "from keras import layers, Input, models, optimizers\n",
    "from keras.models import Model, Sequential\n",
    "from keras.layers import MaxPooling2D, Conv2D\n",
    "from keras.layers import Activation, Dropout, Flatten, Dense\n",
    "from keras.callbacks import ModelCheckpoint\n",
    "from keras.layers.normalization import BatchNormalization\n",
    "from keras.preprocessing.image import ImageDataGenerator\n",
    "from keras_preprocessing import image"
   ]
  },
  {
   "cell_type": "code",
   "execution_count": 3,
   "metadata": {},
   "outputs": [],
   "source": [
    "from keras.applications import VGG16\n",
    "\n",
    "conv_base = VGG16(weights = 'imagenet',\n",
    "                 include_top=False,\n",
    "                 input_shape=(150,150,3))"
   ]
  },
  {
   "cell_type": "code",
   "execution_count": 4,
   "metadata": {},
   "outputs": [],
   "source": [
    "base_dir = './data/clothes_category_small'\n",
    "train_dir = os.path.join(base_dir, 'train')\n",
    "validation_dir = os.path.join(base_dir, 'validation')\n",
    "test_dir = os.path.join(base_dir, 'test')\n",
    "\n",
    "datagen = ImageDataGenerator(rescale=1./255)\n",
    "batch_size = 20"
   ]
  },
  {
   "cell_type": "code",
   "execution_count": 5,
   "metadata": {},
   "outputs": [],
   "source": [
    "def extract_features(directory,sample_count):\n",
    "    features = np.zeros(shape=(sample_count, 4, 4, 512))\n",
    "    labels = np.zeros(shape=(sample_count,13))\n",
    "    generator = datagen.flow_from_directory(\n",
    "        directory,\n",
    "        target_size=(150,150),\n",
    "        batch_size=batch_size,\n",
    "        class_mode='categorical')\n",
    "    i = 0\n",
    "    for inputs_batch, labels_batch in generator:\n",
    "        features_batch = conv_base.predict(inputs_batch)\n",
    "        features[i * batch_size : (i + 1) * batch_size] = features_batch\n",
    "        labels[i * batch_size : (i + 1) * batch_size] = labels_batch\n",
    "        i += 1\n",
    "        if i * batch_size >= sample_count:\n",
    "            break\n",
    "    return features, labels"
   ]
  },
  {
   "cell_type": "code",
   "execution_count": 9,
   "metadata": {},
   "outputs": [
    {
     "name": "stdout",
     "output_type": "stream",
     "text": [
      "Found 4908 images belonging to 13 classes.\n"
     ]
    }
   ],
   "source": [
    "train_sampel = 4908\n",
    "\n",
    "train_features, train_labels = extract_features(train_dir, train_sampel) #5096"
   ]
  },
  {
   "cell_type": "code",
   "execution_count": 10,
   "metadata": {},
   "outputs": [
    {
     "name": "stdout",
     "output_type": "stream",
     "text": [
      "Found 2454 images belonging to 13 classes.\n"
     ]
    }
   ],
   "source": [
    "validation_sample = 2454\n",
    "\n",
    "validation_features, validation_labels = extract_features(validation_dir, validation_sample) # 2548"
   ]
  },
  {
   "cell_type": "code",
   "execution_count": 12,
   "metadata": {},
   "outputs": [
    {
     "name": "stdout",
     "output_type": "stream",
     "text": [
      "Found 2452 images belonging to 13 classes.\n"
     ]
    }
   ],
   "source": [
    "test_sample = 2452\n",
    "\n",
    "test_features, test_labels = extract_features(test_dir, test_sample) #2547"
   ]
  },
  {
   "cell_type": "code",
   "execution_count": 13,
   "metadata": {},
   "outputs": [],
   "source": [
    "train_features = np.reshape(train_features,(train_sampel, 4 * 4 * 512))\n",
    "validation_features = np.reshape(validation_features,(validation_sample, 4 * 4 * 512))\n",
    "test_features = np.reshape(test_features,(test_sample, 4 * 4 * 512))"
   ]
  },
  {
   "cell_type": "code",
   "execution_count": 14,
   "metadata": {},
   "outputs": [],
   "source": [
    "from keras.callbacks import EarlyStopping\n",
    "from keras.callbacks import ModelCheckpoint\n",
    "es = EarlyStopping(monitor='val_loss', mode='min', verbose=1, patience=50)\n",
    "mc = ModelCheckpoint('best_model_pattern_0424.h5', monitor='val_loss', mode='min', save_best_only=True)"
   ]
  },
  {
   "cell_type": "code",
   "execution_count": 16,
   "metadata": {},
   "outputs": [],
   "source": [
    "from keras import models, layers, optimizers\n",
    "\n",
    "model = models.Sequential()\n",
    "model.add(layers.Dense(256, activation='relu', input_dim = 4 * 4 * 512))\n",
    "model.add(layers.Dropout(0.5))\n",
    "model.add(layers.Dense(13, activation='softmax'))\n",
    "model.compile(optimizer = optimizers.RMSprop(lr=2e-5),\n",
    "                         loss='categorical_crossentropy',\n",
    "                         metrics=['acc'])"
   ]
  },
  {
   "cell_type": "code",
   "execution_count": 17,
   "metadata": {},
   "outputs": [
    {
     "name": "stdout",
     "output_type": "stream",
     "text": [
      "Train on 4908 samples, validate on 2454 samples\n",
      "Epoch 1/500\n",
      "4908/4908 [==============================] - 6s 1ms/step - loss: 2.2922 - acc: 0.2335 - val_loss: 1.8116 - val_acc: 0.4992\n",
      "Epoch 2/500\n",
      "4908/4908 [==============================] - 6s 1ms/step - loss: 1.7485 - acc: 0.4374 - val_loss: 1.4816 - val_acc: 0.5962\n",
      "Epoch 3/500\n",
      "4908/4908 [==============================] - 6s 1ms/step - loss: 1.4501 - acc: 0.5371 - val_loss: 1.3017 - val_acc: 0.6353\n",
      "Epoch 4/500\n",
      "4908/4908 [==============================] - 6s 1ms/step - loss: 1.2699 - acc: 0.5913 - val_loss: 1.2117 - val_acc: 0.6483\n",
      "Epoch 5/500\n",
      "4908/4908 [==============================] - 6s 1ms/step - loss: 1.1602 - acc: 0.6233 - val_loss: 1.1224 - val_acc: 0.6703\n",
      "Epoch 6/500\n",
      "4908/4908 [==============================] - 6s 1ms/step - loss: 1.0463 - acc: 0.6685 - val_loss: 1.0825 - val_acc: 0.6809\n",
      "Epoch 7/500\n",
      "4908/4908 [==============================] - 6s 1ms/step - loss: 0.9778 - acc: 0.6866 - val_loss: 1.0477 - val_acc: 0.6879\n",
      "Epoch 8/500\n",
      "4908/4908 [==============================] - 6s 1ms/step - loss: 0.9268 - acc: 0.7099 - val_loss: 1.0215 - val_acc: 0.6932\n",
      "Epoch 9/500\n",
      "4908/4908 [==============================] - 6s 1ms/step - loss: 0.8679 - acc: 0.7174 - val_loss: 1.0144 - val_acc: 0.6940\n",
      "Epoch 10/500\n",
      "4908/4908 [==============================] - 6s 1ms/step - loss: 0.8186 - acc: 0.7425 - val_loss: 0.9663 - val_acc: 0.7021\n",
      "Epoch 11/500\n",
      "4908/4908 [==============================] - 6s 1ms/step - loss: 0.7737 - acc: 0.7537 - val_loss: 0.9513 - val_acc: 0.7115\n",
      "Epoch 12/500\n",
      "4908/4908 [==============================] - 6s 1ms/step - loss: 0.7293 - acc: 0.7681 - val_loss: 0.9339 - val_acc: 0.7176\n",
      "Epoch 13/500\n",
      "4908/4908 [==============================] - 6s 1ms/step - loss: 0.6966 - acc: 0.7806 - val_loss: 0.9252 - val_acc: 0.7164\n",
      "Epoch 14/500\n",
      "4908/4908 [==============================] - 6s 1ms/step - loss: 0.6654 - acc: 0.7950 - val_loss: 0.9057 - val_acc: 0.7213\n",
      "Epoch 15/500\n",
      "4908/4908 [==============================] - 6s 1ms/step - loss: 0.6289 - acc: 0.8046 - val_loss: 0.8961 - val_acc: 0.7249\n",
      "Epoch 16/500\n",
      "4908/4908 [==============================] - 6s 1ms/step - loss: 0.6106 - acc: 0.8077 - val_loss: 0.8916 - val_acc: 0.7270\n",
      "Epoch 17/500\n",
      "4908/4908 [==============================] - 6s 1ms/step - loss: 0.5834 - acc: 0.8223 - val_loss: 0.8928 - val_acc: 0.7274\n",
      "Epoch 18/500\n",
      "4908/4908 [==============================] - 6s 1ms/step - loss: 0.5686 - acc: 0.8282 - val_loss: 0.8998 - val_acc: 0.7241\n",
      "Epoch 19/500\n",
      "4908/4908 [==============================] - 6s 1ms/step - loss: 0.5473 - acc: 0.8311 - val_loss: 0.8772 - val_acc: 0.7347\n",
      "Epoch 20/500\n",
      "4908/4908 [==============================] - 6s 1ms/step - loss: 0.5250 - acc: 0.8384 - val_loss: 0.8772 - val_acc: 0.7351\n",
      "Epoch 21/500\n",
      "4908/4908 [==============================] - 6s 1ms/step - loss: 0.5026 - acc: 0.8488 - val_loss: 0.8666 - val_acc: 0.7331\n",
      "Epoch 22/500\n",
      "4908/4908 [==============================] - 6s 1ms/step - loss: 0.4781 - acc: 0.8602 - val_loss: 0.8678 - val_acc: 0.7376\n",
      "Epoch 23/500\n",
      "4908/4908 [==============================] - 6s 1ms/step - loss: 0.4768 - acc: 0.8559 - val_loss: 0.8642 - val_acc: 0.7416\n",
      "Epoch 24/500\n",
      "4908/4908 [==============================] - 6s 1ms/step - loss: 0.4530 - acc: 0.8700 - val_loss: 0.8635 - val_acc: 0.7368\n",
      "Epoch 25/500\n",
      "4908/4908 [==============================] - 6s 1ms/step - loss: 0.4374 - acc: 0.8743 - val_loss: 0.8482 - val_acc: 0.7449\n",
      "Epoch 26/500\n",
      "4908/4908 [==============================] - 6s 1ms/step - loss: 0.4144 - acc: 0.8788 - val_loss: 0.8473 - val_acc: 0.7441\n",
      "Epoch 27/500\n",
      "4908/4908 [==============================] - 6s 1ms/step - loss: 0.4061 - acc: 0.8818 - val_loss: 0.8671 - val_acc: 0.7421\n",
      "Epoch 28/500\n",
      "4908/4908 [==============================] - 6s 1ms/step - loss: 0.3919 - acc: 0.8859 - val_loss: 0.8643 - val_acc: 0.7445\n",
      "Epoch 29/500\n",
      "4908/4908 [==============================] - 6s 1ms/step - loss: 0.3801 - acc: 0.8904 - val_loss: 0.8319 - val_acc: 0.7425\n",
      "Epoch 30/500\n",
      "4908/4908 [==============================] - 6s 1ms/step - loss: 0.3661 - acc: 0.8971 - val_loss: 0.8462 - val_acc: 0.7482\n",
      "Epoch 31/500\n",
      "4908/4908 [==============================] - 6s 1ms/step - loss: 0.3598 - acc: 0.8981 - val_loss: 0.8471 - val_acc: 0.7437\n",
      "Epoch 32/500\n",
      "4908/4908 [==============================] - 6s 1ms/step - loss: 0.3501 - acc: 0.9020 - val_loss: 0.8511 - val_acc: 0.7474\n",
      "Epoch 33/500\n",
      "4908/4908 [==============================] - 6s 1ms/step - loss: 0.3379 - acc: 0.9028 - val_loss: 0.8420 - val_acc: 0.7453\n",
      "Epoch 34/500\n",
      "4908/4908 [==============================] - 6s 1ms/step - loss: 0.3193 - acc: 0.9136 - val_loss: 0.8275 - val_acc: 0.7478\n",
      "Epoch 35/500\n",
      "4908/4908 [==============================] - 6s 1ms/step - loss: 0.3196 - acc: 0.9114 - val_loss: 0.8387 - val_acc: 0.7494\n",
      "Epoch 36/500\n",
      "4908/4908 [==============================] - 6s 1ms/step - loss: 0.3066 - acc: 0.9165 - val_loss: 0.8255 - val_acc: 0.7494\n",
      "Epoch 37/500\n",
      "4908/4908 [==============================] - 6s 1ms/step - loss: 0.2946 - acc: 0.9207 - val_loss: 0.8462 - val_acc: 0.7465\n",
      "Epoch 38/500\n",
      "4908/4908 [==============================] - 6s 1ms/step - loss: 0.2913 - acc: 0.9214 - val_loss: 0.8401 - val_acc: 0.7453\n",
      "Epoch 39/500\n",
      "4908/4908 [==============================] - 6s 1ms/step - loss: 0.2854 - acc: 0.9220 - val_loss: 0.8350 - val_acc: 0.7490\n",
      "Epoch 40/500\n",
      "4908/4908 [==============================] - 6s 1ms/step - loss: 0.2629 - acc: 0.9334 - val_loss: 0.8337 - val_acc: 0.7514\n",
      "Epoch 41/500\n",
      "4908/4908 [==============================] - 6s 1ms/step - loss: 0.2656 - acc: 0.9273 - val_loss: 0.8326 - val_acc: 0.7486\n",
      "Epoch 42/500\n",
      "4908/4908 [==============================] - 6s 1ms/step - loss: 0.2461 - acc: 0.9372 - val_loss: 0.8464 - val_acc: 0.7490\n",
      "Epoch 43/500\n",
      "4908/4908 [==============================] - 6s 1ms/step - loss: 0.2403 - acc: 0.9407 - val_loss: 0.8373 - val_acc: 0.7526\n",
      "Epoch 44/500\n",
      "4908/4908 [==============================] - 6s 1ms/step - loss: 0.2309 - acc: 0.9419 - val_loss: 0.8326 - val_acc: 0.7457\n",
      "Epoch 45/500\n",
      "4908/4908 [==============================] - 6s 1ms/step - loss: 0.2180 - acc: 0.9485 - val_loss: 0.8488 - val_acc: 0.7518\n",
      "Epoch 46/500\n",
      "4908/4908 [==============================] - 6s 1ms/step - loss: 0.2252 - acc: 0.9425 - val_loss: 0.8312 - val_acc: 0.7506\n",
      "Epoch 47/500\n",
      "4908/4908 [==============================] - 6s 1ms/step - loss: 0.2127 - acc: 0.9476 - val_loss: 0.8479 - val_acc: 0.7518\n",
      "Epoch 48/500\n",
      "4908/4908 [==============================] - 6s 1ms/step - loss: 0.2087 - acc: 0.9489 - val_loss: 0.8408 - val_acc: 0.7494\n",
      "Epoch 49/500\n",
      "4908/4908 [==============================] - 6s 1ms/step - loss: 0.2037 - acc: 0.9497 - val_loss: 0.8379 - val_acc: 0.7498\n",
      "Epoch 50/500\n",
      "4908/4908 [==============================] - 6s 1ms/step - loss: 0.2009 - acc: 0.9535 - val_loss: 0.8508 - val_acc: 0.7539\n",
      "Epoch 51/500\n",
      "4908/4908 [==============================] - 6s 1ms/step - loss: 0.1906 - acc: 0.9548 - val_loss: 0.8494 - val_acc: 0.7522\n",
      "Epoch 52/500\n",
      "4908/4908 [==============================] - 6s 1ms/step - loss: 0.1865 - acc: 0.9552 - val_loss: 0.8463 - val_acc: 0.7539\n",
      "Epoch 53/500\n",
      "4908/4908 [==============================] - 6s 1ms/step - loss: 0.1911 - acc: 0.9513 - val_loss: 0.8432 - val_acc: 0.7539\n",
      "Epoch 54/500\n",
      "4908/4908 [==============================] - 6s 1ms/step - loss: 0.1725 - acc: 0.9599 - val_loss: 0.8728 - val_acc: 0.7547\n",
      "Epoch 55/500\n",
      "4908/4908 [==============================] - 6s 1ms/step - loss: 0.1714 - acc: 0.9584 - val_loss: 0.8502 - val_acc: 0.7526\n",
      "Epoch 56/500\n",
      "4908/4908 [==============================] - 6s 1ms/step - loss: 0.1680 - acc: 0.9607 - val_loss: 0.8494 - val_acc: 0.7551\n",
      "Epoch 57/500\n",
      "4908/4908 [==============================] - 6s 1ms/step - loss: 0.1604 - acc: 0.9637 - val_loss: 0.8749 - val_acc: 0.7543\n",
      "Epoch 58/500\n",
      "4908/4908 [==============================] - 6s 1ms/step - loss: 0.1526 - acc: 0.9656 - val_loss: 0.8607 - val_acc: 0.7526\n",
      "Epoch 59/500\n",
      "4908/4908 [==============================] - 6s 1ms/step - loss: 0.1499 - acc: 0.9666 - val_loss: 0.8513 - val_acc: 0.7575\n",
      "Epoch 60/500\n"
     ]
    },
    {
     "name": "stdout",
     "output_type": "stream",
     "text": [
      "4908/4908 [==============================] - 6s 1ms/step - loss: 0.1427 - acc: 0.9715 - val_loss: 0.8735 - val_acc: 0.7543\n",
      "Epoch 61/500\n",
      "4908/4908 [==============================] - 6s 1ms/step - loss: 0.1484 - acc: 0.9682 - val_loss: 0.8615 - val_acc: 0.7531\n",
      "Epoch 62/500\n",
      "4908/4908 [==============================] - 6s 1ms/step - loss: 0.1386 - acc: 0.9670 - val_loss: 0.8853 - val_acc: 0.7567\n",
      "Epoch 63/500\n",
      "4908/4908 [==============================] - 6s 1ms/step - loss: 0.1345 - acc: 0.9719 - val_loss: 0.8731 - val_acc: 0.7531\n",
      "Epoch 64/500\n",
      "4908/4908 [==============================] - 6s 1ms/step - loss: 0.1303 - acc: 0.9723 - val_loss: 0.8549 - val_acc: 0.7563\n",
      "Epoch 65/500\n",
      "4908/4908 [==============================] - 6s 1ms/step - loss: 0.1309 - acc: 0.9719 - val_loss: 0.8724 - val_acc: 0.7514\n",
      "Epoch 66/500\n",
      "4908/4908 [==============================] - 6s 1ms/step - loss: 0.1215 - acc: 0.9758 - val_loss: 0.8608 - val_acc: 0.7584\n",
      "Epoch 67/500\n",
      "4908/4908 [==============================] - 6s 1ms/step - loss: 0.1222 - acc: 0.9745 - val_loss: 0.8707 - val_acc: 0.7535\n",
      "Epoch 68/500\n",
      "4908/4908 [==============================] - 6s 1ms/step - loss: 0.1139 - acc: 0.9768 - val_loss: 0.8928 - val_acc: 0.7575\n",
      "Epoch 69/500\n",
      "4908/4908 [==============================] - 6s 1ms/step - loss: 0.1138 - acc: 0.9774 - val_loss: 0.8737 - val_acc: 0.7571\n",
      "Epoch 70/500\n",
      "4908/4908 [==============================] - 6s 1ms/step - loss: 0.1122 - acc: 0.9778 - val_loss: 0.8859 - val_acc: 0.7522\n",
      "Epoch 71/500\n",
      "4908/4908 [==============================] - 6s 1ms/step - loss: 0.1061 - acc: 0.9794 - val_loss: 0.8803 - val_acc: 0.7539\n",
      "Epoch 72/500\n",
      "4908/4908 [==============================] - 6s 1ms/step - loss: 0.1065 - acc: 0.9794 - val_loss: 0.9005 - val_acc: 0.7547\n",
      "Epoch 73/500\n",
      "4908/4908 [==============================] - 6s 1ms/step - loss: 0.1037 - acc: 0.9794 - val_loss: 0.8918 - val_acc: 0.7579\n",
      "Epoch 74/500\n",
      "4908/4908 [==============================] - 6s 1ms/step - loss: 0.0939 - acc: 0.9815 - val_loss: 0.8860 - val_acc: 0.7535\n",
      "Epoch 75/500\n",
      "4908/4908 [==============================] - 6s 1ms/step - loss: 0.0991 - acc: 0.9819 - val_loss: 0.8921 - val_acc: 0.7551\n",
      "Epoch 76/500\n",
      "4908/4908 [==============================] - 6s 1ms/step - loss: 0.0913 - acc: 0.9835 - val_loss: 0.8891 - val_acc: 0.7604\n",
      "Epoch 77/500\n",
      "4908/4908 [==============================] - 6s 1ms/step - loss: 0.0916 - acc: 0.9845 - val_loss: 0.9056 - val_acc: 0.7600\n",
      "Epoch 78/500\n",
      "4908/4908 [==============================] - 6s 1ms/step - loss: 0.0856 - acc: 0.9863 - val_loss: 0.9054 - val_acc: 0.7547\n",
      "Epoch 79/500\n",
      "4908/4908 [==============================] - 6s 1ms/step - loss: 0.0870 - acc: 0.9855 - val_loss: 0.9208 - val_acc: 0.7563\n",
      "Epoch 80/500\n",
      "4908/4908 [==============================] - 6s 1ms/step - loss: 0.0846 - acc: 0.9845 - val_loss: 0.9286 - val_acc: 0.7551\n",
      "Epoch 81/500\n",
      "4908/4908 [==============================] - 6s 1ms/step - loss: 0.0827 - acc: 0.9839 - val_loss: 0.9203 - val_acc: 0.7539\n",
      "Epoch 82/500\n",
      "4908/4908 [==============================] - 6s 1ms/step - loss: 0.0815 - acc: 0.9880 - val_loss: 0.9108 - val_acc: 0.7551\n",
      "Epoch 83/500\n",
      "4908/4908 [==============================] - 6s 1ms/step - loss: 0.0759 - acc: 0.9857 - val_loss: 0.9159 - val_acc: 0.7588\n",
      "Epoch 84/500\n",
      "4908/4908 [==============================] - 6s 1ms/step - loss: 0.0713 - acc: 0.9884 - val_loss: 0.9320 - val_acc: 0.7579\n",
      "Epoch 85/500\n",
      "4908/4908 [==============================] - 6s 1ms/step - loss: 0.0717 - acc: 0.9874 - val_loss: 0.9177 - val_acc: 0.7575\n",
      "Epoch 86/500\n",
      "4908/4908 [==============================] - 6s 1ms/step - loss: 0.0713 - acc: 0.9876 - val_loss: 0.9493 - val_acc: 0.7539\n",
      "Epoch 00086: early stopping\n"
     ]
    }
   ],
   "source": [
    "history = model.fit(train_features, train_labels,\n",
    "                   epochs=500,\n",
    "                   batch_size=20,\n",
    "                   validation_data=(validation_features, validation_labels),\n",
    "                   callbacks=[es,mc])"
   ]
  },
  {
   "cell_type": "code",
   "execution_count": 18,
   "metadata": {},
   "outputs": [],
   "source": [
    "model.save('category0424_9875.h5')"
   ]
  },
  {
   "cell_type": "code",
   "execution_count": 19,
   "metadata": {},
   "outputs": [
    {
     "data": {
      "image/png": "[encoded data removed]",
      "text/plain": [
       "<matplotlib.figure.Figure at 0x1f15d15e128>"
      ]
     },
     "metadata": {
      "needs_background": "light"
     },
     "output_type": "display_data"
    },
    {
     "data": {
      "image/png": "[encoded data removed]",
      "text/plain": [
       "<matplotlib.figure.Figure at 0x1f1004693c8>"
      ]
     },
     "metadata": {
      "needs_background": "light"
     },
     "output_type": "display_data"
    }
   ],
   "source": [
    "acc = history.history['acc']\n",
    "val_acc = history.history['val_acc']\n",
    "loss = history.history['loss']\n",
    "val_loss = history.history['val_loss']\n",
    "epochs = range(1, len(acc) + 1)\n",
    "\n",
    "plt.plot(epochs, acc, 'bo', label = 'Training acc')\n",
    "plt.plot(epochs, val_acc, 'b', label = 'Validation acc')\n",
    "# plt.tilte('Training and validation accuracy')\n",
    "plt.legend()\n",
    "\n",
    "plt.figure()\n",
    "\n",
    "plt.plot(epochs, loss, 'bo', label = 'Training loss')\n",
    "plt.plot(epochs, val_loss, 'b', label = 'Validation loss')\n",
    "# plt.tilte('Training and validation loss')\n",
    "plt.legend()\n",
    "\n",
    "plt.show()"
   ]
  }
 ],
 "metadata": {
  "kernelspec": {
   "display_name": "[CPU_ENV]",
   "language": "python",
   "name": "cpu_env"
  },
  "language_info": {
   "codemirror_mode": {
    "name": "ipython",
    "version": 3
   },
   "file_extension": ".py",
   "mimetype": "text/x-python",
   "name": "python",
   "nbconvert_exporter": "python",
   "pygments_lexer": "ipython3",
   "version": "3.6.10"
  }
 },
 "nbformat": 4,
 "nbformat_minor": 4
}
