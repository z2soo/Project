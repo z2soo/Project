{
 "cells": [
  {
   "cell_type": "code",
   "execution_count": 2,
   "metadata": {},
   "outputs": [],
   "source": [
    "import cv2\n",
    "import os\n",
    "import numpy as np\n",
    "import pandas as pd\n",
    "import tensorflow as tf\n",
    "import matplotlib.pyplot as plt\n",
    "from PIL import Image\n",
    "from sklearn.model_selection import train_test_split\n",
    "from keras import layers, Input, models, optimizers\n",
    "from keras.models import Model, Sequential\n",
    "from keras.layers import MaxPooling2D, Conv2D\n",
    "from keras.layers import Activation, Dropout, Flatten, Dense\n",
    "from keras.callbacks import ModelCheckpoint\n",
    "from keras.layers.normalization import BatchNormalization\n",
    "from keras.preprocessing.image import ImageDataGenerator"
   ]
  },
  {
   "cell_type": "code",
   "execution_count": 3,
   "metadata": {},
   "outputs": [
    {
     "name": "stdout",
     "output_type": "stream",
     "text": [
      "_________________________________________________________________\n",
      "Layer (type)                 Output Shape              Param #   \n",
      "=================================================================\n",
      "conv2d_1 (Conv2D)            (None, 150, 150, 16)      432       \n",
      "_________________________________________________________________\n",
      "batch_normalization_1 (Batch (None, 150, 150, 16)      48        \n",
      "_________________________________________________________________\n",
      "activation_1 (Activation)    (None, 150, 150, 16)      0         \n",
      "_________________________________________________________________\n",
      "max_pooling2d_1 (MaxPooling2 (None, 38, 38, 16)        0         \n",
      "_________________________________________________________________\n",
      "conv2d_2 (Conv2D)            (None, 38, 38, 32)        4608      \n",
      "_________________________________________________________________\n",
      "batch_normalization_2 (Batch (None, 38, 38, 32)        96        \n",
      "_________________________________________________________________\n",
      "activation_2 (Activation)    (None, 38, 38, 32)        0         \n",
      "_________________________________________________________________\n",
      "max_pooling2d_2 (MaxPooling2 (None, 10, 10, 32)        0         \n",
      "_________________________________________________________________\n",
      "conv2d_3 (Conv2D)            (None, 10, 10, 64)        18432     \n",
      "_________________________________________________________________\n",
      "batch_normalization_3 (Batch (None, 10, 10, 64)        192       \n",
      "_________________________________________________________________\n",
      "activation_3 (Activation)    (None, 10, 10, 64)        0         \n",
      "_________________________________________________________________\n",
      "max_pooling2d_3 (MaxPooling2 (None, 3, 3, 64)          0         \n",
      "_________________________________________________________________\n",
      "conv2d_4 (Conv2D)            (None, 3, 3, 128)         73728     \n",
      "_________________________________________________________________\n",
      "batch_normalization_4 (Batch (None, 3, 3, 128)         384       \n",
      "_________________________________________________________________\n",
      "activation_4 (Activation)    (None, 3, 3, 128)         0         \n",
      "_________________________________________________________________\n",
      "flatten_1 (Flatten)          (None, 1152)              0         \n",
      "_________________________________________________________________\n",
      "dense_1 (Dense)              (None, 512)               590336    \n",
      "_________________________________________________________________\n",
      "dense_2 (Dense)              (None, 7)                 3591      \n",
      "=================================================================\n",
      "Total params: 691,847\n",
      "Trainable params: 691,367\n",
      "Non-trainable params: 480\n",
      "_________________________________________________________________\n"
     ]
    }
   ],
   "source": [
    "model = Sequential()\n",
    "model.add(Conv2D(16, (3, 3), padding='same', use_bias=False, input_shape=(150,150, 3))) # RGB:3, gray:1\n",
    "model.add(BatchNormalization(axis=3, scale=False))\n",
    "model.add(Activation(\"relu\"))\n",
    "model.add(MaxPooling2D(pool_size=(4, 4), strides=(4, 4), padding='same'))\n",
    "#model.add(Dropout(0.2))\n",
    " \n",
    "model.add(Conv2D(32, (3, 3), padding='same', use_bias=False))\n",
    "model.add(BatchNormalization(axis=3, scale=False))\n",
    "model.add(Activation(\"relu\"))\n",
    "model.add(MaxPooling2D(pool_size=(4, 4), strides=(4, 4), padding='same'))\n",
    "#model.add(Dropout(0.2))\n",
    " \n",
    "model.add(Conv2D(64, (3, 3), padding='same', use_bias=False))\n",
    "model.add(BatchNormalization(axis=3, scale=False))\n",
    "model.add(Activation(\"relu\"))\n",
    "model.add(MaxPooling2D(pool_size=(4, 4), strides=(4, 4), padding='same'))\n",
    "#model.add(Dropout(0.2))\n",
    " \n",
    "model.add(Conv2D(128, (3, 3), padding='same', use_bias=False))\n",
    "model.add(BatchNormalization(axis=3, scale=False))\n",
    "model.add(Activation(\"relu\"))\n",
    "model.add(Flatten())\n",
    "#model.add(Dropout(0.2))\n",
    " \n",
    "model.add(Dense(512, activation='relu'))\n",
    "model.add(Dense(7, activation='softmax'))                                   # label, calss 갯수\n",
    "model.summary()\n",
    " "
   ]
  },
  {
   "cell_type": "markdown",
   "metadata": {},
   "source": [
    "## compile 및 데이터 불러오기"
   ]
  },
  {
   "cell_type": "code",
   "execution_count": 4,
   "metadata": {},
   "outputs": [
    {
     "name": "stdout",
     "output_type": "stream",
     "text": [
      "Found 4177 images belonging to 7 classes.\n",
      "Found 2055 images belonging to 7 classes.\n"
     ]
    }
   ],
   "source": [
    "# Compiling the CNN\n",
    "\n",
    "from keras.optimizers import Adam\n",
    "optimizer = Adam(lr=0.001)\n",
    "\n",
    "model.compile(optimizer = optimizer, \n",
    "              loss = 'categorical_crossentropy', \n",
    "              metrics = ['accuracy'])\n",
    "\n",
    "\n",
    "# 데이터 셋\n",
    "train_datagen = ImageDataGenerator(rescale=1./255,\n",
    "#                                    rotation_range=10,\n",
    "#                                    width_shift_range=0.2,\n",
    "#                                    height_shift_range=0.2,\n",
    "#                                    shear_range=0.7,\n",
    "#                                    zoom_range=[0.9, 2.2],\n",
    "#                                    horizontal_flip=True,\n",
    "#                                    vertical_flip=True,\n",
    "#                                    fill_mode='nearest',\n",
    "                                   validation_split=0.33)\n",
    " \n",
    "training_set = train_datagen.flow_from_directory('C:/python_DA/final_project/img/pattern_original',\n",
    "                                                 target_size = (150,150),\n",
    "                                                 batch_size = 10,\n",
    "                                                 class_mode = 'categorical',\n",
    "                                                 subset=\"training\"\n",
    "#                                                 ,color_mode='grayscale'            # gray_scale로 변경\n",
    "                                                )\n",
    "validation_set = train_datagen.flow_from_directory('C:/python_DA/final_project/img/pattern_original',\n",
    "                                                 target_size = (150,150),\n",
    "                                                 batch_size = 10,\n",
    "                                                 class_mode = 'categorical',\n",
    "                                                 subset=\"validation\"\n",
    "#                                                 ,color_mode='grayscale'           # gray_scale로 변경\n",
    "                                                  )\n",
    "\n"
   ]
  },
  {
   "cell_type": "markdown",
   "metadata": {},
   "source": [
    "## 모델 학습"
   ]
  },
  {
   "cell_type": "code",
   "execution_count": 5,
   "metadata": {},
   "outputs": [],
   "source": [
    "from keras.callbacks import EarlyStopping\n",
    "from keras.callbacks import ModelCheckpoint\n",
    "\n",
    "\n",
    "# moniter: 대상 값, mode: min/max, verbose=1 설정시 언제 멈췄는지 출력\n",
    "# patience: 성능없는 에폭 허용 범위, baseline: 값 설정\n",
    "\n",
    "#es = EarlyStopping(monitor='val_loss', mode='min')\n",
    "#es = EarlyStopping(monitor='val_loss', mode='min', verbose=1, patience=50)"
   ]
  },
  {
   "cell_type": "code",
   "execution_count": 6,
   "metadata": {},
   "outputs": [],
   "source": [
    "es = EarlyStopping(monitor='val_loss', mode='min', verbose=1, patience=30)\n",
    "mc = ModelCheckpoint('best0005.h5', monitor='val_loss', mode='min', save_best_only=True)"
   ]
  },
  {
   "cell_type": "code",
   "execution_count": null,
   "metadata": {
    "scrolled": true
   },
   "outputs": [
    {
     "name": "stdout",
     "output_type": "stream",
     "text": [
      "Epoch 1/100\n",
      "40/40 [==============================] - 33s 818ms/step - loss: 2.2023 - acc: 0.2400 - val_loss: 1.9662 - val_acc: 0.2600\n",
      "Epoch 2/100\n",
      "40/40 [==============================] - 33s 821ms/step - loss: 1.8657 - acc: 0.3375 - val_loss: 1.6543 - val_acc: 0.4150\n",
      "Epoch 3/100\n",
      "40/40 [==============================] - 32s 789ms/step - loss: 1.5112 - acc: 0.4400 - val_loss: 1.9117 - val_acc: 0.3300\n",
      "Epoch 4/100\n",
      "40/40 [==============================] - 32s 796ms/step - loss: 1.3952 - acc: 0.4825 - val_loss: 1.4684 - val_acc: 0.4200\n",
      "Epoch 5/100\n",
      "40/40 [==============================] - 32s 800ms/step - loss: 1.4178 - acc: 0.4900 - val_loss: 1.5907 - val_acc: 0.3650\n",
      "Epoch 6/100\n",
      "40/40 [==============================] - 31s 779ms/step - loss: 1.2255 - acc: 0.5475 - val_loss: 1.7086 - val_acc: 0.4350\n",
      "Epoch 7/100\n",
      "40/40 [==============================] - 31s 778ms/step - loss: 1.3082 - acc: 0.5203 - val_loss: 2.6795 - val_acc: 0.3600\n",
      "Epoch 8/100\n",
      "40/40 [==============================] - 32s 788ms/step - loss: 1.2624 - acc: 0.5325 - val_loss: 1.4733 - val_acc: 0.5100\n",
      "Epoch 9/100\n",
      "40/40 [==============================] - 31s 779ms/step - loss: 1.1480 - acc: 0.5875 - val_loss: 1.9312 - val_acc: 0.3950\n",
      "Epoch 10/100\n",
      "40/40 [==============================] - 31s 778ms/step - loss: 1.1635 - acc: 0.5725 - val_loss: 1.9961 - val_acc: 0.2900\n",
      "Epoch 11/100\n",
      "40/40 [==============================] - 32s 805ms/step - loss: 0.9923 - acc: 0.6575 - val_loss: 1.7841 - val_acc: 0.4850\n",
      "Epoch 12/100\n",
      "40/40 [==============================] - 32s 793ms/step - loss: 0.9237 - acc: 0.6525 - val_loss: 2.3951 - val_acc: 0.4300\n",
      "Epoch 13/100\n",
      "40/40 [==============================] - 31s 784ms/step - loss: 0.9990 - acc: 0.6500 - val_loss: 1.6583 - val_acc: 0.4700\n",
      "Epoch 14/100\n",
      "40/40 [==============================] - 32s 796ms/step - loss: 0.9673 - acc: 0.6650 - val_loss: 1.4840 - val_acc: 0.5350\n",
      "Epoch 15/100\n",
      "40/40 [==============================] - 31s 784ms/step - loss: 0.9557 - acc: 0.6339 - val_loss: 1.0787 - val_acc: 0.5900\n",
      "Epoch 16/100\n",
      "40/40 [==============================] - 32s 806ms/step - loss: 0.8948 - acc: 0.6775 - val_loss: 1.0443 - val_acc: 0.6400\n",
      "Epoch 17/100\n",
      "40/40 [==============================] - 37s 933ms/step - loss: 0.9396 - acc: 0.6550 - val_loss: 1.4548 - val_acc: 0.5600\n",
      "Epoch 18/100\n",
      "40/40 [==============================] - 52s 1s/step - loss: 0.9067 - acc: 0.6925 - val_loss: 1.0229 - val_acc: 0.6250\n",
      "Epoch 19/100\n",
      "40/40 [==============================] - 51s 1s/step - loss: 0.9511 - acc: 0.6700 - val_loss: 0.9639 - val_acc: 0.6550\n",
      "Epoch 20/100\n",
      "40/40 [==============================] - 52s 1s/step - loss: 0.8620 - acc: 0.6925 - val_loss: 1.2873 - val_acc: 0.5700\n",
      "Epoch 21/100\n",
      "40/40 [==============================] - 43s 1s/step - loss: 0.9057 - acc: 0.6675 - val_loss: 1.0546 - val_acc: 0.6450\n",
      "Epoch 22/100\n",
      "40/40 [==============================] - 41s 1s/step - loss: 0.8513 - acc: 0.6925 - val_loss: 2.2915 - val_acc: 0.3750\n",
      "Epoch 23/100\n",
      "40/40 [==============================] - 51s 1s/step - loss: 0.7789 - acc: 0.7125 - val_loss: 1.5646 - val_acc: 0.5100\n",
      "Epoch 24/100\n",
      "40/40 [==============================] - 52s 1s/step - loss: 0.8026 - acc: 0.7050 - val_loss: 1.1966 - val_acc: 0.5950\n",
      "Epoch 25/100\n",
      "40/40 [==============================] - 50s 1s/step - loss: 0.8090 - acc: 0.7104 - val_loss: 1.1174 - val_acc: 0.5950\n",
      "Epoch 26/100\n",
      "40/40 [==============================] - 46s 1s/step - loss: 0.7260 - acc: 0.7500 - val_loss: 1.2353 - val_acc: 0.6350\n",
      "Epoch 27/100\n",
      "40/40 [==============================] - 51s 1s/step - loss: 0.8417 - acc: 0.7125 - val_loss: 1.8700 - val_acc: 0.4700\n",
      "Epoch 28/100\n",
      "40/40 [==============================] - 52s 1s/step - loss: 0.7587 - acc: 0.7100 - val_loss: 1.5338 - val_acc: 0.5400\n",
      "Epoch 29/100\n",
      "40/40 [==============================] - 52s 1s/step - loss: 0.7955 - acc: 0.7225 - val_loss: 1.4136 - val_acc: 0.5600\n",
      "Epoch 30/100\n",
      "40/40 [==============================] - 43s 1s/step - loss: 0.7537 - acc: 0.7425 - val_loss: 1.1017 - val_acc: 0.6100\n",
      "Epoch 31/100\n",
      "40/40 [==============================] - 32s 805ms/step - loss: 0.7514 - acc: 0.7300 - val_loss: 1.0889 - val_acc: 0.6200\n",
      "Epoch 32/100\n",
      "40/40 [==============================] - 31s 787ms/step - loss: 0.6185 - acc: 0.7725 - val_loss: 0.8557 - val_acc: 0.6950\n",
      "Epoch 33/100\n",
      "40/40 [==============================] - 32s 797ms/step - loss: 0.6633 - acc: 0.7650 - val_loss: 0.9958 - val_acc: 0.6100\n",
      "Epoch 34/100\n",
      "40/40 [==============================] - 32s 790ms/step - loss: 0.6917 - acc: 0.7675 - val_loss: 1.3912 - val_acc: 0.5100\n",
      "Epoch 35/100\n",
      "40/40 [==============================] - 31s 781ms/step - loss: 0.6173 - acc: 0.7854 - val_loss: 2.6621 - val_acc: 0.3900\n",
      "Epoch 36/100\n",
      "40/40 [==============================] - 31s 784ms/step - loss: 0.6624 - acc: 0.7550 - val_loss: 0.9495 - val_acc: 0.6450\n",
      "Epoch 37/100\n",
      "40/40 [==============================] - 32s 796ms/step - loss: 0.6990 - acc: 0.7500 - val_loss: 0.9798 - val_acc: 0.6600\n",
      "Epoch 38/100\n",
      "40/40 [==============================] - 32s 799ms/step - loss: 0.6590 - acc: 0.7250 - val_loss: 1.0472 - val_acc: 0.6300\n",
      "Epoch 39/100\n",
      " 6/40 [===>..........................] - ETA: 22s - loss: 0.7106 - acc: 0.6833"
     ]
    }
   ],
   "source": [
    "hist = model.fit_generator(training_set,\n",
    "                         steps_per_epoch = 40, #20\n",
    "                         epochs = 100,  #1000\n",
    "                         validation_data = validation_set,\n",
    "                         validation_steps = 20,\n",
    "                         callbacks=[es,mc])\n",
    " "
   ]
  },
  {
   "cell_type": "markdown",
   "metadata": {},
   "source": [
    "## 학습 결과 확인: 그래프"
   ]
  },
  {
   "cell_type": "code",
   "execution_count": null,
   "metadata": {},
   "outputs": [],
   "source": [
    "# 학습 과정 정확도, 손실함수 변화 그래프로 보기\n",
    "\n",
    "import matplotlib.pyplot as plt\n",
    " \n",
    "fig, loss_ax = plt.subplots()\n",
    "acc_ax = loss_ax.twinx()\n",
    " \n",
    "#loss_ax.plot(hist.history['loss'], 'y', label='train loss')\n",
    "loss_ax.plot(hist.history['val_loss'], 'r', label='val loss')\n",
    "##loss_ax.set_ylim([0.0, 0.5])\n",
    " \n",
    "#acc_ax.plot(hist.history['acc'], 'b', label='train acc')\n",
    "acc_ax.plot(hist.history['val_acc'], 'g', label='val acc')\n",
    "##acc_ax.set_ylim([0.8, 1.0])\n",
    " \n",
    "loss_ax.set_xlabel('epoch')\n",
    "loss_ax.set_ylabel('loss')\n",
    "acc_ax.set_ylabel('accuray')\n",
    " \n",
    "loss_ax.legend(loc='upper left')\n",
    "acc_ax.legend(loc='lower left')\n",
    " \n",
    "plt.show()"
   ]
  },
  {
   "cell_type": "code",
   "execution_count": null,
   "metadata": {},
   "outputs": [],
   "source": [
    "# 학습 과정 정확도, 손실함수 변화 그래프로 보기\n",
    "\n",
    "import matplotlib.pyplot as plt\n",
    " \n",
    "fig, loss_ax = plt.subplots()\n",
    "acc_ax = loss_ax.twinx()\n",
    " \n",
    "loss_ax.plot(hist.history['loss'], 'y', label='train loss')\n",
    "#loss_ax.plot(hist.history['val_loss'], 'r', label='val loss')\n",
    "##loss_ax.set_ylim([0.0, 0.5])\n",
    " \n",
    "acc_ax.plot(hist.history['acc'], 'b', label='train acc')\n",
    "#acc_ax.plot(hist.history['val_acc'], 'g', label='val acc')\n",
    "##acc_ax.set_ylim([0.8, 1.0])\n",
    " \n",
    "loss_ax.set_xlabel('epoch')\n",
    "loss_ax.set_ylabel('loss')\n",
    "acc_ax.set_ylabel('accuray')\n",
    " \n",
    "loss_ax.legend(loc='upper left')\n",
    "acc_ax.legend(loc='lower left')\n",
    " \n",
    "plt.show()"
   ]
  },
  {
   "cell_type": "code",
   "execution_count": null,
   "metadata": {},
   "outputs": [],
   "source": [
    "# 다른 방식으로 나타낸 그래프\n",
    "\n",
    "acc = hist.history['acc']\n",
    "val_acc = hist.history['val_acc']\n",
    "loss = hist.history['loss']\n",
    "val_loss = hist.history['val_loss']\n",
    "\n",
    "epochs = range(len(acc))\n",
    "\n",
    "plt.plot(epochs, acc, 'bo', label='Training acc')\n",
    "plt.plot(epochs, val_acc, 'b', label='Validation acc')\n",
    "plt.title('Training and validation accuracy')\n",
    "plt.legend()\n",
    "\n",
    "plt.figure()\n",
    "\n",
    "plt.plot(epochs, loss, 'bo', label='Training loss')\n",
    "plt.plot(epochs, val_loss, 'b', label='Validation loss')\n",
    "plt.title('Training and validation loss')\n",
    "plt.legend()\n",
    "\n",
    "plt.show()"
   ]
  },
  {
   "cell_type": "markdown",
   "metadata": {},
   "source": [
    "## 학습 결과 확인: 정확도 및 예측"
   ]
  },
  {
   "cell_type": "code",
   "execution_count": null,
   "metadata": {},
   "outputs": [],
   "source": [
    "# output = classifier.predict_generator(test_set, steps=5)\n",
    "# print(test_set.class_indices)\n",
    "# print(output)\n",
    " \n",
    "# 모델 평가하기\n",
    "print(\"-- Evaluate : training acc --\") \n",
    "train_scores = model.evaluate_generator(\n",
    "               training_set,\n",
    "               steps = 10) \n",
    "print(\"%s: %.2f%%\" %(model.metrics_names[1], train_scores[1]*100))\n",
    "print('\\n')\n",
    "\n",
    "\n",
    "print(\"-- Evaluate : validation acc --\") \n",
    "vali_scores = model.evaluate_generator(\n",
    "            validation_set,\n",
    "            steps = 10) \n",
    "print(\"%s: %.2f%%\" %(model.metrics_names[1], vali_scores[1]*100))\n",
    " \n",
    "    \n",
    "    \n",
    "# 모델 예측하기\n",
    "# print(\"-- Predict --\")\n",
    " \n",
    "# output = model.predict_generator(\n",
    "#             validation_set,\n",
    "#             steps = 100)\n",
    "# print(validation_set.class_indices)\n",
    "# np.set_printoptions(formatter={'float': lambda x: \"{0:0.3f}\".format(x)})\n",
    "# print(output) "
   ]
  },
  {
   "cell_type": "markdown",
   "metadata": {},
   "source": [
    "## 모델 저장"
   ]
  },
  {
   "cell_type": "code",
   "execution_count": null,
   "metadata": {},
   "outputs": [],
   "source": [
    "# 모델 저장\n",
    "\n",
    "\n",
    "from keras.models import load_model, model_from_json\n",
    "model.save('pattern_7class_정확도77.h5')                      # 모델(architecture, weight 동시 저장) 저장 이름\n",
    "\n",
    "\n",
    "# 모델 아키텍처를 json 형, 식으로 저장                 # 모델 architecture 만 저장 \n",
    "#json_string = model.to_json()                       # json 파일에서 모델 아키텍처 재구성\n",
    "#model = model_from_json(json_string) \n",
    "\n",
    "\n",
    "# 모델 Weights 저장\n",
    "# model.save_weights('파일이름')\n"
   ]
  },
  {
   "cell_type": "markdown",
   "metadata": {},
   "source": [
    "## 저장 모델 load 및 예측"
   ]
  },
  {
   "cell_type": "code",
   "execution_count": null,
   "metadata": {},
   "outputs": [],
   "source": [
    "from keras.models import load_model\n",
    "\n",
    "model = load_model('pattern_7class_정확도77.h5') # 불러올 모델 이름\n",
    "\n",
    "# print(\"-- Evaluate : validation acc --\") \n",
    "# vali_scores = model.evaluate_generator(\n",
    "#             validation_set) \n",
    "# print(\"%s: %.2f%%\" %(model.metrics_names[1], vali_scores[1]*100))\n",
    " "
   ]
  }
 ],
 "metadata": {
  "kernelspec": {
   "display_name": "[CPU_ENV]",
   "language": "python",
   "name": "cpu_env"
  },
  "language_info": {
   "codemirror_mode": {
    "name": "ipython",
    "version": 3
   },
   "file_extension": ".py",
   "mimetype": "text/x-python",
   "name": "python",
   "nbconvert_exporter": "python",
   "pygments_lexer": "ipython3",
   "version": "3.6.9"
  }
 },
 "nbformat": 4,
 "nbformat_minor": 2
}
