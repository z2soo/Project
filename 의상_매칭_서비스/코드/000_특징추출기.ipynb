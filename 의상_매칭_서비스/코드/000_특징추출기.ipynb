{
 "cells": [
  {
   "cell_type": "code",
   "execution_count": 4,
   "metadata": {},
   "outputs": [],
   "source": [
    "import cv2\n",
    "import os\n",
    "import numpy as np\n",
    "import pandas as pd\n",
    "import tensorflow as tf\n",
    "import matplotlib.pyplot as plt\n",
    "from PIL import Image\n",
    "from sklearn.model_selection import train_test_split\n",
    "from keras import layers, Input, models, optimizers\n",
    "from keras.models import Model, Sequential\n",
    "from keras.layers import MaxPooling2D, Conv2D\n",
    "from keras.layers import Activation, Dropout, Flatten, Dense\n",
    "from keras.callbacks import ModelCheckpoint\n",
    "from keras.layers.normalization import BatchNormalization\n",
    "from keras.preprocessing.image import ImageDataGenerator\n",
    "from keras.applications import InceptionV3"
   ]
  },
  {
   "cell_type": "code",
   "execution_count": 13,
   "metadata": {},
   "outputs": [
    {
     "name": "stdout",
     "output_type": "stream",
     "text": [
      "_________________________________________________________________\n",
      "Layer (type)                 Output Shape              Param #   \n",
      "=================================================================\n",
      "input_6 (InputLayer)         (None, 2048)              0         \n",
      "_________________________________________________________________\n",
      "dense_3 (Dense)              (None, 9)                 18441     \n",
      "=================================================================\n",
      "Total params: 18,441\n",
      "Trainable params: 18,441\n",
      "Non-trainable params: 0\n",
      "_________________________________________________________________\n"
     ]
    }
   ],
   "source": [
    "# Fc 레이어를 포함하지 않고, imagenet기반으로 학습된 가중치를 로드한 뒤 GAP 레이어를 추가\n",
    "extractor = Sequential()\n",
    "extractor.add(InceptionV3(include_top=False, \n",
    "                          weights='imagenet', \n",
    "                          input_shape=(150,150,3)))\n",
    "extractor.add(layers.GlobalAveragePooling2D())\n",
    "\n",
    "extractor_output_shape = extractor.get_output_shape_at(0)[1:]\n",
    "\n",
    "model = Sequential()\n",
    "model.add(layers.InputLayer(input_shape=extractor_output_shape))\n",
    "model.add(layers.Dense(9, activation='relu'))\n",
    "\n",
    "model.summary()"
   ]
  },
  {
   "cell_type": "code",
   "execution_count": 28,
   "metadata": {},
   "outputs": [
    {
     "name": "stdout",
     "output_type": "stream",
     "text": [
      "Found 7986 images belonging to 9 classes.\n",
      "Found 7986 images belonging to 9 classes.\n"
     ]
    }
   ],
   "source": [
    "import os\n",
    "from keras.preprocessing.image import ImageDataGenerator\n",
    "\n",
    "IMG_SIZE = (150, 150, 3)  \n",
    "\n",
    "train_datagen = ImageDataGenerator(rescale=1./255,\n",
    "#                                    rotation_range=10,\n",
    "#                                    width_shift_range=0.2,\n",
    "#                                    height_shift_range=0.2,\n",
    "#                                    shear_range=0.7,\n",
    "#                                    zoom_range=[0.9, 2.2],\n",
    "#                                    horizontal_flip=True,\n",
    "#                                    vertical_flip=True,\n",
    "#                                    fill_mode='nearest',\n",
    "                                   validation_split=0.33)\n",
    " \n",
    "imageGenerator = ImageDataGenerator(rescale=1./255\n",
    "#                                     ,rotation_range=20,\n",
    "#                                     width_shift_range=0.1,\n",
    "#                                     height_shift_range=0.1,\n",
    "#                                     brightness_range=[.2, .2],\n",
    "#                                     horizontal_flip=True\n",
    "                                   )\n",
    "\n",
    "trainGen = imageGenerator.flow_from_directory('C:/python_DA/img/pattern',\n",
    "                                              target_size=IMG_SIZE[:2],\n",
    "                                              batch_size=20)\n",
    "\n",
    "testGen = ImageDataGenerator(rescale=1./255,).flow_from_directory('C:/python_DA/img/pattern',\n",
    "                                                                  target_size=IMG_SIZE[:2],\n",
    "                                                                  batch_size=20)\n",
    "\n",
    "\n",
    "# training_set = train_datagen.flow_from_directory('C:/python_DA/img/pattern',\n",
    "#                                                  target_size = (150,150),\n",
    "#                                                  batch_size = 10,\n",
    "#                                                  class_mode = 'categorical',\n",
    "#                                                  subset=\"training\"\n",
    "#                                                 )\n",
    "# validation_set = train_datagen.flow_from_directory('C:/python_DA/img/pattern',\n",
    "#                                                  target_size = (150,150),\n",
    "#                                                  batch_size = 10,\n",
    "#                                                  class_mode = 'categorical',\n",
    "#                                                  subset=\"validation\"\n",
    "#                                                   )"
   ]
  },
  {
   "cell_type": "code",
   "execution_count": 19,
   "metadata": {},
   "outputs": [],
   "source": [
    "from keras.optimizers import Adam\n",
    "\n",
    "optimizer = Adam(lr=0.001)\n",
    "model.compile(\n",
    "    optimizer=optimizer,\n",
    "    loss='categorical_crossentropy', \n",
    "    metrics=['acc'])\n",
    "\n",
    "extractor.compile(\n",
    "    optimizer=optimizer,\n",
    "    loss='categorical_crossentropy', \n",
    "    metrics=['acc'])\n"
   ]
  },
  {
   "cell_type": "code",
   "execution_count": 20,
   "metadata": {},
   "outputs": [],
   "source": [
    "import numpy as np\n",
    "\n",
    "def get_features(extractor, gen, cnt):\n",
    "    bs = gen.batch_size\n",
    "    ds = cnt\n",
    "    extractor_shapes = list(extractor.get_output_shape_at(0)[1:])\n",
    "    \n",
    "    features = np.empty([0] + extractor_shapes)\n",
    "    labels = np.empty((0, 9))\n",
    "    \n",
    "    for i, (trainX, trainY) in enumerate(gen):\n",
    "        features = np.append(features, extractor.predict(trainX), axis=0)\n",
    "        labels = np.append(labels, trainY, axis=0)\n",
    "        print('batch index: {}/{}'.format(i * bs, ds), end='\\r')\n",
    "        \n",
    "        if bs * i >= cnt:\n",
    "            break\n",
    "    print()\n",
    "    return features, labels"
   ]
  },
  {
   "cell_type": "code",
   "execution_count": 29,
   "metadata": {},
   "outputs": [
    {
     "name": "stdout",
     "output_type": "stream",
     "text": [
      "batch index: 3000/3000\n",
      "batch index: 1000/1000\n"
     ]
    }
   ],
   "source": [
    "trainX, trainY = get_features(extractor, trainGen, 3000)\n",
    "testX, testY = get_features(extractor, testGen, 1000)"
   ]
  },
  {
   "cell_type": "code",
   "execution_count": 30,
   "metadata": {},
   "outputs": [
    {
     "name": "stdout",
     "output_type": "stream",
     "text": [
      "Train on 2718 samples, validate on 302 samples\n",
      "Epoch 1/100\n",
      "2718/2718 [==============================] - 1s 462us/step - loss: nan - acc: 0.0427 - val_loss: nan - val_acc: 0.0364\n",
      "Epoch 2/100\n",
      "2718/2718 [==============================] - 1s 410us/step - loss: nan - acc: 0.0427 - val_loss: nan - val_acc: 0.0364\n",
      "Epoch 3/100\n",
      "2718/2718 [==============================] - 1s 423us/step - loss: nan - acc: 0.0427 - val_loss: nan - val_acc: 0.0364\n",
      "Epoch 4/100\n",
      "2718/2718 [==============================] - 1s 404us/step - loss: nan - acc: 0.0427 - val_loss: nan - val_acc: 0.0364\n",
      "Epoch 5/100\n",
      "2718/2718 [==============================] - 1s 361us/step - loss: nan - acc: 0.0427 - val_loss: nan - val_acc: 0.0364\n",
      "Epoch 6/100\n",
      "2718/2718 [==============================] - 1s 391us/step - loss: nan - acc: 0.0427 - val_loss: nan - val_acc: 0.0364\n",
      "Epoch 7/100\n",
      "2718/2718 [==============================] - 1s 365us/step - loss: nan - acc: 0.0427 - val_loss: nan - val_acc: 0.0364\n",
      "Epoch 8/100\n",
      "2718/2718 [==============================] - 1s 337us/step - loss: nan - acc: 0.0427 - val_loss: nan - val_acc: 0.0364\n",
      "Epoch 9/100\n",
      "2718/2718 [==============================] - 1s 338us/step - loss: nan - acc: 0.0427 - val_loss: nan - val_acc: 0.0364\n",
      "Epoch 10/100\n",
      "2718/2718 [==============================] - 1s 361us/step - loss: nan - acc: 0.0427 - val_loss: nan - val_acc: 0.0364\n",
      "Epoch 11/100\n",
      "2718/2718 [==============================] - 1s 338us/step - loss: nan - acc: 0.0427 - val_loss: nan - val_acc: 0.0364\n",
      "Epoch 12/100\n",
      "2718/2718 [==============================] - 1s 442us/step - loss: nan - acc: 0.0427 - val_loss: nan - val_acc: 0.0364\n",
      "Epoch 13/100\n",
      "2718/2718 [==============================] - 1s 360us/step - loss: nan - acc: 0.0427 - val_loss: nan - val_acc: 0.0364\n",
      "Epoch 14/100\n",
      "2718/2718 [==============================] - 1s 372us/step - loss: nan - acc: 0.0427 - val_loss: nan - val_acc: 0.0364\n",
      "Epoch 15/100\n",
      "2718/2718 [==============================] - 1s 357us/step - loss: nan - acc: 0.0427 - val_loss: nan - val_acc: 0.0364\n",
      "Epoch 16/100\n",
      "2718/2718 [==============================] - 1s 331us/step - loss: nan - acc: 0.0427 - val_loss: nan - val_acc: 0.0364\n",
      "Epoch 17/100\n",
      "2718/2718 [==============================] - 1s 360us/step - loss: nan - acc: 0.0427 - val_loss: nan - val_acc: 0.0364\n",
      "Epoch 18/100\n",
      "2718/2718 [==============================] - 1s 342us/step - loss: nan - acc: 0.0427 - val_loss: nan - val_acc: 0.0364\n",
      "Epoch 19/100\n",
      "2718/2718 [==============================] - 1s 355us/step - loss: nan - acc: 0.0427 - val_loss: nan - val_acc: 0.0364\n",
      "Epoch 20/100\n",
      "2718/2718 [==============================] - 1s 301us/step - loss: nan - acc: 0.0427 - val_loss: nan - val_acc: 0.0364\n",
      "Epoch 21/100\n",
      "2718/2718 [==============================] - 1s 324us/step - loss: nan - acc: 0.0427 - val_loss: nan - val_acc: 0.0364\n",
      "Epoch 22/100\n",
      "2718/2718 [==============================] - 1s 323us/step - loss: nan - acc: 0.0427 - val_loss: nan - val_acc: 0.0364\n",
      "Epoch 23/100\n",
      "2718/2718 [==============================] - 1s 349us/step - loss: nan - acc: 0.0427 - val_loss: nan - val_acc: 0.0364\n",
      "Epoch 24/100\n",
      "2718/2718 [==============================] - 1s 393us/step - loss: nan - acc: 0.0427 - val_loss: nan - val_acc: 0.0364\n",
      "Epoch 25/100\n",
      "2718/2718 [==============================] - 1s 326us/step - loss: nan - acc: 0.0427 - val_loss: nan - val_acc: 0.0364\n",
      "Epoch 26/100\n",
      "2718/2718 [==============================] - 1s 354us/step - loss: nan - acc: 0.0427 - val_loss: nan - val_acc: 0.0364\n",
      "Epoch 27/100\n",
      "2718/2718 [==============================] - 1s 349us/step - loss: nan - acc: 0.0427 - val_loss: nan - val_acc: 0.0364\n",
      "Epoch 28/100\n",
      "2718/2718 [==============================] - 1s 354us/step - loss: nan - acc: 0.0427 - val_loss: nan - val_acc: 0.0364\n",
      "Epoch 29/100\n",
      "2718/2718 [==============================] - 1s 324us/step - loss: nan - acc: 0.0427 - val_loss: nan - val_acc: 0.0364\n",
      "Epoch 30/100\n",
      "2718/2718 [==============================] - 1s 360us/step - loss: nan - acc: 0.0427 - val_loss: nan - val_acc: 0.0364\n",
      "Epoch 31/100\n",
      "2718/2718 [==============================] - 1s 336us/step - loss: nan - acc: 0.0427 - val_loss: nan - val_acc: 0.0364\n",
      "Epoch 32/100\n",
      "2718/2718 [==============================] - 1s 377us/step - loss: nan - acc: 0.0427 - val_loss: nan - val_acc: 0.0364\n",
      "Epoch 33/100\n",
      "2718/2718 [==============================] - 1s 349us/step - loss: nan - acc: 0.0427 - val_loss: nan - val_acc: 0.0364\n",
      "Epoch 34/100\n",
      "2718/2718 [==============================] - 1s 313us/step - loss: nan - acc: 0.0427 - val_loss: nan - val_acc: 0.0364\n",
      "Epoch 35/100\n",
      "2718/2718 [==============================] - 1s 413us/step - loss: nan - acc: 0.0427 - val_loss: nan - val_acc: 0.0364\n",
      "Epoch 36/100\n",
      "2718/2718 [==============================] - 1s 357us/step - loss: nan - acc: 0.0427 - val_loss: nan - val_acc: 0.0364\n",
      "Epoch 37/100\n",
      "2718/2718 [==============================] - 1s 352us/step - loss: nan - acc: 0.0427 - val_loss: nan - val_acc: 0.0364\n",
      "Epoch 38/100\n",
      "2718/2718 [==============================] - 1s 343us/step - loss: nan - acc: 0.0427 - val_loss: nan - val_acc: 0.0364\n",
      "Epoch 39/100\n",
      "2718/2718 [==============================] - 1s 365us/step - loss: nan - acc: 0.0427 - val_loss: nan - val_acc: 0.0364\n",
      "Epoch 40/100\n",
      "2718/2718 [==============================] - 1s 363us/step - loss: nan - acc: 0.0427 - val_loss: nan - val_acc: 0.0364\n",
      "Epoch 41/100\n",
      "2718/2718 [==============================] - 1s 323us/step - loss: nan - acc: 0.0427 - val_loss: nan - val_acc: 0.0364\n",
      "Epoch 42/100\n",
      "2718/2718 [==============================] - 1s 359us/step - loss: nan - acc: 0.0427 - val_loss: nan - val_acc: 0.0364\n",
      "Epoch 43/100\n",
      "2718/2718 [==============================] - 1s 334us/step - loss: nan - acc: 0.0427 - val_loss: nan - val_acc: 0.0364\n",
      "Epoch 44/100\n",
      "2718/2718 [==============================] - 1s 346us/step - loss: nan - acc: 0.0427 - val_loss: nan - val_acc: 0.0364\n",
      "Epoch 45/100\n",
      "2718/2718 [==============================] - 1s 390us/step - loss: nan - acc: 0.0427 - val_loss: nan - val_acc: 0.0364\n",
      "Epoch 46/100\n",
      "2718/2718 [==============================] - 1s 408us/step - loss: nan - acc: 0.0427 - val_loss: nan - val_acc: 0.0364\n",
      "Epoch 47/100\n",
      "2718/2718 [==============================] - 1s 430us/step - loss: nan - acc: 0.0427 - val_loss: nan - val_acc: 0.0364\n",
      "Epoch 48/100\n",
      "2718/2718 [==============================] - 1s 340us/step - loss: nan - acc: 0.0427 - val_loss: nan - val_acc: 0.0364\n",
      "Epoch 49/100\n",
      "2718/2718 [==============================] - 1s 333us/step - loss: nan - acc: 0.0427 - val_loss: nan - val_acc: 0.0364\n",
      "Epoch 50/100\n",
      "2718/2718 [==============================] - 1s 353us/step - loss: nan - acc: 0.0427 - val_loss: nan - val_acc: 0.0364\n",
      "Epoch 51/100\n",
      "2718/2718 [==============================] - 1s 348us/step - loss: nan - acc: 0.0427 - val_loss: nan - val_acc: 0.0364\n",
      "Epoch 52/100\n",
      "2718/2718 [==============================] - 1s 351us/step - loss: nan - acc: 0.0427 - val_loss: nan - val_acc: 0.0364\n",
      "Epoch 53/100\n",
      "2718/2718 [==============================] - 1s 343us/step - loss: nan - acc: 0.0427 - val_loss: nan - val_acc: 0.0364\n",
      "Epoch 54/100\n",
      "2718/2718 [==============================] - 1s 350us/step - loss: nan - acc: 0.0427 - val_loss: nan - val_acc: 0.0364\n",
      "Epoch 55/100\n",
      "2718/2718 [==============================] - 1s 343us/step - loss: nan - acc: 0.0427 - val_loss: nan - val_acc: 0.0364\n",
      "Epoch 56/100\n",
      "2718/2718 [==============================] - 1s 368us/step - loss: nan - acc: 0.0427 - val_loss: nan - val_acc: 0.0364\n",
      "Epoch 57/100\n",
      "2718/2718 [==============================] - 1s 371us/step - loss: nan - acc: 0.0427 - val_loss: nan - val_acc: 0.0364\n",
      "Epoch 58/100\n",
      "2718/2718 [==============================] - 1s 379us/step - loss: nan - acc: 0.0427 - val_loss: nan - val_acc: 0.0364\n",
      "Epoch 59/100\n",
      "2718/2718 [==============================] - 1s 379us/step - loss: nan - acc: 0.0427 - val_loss: nan - val_acc: 0.0364\n",
      "Epoch 60/100\n",
      "2718/2718 [==============================] - 1s 359us/step - loss: nan - acc: 0.0427 - val_loss: nan - val_acc: 0.0364\n",
      "Epoch 61/100\n",
      "2718/2718 [==============================] - 1s 342us/step - loss: nan - acc: 0.0427 - val_loss: nan - val_acc: 0.0364\n",
      "Epoch 62/100\n",
      "2718/2718 [==============================] - 1s 340us/step - loss: nan - acc: 0.0427 - val_loss: nan - val_acc: 0.0364\n"
     ]
    },
    {
     "name": "stdout",
     "output_type": "stream",
     "text": [
      "Epoch 63/100\n",
      "2718/2718 [==============================] - 1s 374us/step - loss: nan - acc: 0.0427 - val_loss: nan - val_acc: 0.0364\n",
      "Epoch 64/100\n",
      "2718/2718 [==============================] - 1s 349us/step - loss: nan - acc: 0.0427 - val_loss: nan - val_acc: 0.0364\n",
      "Epoch 65/100\n",
      "2718/2718 [==============================] - 1s 365us/step - loss: nan - acc: 0.0427 - val_loss: nan - val_acc: 0.0364\n",
      "Epoch 66/100\n",
      "2718/2718 [==============================] - 1s 325us/step - loss: nan - acc: 0.0427 - val_loss: nan - val_acc: 0.0364\n",
      "Epoch 67/100\n",
      "2718/2718 [==============================] - 1s 361us/step - loss: nan - acc: 0.0427 - val_loss: nan - val_acc: 0.0364\n",
      "Epoch 68/100\n",
      "2718/2718 [==============================] - 1s 372us/step - loss: nan - acc: 0.0427 - val_loss: nan - val_acc: 0.0364\n",
      "Epoch 69/100\n",
      "2718/2718 [==============================] - 1s 391us/step - loss: nan - acc: 0.0427 - val_loss: nan - val_acc: 0.0364\n",
      "Epoch 70/100\n",
      "2718/2718 [==============================] - 1s 395us/step - loss: nan - acc: 0.0427 - val_loss: nan - val_acc: 0.0364\n",
      "Epoch 71/100\n",
      "2718/2718 [==============================] - 1s 371us/step - loss: nan - acc: 0.0427 - val_loss: nan - val_acc: 0.0364\n",
      "Epoch 72/100\n",
      "2718/2718 [==============================] - 1s 314us/step - loss: nan - acc: 0.0427 - val_loss: nan - val_acc: 0.0364\n",
      "Epoch 73/100\n",
      "2718/2718 [==============================] - 1s 319us/step - loss: nan - acc: 0.0427 - val_loss: nan - val_acc: 0.0364\n",
      "Epoch 74/100\n",
      "2718/2718 [==============================] - 1s 373us/step - loss: nan - acc: 0.0427 - val_loss: nan - val_acc: 0.0364\n",
      "Epoch 75/100\n",
      "2718/2718 [==============================] - 1s 340us/step - loss: nan - acc: 0.0427 - val_loss: nan - val_acc: 0.0364\n",
      "Epoch 76/100\n",
      "2718/2718 [==============================] - 1s 332us/step - loss: nan - acc: 0.0427 - val_loss: nan - val_acc: 0.0364\n",
      "Epoch 77/100\n",
      "2718/2718 [==============================] - 1s 395us/step - loss: nan - acc: 0.0427 - val_loss: nan - val_acc: 0.0364\n",
      "Epoch 78/100\n",
      "2718/2718 [==============================] - 1s 331us/step - loss: nan - acc: 0.0427 - val_loss: nan - val_acc: 0.0364\n",
      "Epoch 79/100\n",
      "2718/2718 [==============================] - 1s 379us/step - loss: nan - acc: 0.0427 - val_loss: nan - val_acc: 0.0364\n",
      "Epoch 80/100\n",
      "2718/2718 [==============================] - 1s 409us/step - loss: nan - acc: 0.0427 - val_loss: nan - val_acc: 0.0364\n",
      "Epoch 81/100\n",
      "2718/2718 [==============================] - 1s 441us/step - loss: nan - acc: 0.0427 - val_loss: nan - val_acc: 0.0364\n",
      "Epoch 82/100\n",
      "2718/2718 [==============================] - 1s 392us/step - loss: nan - acc: 0.0427 - val_loss: nan - val_acc: 0.0364\n",
      "Epoch 83/100\n",
      "2718/2718 [==============================] - 1s 388us/step - loss: nan - acc: 0.0427 - val_loss: nan - val_acc: 0.0364\n",
      "Epoch 84/100\n",
      "2718/2718 [==============================] - 1s 361us/step - loss: nan - acc: 0.0427 - val_loss: nan - val_acc: 0.0364\n",
      "Epoch 85/100\n",
      "2718/2718 [==============================] - 1s 372us/step - loss: nan - acc: 0.0427 - val_loss: nan - val_acc: 0.0364\n",
      "Epoch 86/100\n",
      "2718/2718 [==============================] - 1s 393us/step - loss: nan - acc: 0.0427 - val_loss: nan - val_acc: 0.0364\n",
      "Epoch 87/100\n",
      "2718/2718 [==============================] - 1s 368us/step - loss: nan - acc: 0.0427 - val_loss: nan - val_acc: 0.0364\n",
      "Epoch 88/100\n",
      "2718/2718 [==============================] - 1s 408us/step - loss: nan - acc: 0.0427 - val_loss: nan - val_acc: 0.0364\n",
      "Epoch 89/100\n",
      "2718/2718 [==============================] - 1s 384us/step - loss: nan - acc: 0.0427 - val_loss: nan - val_acc: 0.0364\n",
      "Epoch 90/100\n",
      "2718/2718 [==============================] - 1s 359us/step - loss: nan - acc: 0.0427 - val_loss: nan - val_acc: 0.0364\n",
      "Epoch 91/100\n",
      "2718/2718 [==============================] - 1s 427us/step - loss: nan - acc: 0.0427 - val_loss: nan - val_acc: 0.0364\n",
      "Epoch 92/100\n",
      "2718/2718 [==============================] - 1s 439us/step - loss: nan - acc: 0.0427 - val_loss: nan - val_acc: 0.0364\n",
      "Epoch 93/100\n",
      "2718/2718 [==============================] - 1s 382us/step - loss: nan - acc: 0.0427 - val_loss: nan - val_acc: 0.0364\n",
      "Epoch 94/100\n",
      "2718/2718 [==============================] - 1s 367us/step - loss: nan - acc: 0.0427 - val_loss: nan - val_acc: 0.0364\n",
      "Epoch 95/100\n",
      "2718/2718 [==============================] - 1s 353us/step - loss: nan - acc: 0.0427 - val_loss: nan - val_acc: 0.0364\n",
      "Epoch 96/100\n",
      "2718/2718 [==============================] - 1s 386us/step - loss: nan - acc: 0.0427 - val_loss: nan - val_acc: 0.0364\n",
      "Epoch 97/100\n",
      "2718/2718 [==============================] - 1s 392us/step - loss: nan - acc: 0.0427 - val_loss: nan - val_acc: 0.0364\n",
      "Epoch 98/100\n",
      "2718/2718 [==============================] - 1s 371us/step - loss: nan - acc: 0.0427 - val_loss: nan - val_acc: 0.0364\n",
      "Epoch 99/100\n",
      "2718/2718 [==============================] - 1s 365us/step - loss: nan - acc: 0.0427 - val_loss: nan - val_acc: 0.0364\n",
      "Epoch 100/100\n",
      "2718/2718 [==============================] - 1s 369us/step - loss: nan - acc: 0.0427 - val_loss: nan - val_acc: 0.0364\n"
     ]
    }
   ],
   "source": [
    "epochs = 100\n",
    "\n",
    "history = model.fit(\n",
    "    trainX, \n",
    "    trainY,\n",
    "    epochs=epochs,\n",
    "    batch_size=20,\n",
    "    validation_split=.1,\n",
    ")"
   ]
  },
  {
   "cell_type": "markdown",
   "metadata": {},
   "source": [
    "## 결과 시각화"
   ]
  },
  {
   "cell_type": "code",
   "execution_count": 23,
   "metadata": {},
   "outputs": [],
   "source": [
    "import matplotlib.pyplot as plt\n",
    "\n",
    "def show_graph(history_dict):\n",
    "    accuracy = history_dict['acc']\n",
    "    val_accuracy = history_dict['val_acc']\n",
    "    loss = history_dict['loss']\n",
    "    val_loss = history_dict['val_loss']\n",
    "\n",
    "    epochs = range(1, len(loss) + 1)\n",
    "    \n",
    "    plt.figure(figsize=(16, 1))\n",
    "    \n",
    "    plt.subplot(121)\n",
    "    plt.subplots_adjust(top=2)\n",
    "    plt.plot(epochs, accuracy, 'ro', label='Training accuracy')\n",
    "    plt.plot(epochs, val_accuracy, 'r', label='Validation accuracy')\n",
    "    plt.title('Trainging and validation accuracy')\n",
    "    plt.xlabel('Epochs')\n",
    "    plt.ylabel('Accuracy')\n",
    "\n",
    "    plt.legend(loc='upper center', bbox_to_anchor=(0.5, -0.1),\n",
    "              fancybox=True, shadow=True, ncol=5)\n",
    "\n",
    "    plt.subplot(122)\n",
    "    plt.plot(epochs, loss, 'bo', label='Training loss')\n",
    "    plt.plot(epochs, val_loss, 'b', label='Validation loss')\n",
    "    plt.title('Training and validation loss')\n",
    "    plt.xlabel('Epochs')\n",
    "    plt.ylabel('Loss')\n",
    "    plt.legend(loc='upper center', bbox_to_anchor=(0.5, -0.1),\n",
    "          fancybox=True, shadow=True, ncol=5)\n",
    "\n",
    "    plt.show()\n",
    "    \n",
    "def smooth_curve(points, factor=.8):\n",
    "    smoothed_points = []\n",
    "    for point in points:\n",
    "        if smoothed_points:\n",
    "            previous = smoothed_points[-1]\n",
    "            smoothed_points.append(previous * factor + point * (1 - factor))\n",
    "        else:\n",
    "            smoothed_points.append(point)\n",
    "    return smoothed_points"
   ]
  },
  {
   "cell_type": "code",
   "execution_count": 31,
   "metadata": {},
   "outputs": [
    {
     "data": {
      "image/png": "[encoded data removed]",
      "text/plain": [
       "<Figure size 1152x72 with 2 Axes>"
      ]
     },
     "metadata": {
      "needs_background": "light"
     },
     "output_type": "display_data"
    }
   ],
   "source": [
    "show_graph(history.history)"
   ]
  },
  {
   "cell_type": "code",
   "execution_count": 25,
   "metadata": {},
   "outputs": [
    {
     "data": {
      "image/png": "[encoded data removed]",
      "text/plain": [
       "<Figure size 1152x72 with 2 Axes>"
      ]
     },
     "metadata": {
      "needs_background": "light"
     },
     "output_type": "display_data"
    }
   ],
   "source": [
    "smooth_data = {}\n",
    "for key, val in history.history.items():\n",
    "    smooth_data[key] = smooth_curve(val[:])\n",
    "show_graph(smooth_data)\n"
   ]
  },
  {
   "cell_type": "code",
   "execution_count": 32,
   "metadata": {},
   "outputs": [
    {
     "name": "stdout",
     "output_type": "stream",
     "text": [
      "1020/1020 [==============================] - 0s 170us/step\n"
     ]
    },
    {
     "data": {
      "text/plain": [
       "[nan, 0.041176470632062236]"
      ]
     },
     "execution_count": 32,
     "metadata": {},
     "output_type": "execute_result"
    }
   ],
   "source": [
    "model.evaluate(testX, testY)"
   ]
  },
  {
   "cell_type": "code",
   "execution_count": null,
   "metadata": {},
   "outputs": [],
   "source": []
  },
  {
   "cell_type": "code",
   "execution_count": null,
   "metadata": {},
   "outputs": [],
   "source": []
  }
 ],
 "metadata": {
  "kernelspec": {
   "display_name": "Python [conda env:cpu_env] *",
   "language": "python",
   "name": "conda-env-cpu_env-py"
  },
  "language_info": {
   "codemirror_mode": {
    "name": "ipython",
    "version": 3
   },
   "file_extension": ".py",
   "mimetype": "text/x-python",
   "name": "python",
   "nbconvert_exporter": "python",
   "pygments_lexer": "ipython3",
   "version": "3.6.9"
  }
 },
 "nbformat": 4,
 "nbformat_minor": 2
}
