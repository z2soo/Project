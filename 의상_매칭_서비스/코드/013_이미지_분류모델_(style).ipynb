{
 "cells": [
  {
   "cell_type": "code",
   "execution_count": 2,
   "metadata": {},
   "outputs": [],
   "source": [
    "import cv2\n",
    "import os\n",
    "import numpy as np\n",
    "import pandas as pd\n",
    "import tensorflow as tf\n",
    "import matplotlib.pyplot as plt\n",
    "from PIL import Image\n",
    "from sklearn.model_selection import train_test_split\n",
    "from keras import layers, Input, models, optimizers\n",
    "from keras.models import Model, Sequential\n",
    "from keras.layers import MaxPooling2D, Conv2D\n",
    "from keras.layers import Activation, Dropout, Flatten, Dense\n",
    "from keras.callbacks import ModelCheckpoint\n",
    "from keras.layers.normalization import BatchNormalization\n",
    "from keras.preprocessing.image import ImageDataGenerator"
   ]
  },
  {
   "cell_type": "markdown",
   "metadata": {},
   "source": [
    "### style 별로 이미지 선별했기 때문에 따로 불러와서 분류 작업 불필요"
   ]
  },
  {
   "cell_type": "markdown",
   "metadata": {},
   "source": [
    "## style 분류 모델 생성"
   ]
  },
  {
   "cell_type": "code",
   "execution_count": 14,
   "metadata": {},
   "outputs": [
    {
     "name": "stdout",
     "output_type": "stream",
     "text": [
      "_________________________________________________________________\n",
      "Layer (type)                 Output Shape              Param #   \n",
      "=================================================================\n",
      "conv2d_5 (Conv2D)            (None, 150, 150, 16)      432       \n",
      "_________________________________________________________________\n",
      "batch_normalization_5 (Batch (None, 150, 150, 16)      48        \n",
      "_________________________________________________________________\n",
      "activation_5 (Activation)    (None, 150, 150, 16)      0         \n",
      "_________________________________________________________________\n",
      "max_pooling2d_4 (MaxPooling2 (None, 38, 38, 16)        0         \n",
      "_________________________________________________________________\n",
      "dropout_5 (Dropout)          (None, 38, 38, 16)        0         \n",
      "_________________________________________________________________\n",
      "conv2d_6 (Conv2D)            (None, 38, 38, 32)        4608      \n",
      "_________________________________________________________________\n",
      "batch_normalization_6 (Batch (None, 38, 38, 32)        96        \n",
      "_________________________________________________________________\n",
      "activation_6 (Activation)    (None, 38, 38, 32)        0         \n",
      "_________________________________________________________________\n",
      "max_pooling2d_5 (MaxPooling2 (None, 10, 10, 32)        0         \n",
      "_________________________________________________________________\n",
      "dropout_6 (Dropout)          (None, 10, 10, 32)        0         \n",
      "_________________________________________________________________\n",
      "conv2d_7 (Conv2D)            (None, 10, 10, 64)        18432     \n",
      "_________________________________________________________________\n",
      "batch_normalization_7 (Batch (None, 10, 10, 64)        192       \n",
      "_________________________________________________________________\n",
      "activation_7 (Activation)    (None, 10, 10, 64)        0         \n",
      "_________________________________________________________________\n",
      "max_pooling2d_6 (MaxPooling2 (None, 3, 3, 64)          0         \n",
      "_________________________________________________________________\n",
      "dropout_7 (Dropout)          (None, 3, 3, 64)          0         \n",
      "_________________________________________________________________\n",
      "conv2d_8 (Conv2D)            (None, 3, 3, 128)         73728     \n",
      "_________________________________________________________________\n",
      "batch_normalization_8 (Batch (None, 3, 3, 128)         384       \n",
      "_________________________________________________________________\n",
      "activation_8 (Activation)    (None, 3, 3, 128)         0         \n",
      "_________________________________________________________________\n",
      "flatten_2 (Flatten)          (None, 1152)              0         \n",
      "_________________________________________________________________\n",
      "dropout_8 (Dropout)          (None, 1152)              0         \n",
      "_________________________________________________________________\n",
      "dense_3 (Dense)              (None, 512)               590336    \n",
      "_________________________________________________________________\n",
      "dense_4 (Dense)              (None, 3)                 1539      \n",
      "=================================================================\n",
      "Total params: 689,795\n",
      "Trainable params: 689,315\n",
      "Non-trainable params: 480\n",
      "_________________________________________________________________\n"
     ]
    }
   ],
   "source": [
    "model = Sequential()\n",
    "model.add(Conv2D(16, (3, 3), padding='same', use_bias=False, input_shape=(150,150, 3)))\n",
    "model.add(BatchNormalization(axis=3, scale=False))\n",
    "model.add(Activation(\"relu\"))\n",
    "model.add(MaxPooling2D(pool_size=(4, 4), strides=(4, 4), padding='same'))\n",
    "model.add(Dropout(0.2))\n",
    " \n",
    "model.add(Conv2D(32, (3, 3), padding='same', use_bias=False))\n",
    "model.add(BatchNormalization(axis=3, scale=False))\n",
    "model.add(Activation(\"relu\"))\n",
    "model.add(MaxPooling2D(pool_size=(4, 4), strides=(4, 4), padding='same'))\n",
    "model.add(Dropout(0.2))\n",
    " \n",
    "model.add(Conv2D(64, (3, 3), padding='same', use_bias=False))\n",
    "model.add(BatchNormalization(axis=3, scale=False))\n",
    "model.add(Activation(\"relu\"))\n",
    "model.add(MaxPooling2D(pool_size=(4, 4), strides=(4, 4), padding='same'))\n",
    "model.add(Dropout(0.2))\n",
    " \n",
    "model.add(Conv2D(128, (3, 3), padding='same', use_bias=False))\n",
    "model.add(BatchNormalization(axis=3, scale=False))\n",
    "model.add(Activation(\"relu\"))\n",
    "model.add(Flatten())\n",
    "model.add(Dropout(0.2))\n",
    " \n",
    "model.add(Dense(512, activation='relu'))\n",
    "model.add(Dense(3, activation='softmax'))                                   # label, calss 갯수\n",
    "model.summary()\n",
    " "
   ]
  },
  {
   "cell_type": "code",
   "execution_count": 15,
   "metadata": {},
   "outputs": [
    {
     "name": "stdout",
     "output_type": "stream",
     "text": [
      "Found 1977 images belonging to 3 classes.\n",
      "Found 972 images belonging to 3 classes.\n"
     ]
    }
   ],
   "source": [
    "# Compiling the CNN\n",
    "model.compile(optimizer = 'adam', loss = 'categorical_crossentropy', metrics = ['accuracy'])\n",
    "\n",
    "\n",
    "# 데이터 셋\n",
    "train_datagen = ImageDataGenerator(rescale=1./255,\n",
    "#                                    rotation_range=10,\n",
    "#                                    width_shift_range=0.2,\n",
    "#                                    height_shift_range=0.2,\n",
    "#                                    shear_range=0.7,\n",
    "#                                    zoom_range=[0.9, 2.2],\n",
    "#                                    horizontal_flip=True,\n",
    "#                                    vertical_flip=True,\n",
    "#                                    fill_mode='nearest',\n",
    "                                   validation_split=0.33)\n",
    " \n",
    "training_set = train_datagen.flow_from_directory('C:/python_DA/img/crawling_img',\n",
    "                                                 target_size = (150,150),\n",
    "                                                 batch_size = 10,\n",
    "                                                 class_mode = 'categorical',\n",
    "                                                 subset=\"training\"\n",
    "                                                )\n",
    "validation_set = train_datagen.flow_from_directory('C:/python_DA/img/crawling_img',\n",
    "                                                 target_size = (150,150),\n",
    "                                                 batch_size = 10,\n",
    "                                                 class_mode = 'categorical',\n",
    "                                                 subset=\"validation\"\n",
    "                                                  )\n",
    " "
   ]
  },
  {
   "cell_type": "markdown",
   "metadata": {},
   "source": [
    "### 옵션 적용해서 학습"
   ]
  },
  {
   "cell_type": "code",
   "execution_count": 16,
   "metadata": {},
   "outputs": [],
   "source": [
    "from keras.callbacks import EarlyStopping\n",
    "from keras.callbacks import ModelCheckpoint\n",
    "\n",
    "\n",
    "# moniter: 대상 값, mode: min/max, verbose=1 설정시 언제 멈췄는지 출력\n",
    "# patience: 성능없는 에폭 허용 범위, baseline: 값 설정\n",
    "\n",
    "#es = EarlyStopping(monitor='val_loss', mode='min')\n",
    "#es = EarlyStopping(monitor='val_loss', mode='min', verbose=1, patience=50)\n",
    "\n"
   ]
  },
  {
   "cell_type": "code",
   "execution_count": 17,
   "metadata": {},
   "outputs": [],
   "source": [
    "es = EarlyStopping(monitor='val_loss', mode='min', verbose=1, patience=100)\n",
    "mc = ModelCheckpoint('best_model_style.h5', monitor='val_loss', mode='min', save_best_only=True)"
   ]
  },
  {
   "cell_type": "code",
   "execution_count": 18,
   "metadata": {},
   "outputs": [
    {
     "name": "stdout",
     "output_type": "stream",
     "text": [
      "Epoch 1/50\n",
      "20/20 [==============================] - 17s 872ms/step - loss: 1.7034 - acc: 0.4350 - val_loss: 1.0508 - val_acc: 0.3800\n",
      "Epoch 2/50\n",
      "20/20 [==============================] - 17s 825ms/step - loss: 1.0333 - acc: 0.4800 - val_loss: 1.1801 - val_acc: 0.3100\n",
      "Epoch 3/50\n",
      "20/20 [==============================] - 17s 869ms/step - loss: 1.0133 - acc: 0.5350 - val_loss: 0.9685 - val_acc: 0.6000\n",
      "Epoch 4/50\n",
      "20/20 [==============================] - 17s 852ms/step - loss: 1.0103 - acc: 0.5450 - val_loss: 0.9991 - val_acc: 0.5400\n",
      "Epoch 5/50\n",
      "20/20 [==============================] - 17s 868ms/step - loss: 0.9715 - acc: 0.5550 - val_loss: 0.9068 - val_acc: 0.6000\n",
      "Epoch 6/50\n",
      "20/20 [==============================] - 17s 844ms/step - loss: 1.0124 - acc: 0.4600 - val_loss: 0.9051 - val_acc: 0.6000\n",
      "Epoch 7/50\n",
      "20/20 [==============================] - 17s 845ms/step - loss: 0.9677 - acc: 0.5200 - val_loss: 0.9090 - val_acc: 0.5800\n",
      "Epoch 8/50\n",
      "20/20 [==============================] - 16s 821ms/step - loss: 0.9319 - acc: 0.4950 - val_loss: 1.0169 - val_acc: 0.4900\n",
      "Epoch 9/50\n",
      "20/20 [==============================] - 17s 838ms/step - loss: 1.0704 - acc: 0.4700 - val_loss: 0.9997 - val_acc: 0.5300\n",
      "Epoch 10/50\n",
      "20/20 [==============================] - 16s 811ms/step - loss: 0.9534 - acc: 0.4915 - val_loss: 0.9998 - val_acc: 0.5200\n",
      "Epoch 11/50\n",
      "20/20 [==============================] - 17s 842ms/step - loss: 0.8902 - acc: 0.6050 - val_loss: 0.9571 - val_acc: 0.5100\n",
      "Epoch 12/50\n",
      "20/20 [==============================] - 17s 851ms/step - loss: 0.9744 - acc: 0.5050 - val_loss: 0.8821 - val_acc: 0.5900\n",
      "Epoch 13/50\n",
      "20/20 [==============================] - 17s 872ms/step - loss: 0.9716 - acc: 0.5395 - val_loss: 0.8799 - val_acc: 0.5700\n",
      "Epoch 14/50\n",
      "20/20 [==============================] - 17s 859ms/step - loss: 0.9694 - acc: 0.5500 - val_loss: 0.9214 - val_acc: 0.5500\n",
      "Epoch 15/50\n",
      "20/20 [==============================] - 17s 847ms/step - loss: 0.9200 - acc: 0.5400 - val_loss: 0.8954 - val_acc: 0.5800\n",
      "Epoch 16/50\n",
      "20/20 [==============================] - 18s 889ms/step - loss: 0.9112 - acc: 0.5600 - val_loss: 0.9348 - val_acc: 0.5600\n",
      "Epoch 17/50\n",
      "20/20 [==============================] - 18s 878ms/step - loss: 0.9286 - acc: 0.5700 - val_loss: 0.9353 - val_acc: 0.5600\n",
      "Epoch 18/50\n",
      "20/20 [==============================] - 17s 864ms/step - loss: 0.9115 - acc: 0.5400 - val_loss: 0.9593 - val_acc: 0.5500\n",
      "Epoch 19/50\n",
      "20/20 [==============================] - 19s 938ms/step - loss: 0.8948 - acc: 0.5650 - val_loss: 0.8673 - val_acc: 0.6000\n",
      "Epoch 20/50\n",
      "20/20 [==============================] - 16s 822ms/step - loss: 0.8929 - acc: 0.6000 - val_loss: 0.9552 - val_acc: 0.5400\n",
      "Epoch 21/50\n",
      "20/20 [==============================] - 17s 848ms/step - loss: 0.9182 - acc: 0.5000 - val_loss: 0.9209 - val_acc: 0.5800\n",
      "Epoch 22/50\n",
      "20/20 [==============================] - 17s 860ms/step - loss: 0.9318 - acc: 0.5250 - val_loss: 0.8830 - val_acc: 0.6000\n",
      "Epoch 23/50\n",
      "20/20 [==============================] - 16s 823ms/step - loss: 0.9053 - acc: 0.5450 - val_loss: 1.0191 - val_acc: 0.5400\n",
      "Epoch 24/50\n",
      "20/20 [==============================] - 16s 823ms/step - loss: 0.9612 - acc: 0.5500 - val_loss: 1.1354 - val_acc: 0.4500\n",
      "Epoch 25/50\n",
      "20/20 [==============================] - 17s 827ms/step - loss: 0.9516 - acc: 0.5600 - val_loss: 0.9782 - val_acc: 0.5200\n",
      "Epoch 26/50\n",
      "20/20 [==============================] - 16s 817ms/step - loss: 0.8532 - acc: 0.5550 - val_loss: 0.8966 - val_acc: 0.5600\n",
      "Epoch 27/50\n",
      "20/20 [==============================] - 16s 802ms/step - loss: 0.8915 - acc: 0.5850 - val_loss: 1.3337 - val_acc: 0.3100\n",
      "Epoch 28/50\n",
      "20/20 [==============================] - 16s 801ms/step - loss: 0.9485 - acc: 0.5335 - val_loss: 1.1158 - val_acc: 0.4400\n",
      "Epoch 29/50\n",
      "20/20 [==============================] - 16s 822ms/step - loss: 0.8839 - acc: 0.5550 - val_loss: 1.1364 - val_acc: 0.4600\n",
      "Epoch 30/50\n",
      "20/20 [==============================] - 17s 845ms/step - loss: 0.8557 - acc: 0.5800 - val_loss: 1.0466 - val_acc: 0.5200\n",
      "Epoch 31/50\n",
      "20/20 [==============================] - 17s 844ms/step - loss: 0.8814 - acc: 0.5700 - val_loss: 1.0389 - val_acc: 0.5200\n",
      "Epoch 32/50\n",
      "20/20 [==============================] - 17s 828ms/step - loss: 0.8480 - acc: 0.6156 - val_loss: 0.9192 - val_acc: 0.5600\n",
      "Epoch 33/50\n",
      "20/20 [==============================] - 17s 844ms/step - loss: 0.8929 - acc: 0.5600 - val_loss: 0.8755 - val_acc: 0.5900\n",
      "Epoch 34/50\n",
      "20/20 [==============================] - 16s 822ms/step - loss: 0.9030 - acc: 0.5300 - val_loss: 1.0970 - val_acc: 0.5000\n",
      "Epoch 35/50\n",
      "20/20 [==============================] - 16s 811ms/step - loss: 0.9206 - acc: 0.5150 - val_loss: 1.1741 - val_acc: 0.4400\n",
      "Epoch 36/50\n",
      "20/20 [==============================] - 17s 843ms/step - loss: 0.9076 - acc: 0.5750 - val_loss: 0.9487 - val_acc: 0.5700\n",
      "Epoch 37/50\n",
      "20/20 [==============================] - 18s 886ms/step - loss: 0.9306 - acc: 0.5150 - val_loss: 1.2742 - val_acc: 0.3400\n",
      "Epoch 38/50\n",
      "20/20 [==============================] - 19s 954ms/step - loss: 0.9325 - acc: 0.5500 - val_loss: 1.4601 - val_acc: 0.3100\n",
      "Epoch 39/50\n",
      "20/20 [==============================] - 18s 900ms/step - loss: 0.8715 - acc: 0.6350 - val_loss: 1.0264 - val_acc: 0.5200\n",
      "Epoch 40/50\n",
      "20/20 [==============================] - 18s 921ms/step - loss: 0.9225 - acc: 0.5400 - val_loss: 0.9284 - val_acc: 0.5900\n",
      "Epoch 41/50\n",
      "20/20 [==============================] - 17s 871ms/step - loss: 0.8609 - acc: 0.5600 - val_loss: 1.0194 - val_acc: 0.5500\n",
      "Epoch 42/50\n",
      "20/20 [==============================] - 18s 882ms/step - loss: 0.8763 - acc: 0.5500 - val_loss: 1.2200 - val_acc: 0.4000\n",
      "Epoch 43/50\n",
      "20/20 [==============================] - 17s 853ms/step - loss: 0.8202 - acc: 0.6200 - val_loss: 1.8518 - val_acc: 0.3300\n",
      "Epoch 44/50\n",
      "20/20 [==============================] - 17s 870ms/step - loss: 0.8956 - acc: 0.5800 - val_loss: 1.1142 - val_acc: 0.5300\n",
      "Epoch 45/50\n",
      "20/20 [==============================] - 17s 827ms/step - loss: 0.9070 - acc: 0.5550 - val_loss: 1.2865 - val_acc: 0.4400\n",
      "Epoch 46/50\n",
      "20/20 [==============================] - 16s 805ms/step - loss: 0.7991 - acc: 0.6500 - val_loss: 2.1631 - val_acc: 0.2400\n",
      "Epoch 47/50\n",
      "20/20 [==============================] - 16s 786ms/step - loss: 0.9330 - acc: 0.5650 - val_loss: 1.1339 - val_acc: 0.4300\n",
      "Epoch 48/50\n",
      "20/20 [==============================] - 16s 822ms/step - loss: 0.9746 - acc: 0.5400 - val_loss: 1.2344 - val_acc: 0.4300\n",
      "Epoch 49/50\n",
      "20/20 [==============================] - 17s 859ms/step - loss: 0.8974 - acc: 0.5927 - val_loss: 1.2465 - val_acc: 0.4600\n",
      "Epoch 50/50\n",
      "20/20 [==============================] - 18s 901ms/step - loss: 0.8782 - acc: 0.5200 - val_loss: 0.9818 - val_acc: 0.5800\n"
     ]
    }
   ],
   "source": [
    "hist = model.fit_generator(training_set,\n",
    "                         steps_per_epoch = 20, #20\n",
    "                         epochs = 50,  #1000\n",
    "                         validation_data = validation_set,\n",
    "                         validation_steps = 10,\n",
    "                         callbacks=[es,mc])\n",
    " "
   ]
  },
  {
   "cell_type": "code",
   "execution_count": 19,
   "metadata": {},
   "outputs": [
    {
     "name": "stdout",
     "output_type": "stream",
     "text": [
      "-- Evaluate --\n",
      "acc: 58.00%\n",
      "-- Predict --\n",
      "{'casual': 0, 'feminine': 1, 'formal': 2}\n"
     ]
    }
   ],
   "source": [
    "\n",
    "# 모델 평가하기\n",
    "print(\"-- Evaluate --\")\n",
    " \n",
    "scores = model.evaluate_generator(\n",
    "            validation_set,\n",
    "            steps = 10)\n",
    " \n",
    "print(\"%s: %.2f%%\" %(model.metrics_names[1], scores[1]*100))\n",
    " \n",
    "# 모델 예측하기\n",
    "print(\"-- Predict --\")\n",
    " \n",
    "output = model.predict_generator(\n",
    "            validation_set,\n",
    "            steps = 100)\n",
    "print(validation_set.class_indices)\n",
    "np.set_printoptions(formatter={'float': lambda x: \"{0:0.3f}\".format(x)})\n",
    " "
   ]
  },
  {
   "cell_type": "code",
   "execution_count": 20,
   "metadata": {},
   "outputs": [
    {
     "data": {
      "image/png": "[encoded data removed]",
      "text/plain": [
       "<Figure size 432x288 with 2 Axes>"
      ]
     },
     "metadata": {
      "needs_background": "light"
     },
     "output_type": "display_data"
    }
   ],
   "source": [
    "import matplotlib.pyplot as plt\n",
    " \n",
    "fig, loss_ax = plt.subplots()\n",
    " \n",
    "acc_ax = loss_ax.twinx()\n",
    " \n",
    "loss_ax.plot(hist.history['loss'], 'y', label='train loss')\n",
    "#loss_ax.plot(hist.history['val_loss'], 'r', label='val loss')\n",
    "##loss_ax.set_ylim([0.0, 0.5])\n",
    " \n",
    "acc_ax.plot(hist.history['acc'], 'b', label='train acc')\n",
    "#acc_ax.plot(hist.history['val_acc'], 'g', label='val acc')\n",
    "##acc_ax.set_ylim([0.8, 1.0])\n",
    " \n",
    "loss_ax.set_xlabel('epoch')\n",
    "loss_ax.set_ylabel('loss')\n",
    "acc_ax.set_ylabel('accuray')\n",
    " \n",
    "loss_ax.legend(loc='upper left')\n",
    "acc_ax.legend(loc='lower left')\n",
    " \n",
    "plt.show()"
   ]
  },
  {
   "cell_type": "code",
   "execution_count": 21,
   "metadata": {},
   "outputs": [],
   "source": [
    "# 모델 저장\n",
    "from keras.models import load_model, model_from_json\n",
    "model.save('model_style_3종류.h5')                       # 모델(architecture, weight 동시 저장) 저장 이름\n",
    "\n",
    "\n",
    "# 모델 아키텍처를 json 형, 식으로 저장                 # 모델 architecture 만 저장 \n",
    "#json_string = model.to_json()                       # json 파일에서 모델 아키텍처 재구성\n",
    "#model = model_from_json(json_string) \n",
    "\n",
    "\n",
    "# 모델 Weights 저장\n",
    "#model.save_weights()\n"
   ]
  },
  {
   "cell_type": "code",
   "execution_count": null,
   "metadata": {},
   "outputs": [],
   "source": [
    "from keras.models import load_model\n",
    "model = load_model('model_style_3종류.h5')\n",
    "model = model.load_weights('model_style_3종류_w.h5')"
   ]
  },
  {
   "cell_type": "code",
   "execution_count": null,
   "metadata": {},
   "outputs": [],
   "source": []
  }
 ],
 "metadata": {
  "kernelspec": {
   "display_name": "[CPU_ENV]",
   "language": "python",
   "name": "cpu_env"
  },
  "language_info": {
   "codemirror_mode": {
    "name": "ipython",
    "version": 3
   },
   "file_extension": ".py",
   "mimetype": "text/x-python",
   "name": "python",
   "nbconvert_exporter": "python",
   "pygments_lexer": "ipython3",
   "version": "3.6.9"
  }
 },
 "nbformat": 4,
 "nbformat_minor": 2
}
