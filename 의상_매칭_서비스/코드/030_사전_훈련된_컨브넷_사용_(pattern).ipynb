{
 "cells": [
  {
   "cell_type": "code",
   "execution_count": 1,
   "metadata": {},
   "outputs": [
    {
     "name": "stderr",
     "output_type": "stream",
     "text": [
      "Using TensorFlow backend.\n"
     ]
    }
   ],
   "source": [
    "import cv2\n",
    "import os\n",
    "import shutil\n",
    "import numpy as np\n",
    "import pandas as pd\n",
    "import tensorflow as tf\n",
    "import matplotlib.pyplot as plt\n",
    "import matplotlib.image as mpimg\n",
    "from PIL import Image\n",
    "from sklearn.model_selection import train_test_split\n",
    "from keras import layers, Input, models, optimizers\n",
    "from keras.models import Model, Sequential\n",
    "from keras.layers import MaxPooling2D, Conv2D\n",
    "from keras.layers import Activation, Dropout, Flatten, Dense\n",
    "from keras.callbacks import ModelCheckpoint\n",
    "from keras.layers.normalization import BatchNormalization\n",
    "from keras.preprocessing.image import ImageDataGenerator\n",
    "from keras_preprocessing import image"
   ]
  },
  {
   "cell_type": "code",
   "execution_count": 2,
   "metadata": {},
   "outputs": [],
   "source": [
    "from keras.applications import VGG16\n",
    "\n",
    "conv_base = VGG16(weights = 'imagenet',\n",
    "                 include_top=False,\n",
    "                 input_shape=(150,150,3))"
   ]
  },
  {
   "cell_type": "code",
   "execution_count": 3,
   "metadata": {},
   "outputs": [],
   "source": [
    "base_dir = './pattern_train_base/'\n",
    "train_dir = os.path.join(base_dir, 'train')\n",
    "validation_dir = os.path.join(base_dir, 'validation')\n",
    "test_dir = os.path.join(base_dir, 'test')\n",
    "\n",
    "datagen = ImageDataGenerator(rescale=1./255)\n",
    "batch_size = 20"
   ]
  },
  {
   "cell_type": "code",
   "execution_count": 4,
   "metadata": {},
   "outputs": [],
   "source": [
    "def extract_features(directory,sample_count):\n",
    "    features = np.zeros(shape=(sample_count, 4, 4, 512))\n",
    "    labels = np.zeros(shape=(sample_count,7))\n",
    "    generator = datagen.flow_from_directory(\n",
    "        directory,\n",
    "        target_size=(150,150),\n",
    "        batch_size=batch_size,\n",
    "        class_mode='categorical')\n",
    "    i = 0\n",
    "    for inputs_batch, labels_batch in generator:\n",
    "        features_batch = conv_base.predict(inputs_batch)\n",
    "        features[i * batch_size : (i + 1) * batch_size] = features_batch\n",
    "        labels[i * batch_size : (i + 1) * batch_size] = labels_batch\n",
    "        i += 1\n",
    "        if i * batch_size >= sample_count:\n",
    "            break\n",
    "    return features, labels"
   ]
  },
  {
   "cell_type": "code",
   "execution_count": 5,
   "metadata": {},
   "outputs": [
    {
     "name": "stdout",
     "output_type": "stream",
     "text": [
      "Found 3101 images belonging to 7 classes.\n"
     ]
    }
   ],
   "source": [
    "train_sampel = 3101\n",
    "\n",
    "train_features, train_labels = extract_features(train_dir, train_sampel) #5096"
   ]
  },
  {
   "cell_type": "code",
   "execution_count": 6,
   "metadata": {},
   "outputs": [
    {
     "name": "stdout",
     "output_type": "stream",
     "text": [
      "Found 1550 images belonging to 7 classes.\n"
     ]
    }
   ],
   "source": [
    "validation_sample = 1550\n",
    "\n",
    "validation_features, validation_labels = extract_features(validation_dir, validation_sample) # 2548"
   ]
  },
  {
   "cell_type": "code",
   "execution_count": 7,
   "metadata": {},
   "outputs": [
    {
     "name": "stdout",
     "output_type": "stream",
     "text": [
      "Found 1553 images belonging to 7 classes.\n"
     ]
    }
   ],
   "source": [
    "test_sample = 1553\n",
    "\n",
    "test_features, test_labels = extract_features(test_dir, test_sample) #2547"
   ]
  },
  {
   "cell_type": "code",
   "execution_count": 8,
   "metadata": {},
   "outputs": [],
   "source": [
    "train_features = np.reshape(train_features,(train_sampel, 4 * 4 * 512))\n",
    "validation_features = np.reshape(validation_features,(validation_sample, 4 * 4 * 512))\n",
    "test_features = np.reshape(test_features,(test_sample, 4 * 4 * 512))"
   ]
  },
  {
   "cell_type": "code",
   "execution_count": 9,
   "metadata": {},
   "outputs": [],
   "source": [
    "from keras.callbacks import EarlyStopping\n",
    "from keras.callbacks import ModelCheckpoint\n",
    "es = EarlyStopping(monitor='val_loss', mode='min', verbose=1, patience=50)\n",
    "mc = ModelCheckpoint('best_model_pattern_0424.h5', monitor='val_loss', mode='min', save_best_only=True)"
   ]
  },
  {
   "cell_type": "code",
   "execution_count": 10,
   "metadata": {},
   "outputs": [],
   "source": [
    "from keras import models, layers, optimizers\n",
    "\n",
    "model = models.Sequential()\n",
    "model.add(layers.Dense(256, activation='relu', input_dim = 4 * 4 * 512))\n",
    "model.add(layers.Dropout(0.5))\n",
    "model.add(layers.Dense(7, activation='softmax'))\n",
    "model.compile(optimizer = optimizers.RMSprop(lr=2e-5),\n",
    "                         loss='categorical_crossentropy',\n",
    "                         metrics=['acc'])"
   ]
  },
  {
   "cell_type": "code",
   "execution_count": 11,
   "metadata": {},
   "outputs": [
    {
     "name": "stdout",
     "output_type": "stream",
     "text": [
      "Train on 3101 samples, validate on 1550 samples\n",
      "Epoch 1/500\n",
      "3101/3101 [==============================] - 4s 1ms/step - loss: 1.7046 - acc: 0.3554 - val_loss: 1.2710 - val_acc: 0.6626\n",
      "Epoch 2/500\n",
      "3101/3101 [==============================] - 4s 1ms/step - loss: 1.0671 - acc: 0.6553 - val_loss: 0.9157 - val_acc: 0.7652\n",
      "Epoch 3/500\n",
      "3101/3101 [==============================] - 4s 1ms/step - loss: 0.7435 - acc: 0.7788 - val_loss: 0.7529 - val_acc: 0.7787\n",
      "Epoch 4/500\n",
      "3101/3101 [==============================] - 4s 1ms/step - loss: 0.6005 - acc: 0.8197 - val_loss: 0.6622 - val_acc: 0.8052\n",
      "Epoch 5/500\n",
      "3101/3101 [==============================] - 4s 1ms/step - loss: 0.5002 - acc: 0.8533 - val_loss: 0.6024 - val_acc: 0.8142\n",
      "Epoch 6/500\n",
      "3101/3101 [==============================] - 4s 1ms/step - loss: 0.4578 - acc: 0.8617 - val_loss: 0.5801 - val_acc: 0.8161\n",
      "Epoch 7/500\n",
      "3101/3101 [==============================] - 4s 1ms/step - loss: 0.4030 - acc: 0.8794 - val_loss: 0.5425 - val_acc: 0.8232\n",
      "Epoch 8/500\n",
      "3101/3101 [==============================] - 4s 1ms/step - loss: 0.3690 - acc: 0.8862 - val_loss: 0.5166 - val_acc: 0.8277\n",
      "Epoch 9/500\n",
      "3101/3101 [==============================] - 4s 1ms/step - loss: 0.3266 - acc: 0.9062 - val_loss: 0.5048 - val_acc: 0.8381\n",
      "Epoch 10/500\n",
      "3101/3101 [==============================] - 4s 1ms/step - loss: 0.3135 - acc: 0.8997 - val_loss: 0.4908 - val_acc: 0.8394\n",
      "Epoch 11/500\n",
      "3101/3101 [==============================] - 4s 1ms/step - loss: 0.2814 - acc: 0.9149 - val_loss: 0.5064 - val_acc: 0.8329\n",
      "Epoch 12/500\n",
      "3101/3101 [==============================] - 4s 1ms/step - loss: 0.2662 - acc: 0.9174 - val_loss: 0.4809 - val_acc: 0.8413\n",
      "Epoch 13/500\n",
      "3101/3101 [==============================] - 4s 1ms/step - loss: 0.2521 - acc: 0.9233 - val_loss: 0.4683 - val_acc: 0.8413\n",
      "Epoch 14/500\n",
      "3101/3101 [==============================] - 4s 1ms/step - loss: 0.2273 - acc: 0.9336 - val_loss: 0.4742 - val_acc: 0.8394\n",
      "Epoch 15/500\n",
      "3101/3101 [==============================] - 4s 1ms/step - loss: 0.2226 - acc: 0.9300 - val_loss: 0.4742 - val_acc: 0.8439\n",
      "Epoch 16/500\n",
      "3101/3101 [==============================] - 4s 1ms/step - loss: 0.1945 - acc: 0.9458 - val_loss: 0.4627 - val_acc: 0.8445\n",
      "Epoch 17/500\n",
      "3101/3101 [==============================] - 4s 1ms/step - loss: 0.1945 - acc: 0.9455 - val_loss: 0.4533 - val_acc: 0.8458\n",
      "Epoch 18/500\n",
      "3101/3101 [==============================] - 4s 1ms/step - loss: 0.1869 - acc: 0.9455 - val_loss: 0.4571 - val_acc: 0.8490\n",
      "Epoch 19/500\n",
      "3101/3101 [==============================] - 4s 1ms/step - loss: 0.1741 - acc: 0.9513 - val_loss: 0.4395 - val_acc: 0.8542\n",
      "Epoch 20/500\n",
      "3101/3101 [==============================] - 4s 1ms/step - loss: 0.1640 - acc: 0.9536 - val_loss: 0.4429 - val_acc: 0.8516\n",
      "Epoch 21/500\n",
      "3101/3101 [==============================] - 4s 1ms/step - loss: 0.1593 - acc: 0.9558 - val_loss: 0.4457 - val_acc: 0.8477\n",
      "Epoch 22/500\n",
      "3101/3101 [==============================] - 4s 1ms/step - loss: 0.1533 - acc: 0.9552 - val_loss: 0.4612 - val_acc: 0.8477\n",
      "Epoch 23/500\n",
      "3101/3101 [==============================] - 4s 1ms/step - loss: 0.1500 - acc: 0.9529 - val_loss: 0.4424 - val_acc: 0.8503\n",
      "Epoch 24/500\n",
      "3101/3101 [==============================] - 4s 1ms/step - loss: 0.1300 - acc: 0.9626 - val_loss: 0.4504 - val_acc: 0.8555\n",
      "Epoch 25/500\n",
      "3101/3101 [==============================] - 4s 1ms/step - loss: 0.1241 - acc: 0.9694 - val_loss: 0.4391 - val_acc: 0.8516\n",
      "Epoch 26/500\n",
      "3101/3101 [==============================] - 4s 1ms/step - loss: 0.1194 - acc: 0.9700 - val_loss: 0.4477 - val_acc: 0.8568\n",
      "Epoch 27/500\n",
      "3101/3101 [==============================] - 4s 1ms/step - loss: 0.1165 - acc: 0.9671 - val_loss: 0.4443 - val_acc: 0.8542\n",
      "Epoch 28/500\n",
      "3101/3101 [==============================] - 4s 1ms/step - loss: 0.1131 - acc: 0.9687 - val_loss: 0.4315 - val_acc: 0.8523\n",
      "Epoch 29/500\n",
      "3101/3101 [==============================] - 4s 1ms/step - loss: 0.1056 - acc: 0.9707 - val_loss: 0.4405 - val_acc: 0.8542\n",
      "Epoch 30/500\n",
      "3101/3101 [==============================] - 4s 1ms/step - loss: 0.1020 - acc: 0.9713 - val_loss: 0.4610 - val_acc: 0.8439\n",
      "Epoch 31/500\n",
      "3101/3101 [==============================] - 4s 1ms/step - loss: 0.0968 - acc: 0.9765 - val_loss: 0.4482 - val_acc: 0.8548\n",
      "Epoch 32/500\n",
      "3101/3101 [==============================] - 4s 1ms/step - loss: 0.0919 - acc: 0.9771 - val_loss: 0.4377 - val_acc: 0.8561\n",
      "Epoch 33/500\n",
      "3101/3101 [==============================] - 4s 1ms/step - loss: 0.0879 - acc: 0.9774 - val_loss: 0.4476 - val_acc: 0.8548\n",
      "Epoch 34/500\n",
      "3101/3101 [==============================] - 4s 1ms/step - loss: 0.0827 - acc: 0.9813 - val_loss: 0.4477 - val_acc: 0.8613\n",
      "Epoch 35/500\n",
      "3101/3101 [==============================] - 4s 1ms/step - loss: 0.0847 - acc: 0.9807 - val_loss: 0.4397 - val_acc: 0.8600\n",
      "Epoch 36/500\n",
      "3101/3101 [==============================] - 4s 1ms/step - loss: 0.0765 - acc: 0.9819 - val_loss: 0.4433 - val_acc: 0.8568\n",
      "Epoch 37/500\n",
      "3101/3101 [==============================] - 4s 1ms/step - loss: 0.0724 - acc: 0.9823 - val_loss: 0.4452 - val_acc: 0.8594\n",
      "Epoch 38/500\n",
      "3101/3101 [==============================] - 4s 1ms/step - loss: 0.0685 - acc: 0.9845 - val_loss: 0.4553 - val_acc: 0.8568\n",
      "Epoch 39/500\n",
      "3101/3101 [==============================] - 4s 1ms/step - loss: 0.0663 - acc: 0.9877 - val_loss: 0.4624 - val_acc: 0.8555\n",
      "Epoch 40/500\n",
      "3101/3101 [==============================] - 4s 1ms/step - loss: 0.0659 - acc: 0.9845 - val_loss: 0.4538 - val_acc: 0.8548\n",
      "Epoch 41/500\n",
      "3101/3101 [==============================] - 4s 1ms/step - loss: 0.0593 - acc: 0.9903 - val_loss: 0.4488 - val_acc: 0.8619\n",
      "Epoch 42/500\n",
      "3101/3101 [==============================] - 4s 1ms/step - loss: 0.0618 - acc: 0.9848 - val_loss: 0.4560 - val_acc: 0.8600\n",
      "Epoch 43/500\n",
      "3101/3101 [==============================] - 4s 1ms/step - loss: 0.0572 - acc: 0.9874 - val_loss: 0.4533 - val_acc: 0.8600\n",
      "Epoch 44/500\n",
      "3101/3101 [==============================] - 4s 1ms/step - loss: 0.0526 - acc: 0.9897 - val_loss: 0.4675 - val_acc: 0.8542\n",
      "Epoch 45/500\n",
      "3101/3101 [==============================] - 4s 1ms/step - loss: 0.0482 - acc: 0.9916 - val_loss: 0.4548 - val_acc: 0.8587\n",
      "Epoch 46/500\n",
      "3101/3101 [==============================] - 4s 1ms/step - loss: 0.0505 - acc: 0.9887 - val_loss: 0.4537 - val_acc: 0.8594\n",
      "Epoch 47/500\n",
      "3101/3101 [==============================] - 4s 1ms/step - loss: 0.0478 - acc: 0.9913 - val_loss: 0.4602 - val_acc: 0.8574\n",
      "Epoch 48/500\n",
      "3101/3101 [==============================] - 4s 1ms/step - loss: 0.0467 - acc: 0.9906 - val_loss: 0.4665 - val_acc: 0.8594\n",
      "Epoch 49/500\n",
      "3101/3101 [==============================] - 4s 1ms/step - loss: 0.0445 - acc: 0.9929 - val_loss: 0.4554 - val_acc: 0.8613\n",
      "Epoch 50/500\n",
      "3101/3101 [==============================] - 4s 1ms/step - loss: 0.0390 - acc: 0.9923 - val_loss: 0.4707 - val_acc: 0.8548\n",
      "Epoch 51/500\n",
      "3101/3101 [==============================] - 4s 1ms/step - loss: 0.0434 - acc: 0.9887 - val_loss: 0.4562 - val_acc: 0.8568\n",
      "Epoch 52/500\n",
      "3101/3101 [==============================] - 4s 1ms/step - loss: 0.0398 - acc: 0.9932 - val_loss: 0.4791 - val_acc: 0.8613\n",
      "Epoch 53/500\n",
      "3101/3101 [==============================] - 4s 1ms/step - loss: 0.0357 - acc: 0.9939 - val_loss: 0.4611 - val_acc: 0.8529\n",
      "Epoch 54/500\n",
      "3101/3101 [==============================] - 4s 1ms/step - loss: 0.0346 - acc: 0.9942 - val_loss: 0.4726 - val_acc: 0.8574\n",
      "Epoch 55/500\n",
      "3101/3101 [==============================] - 4s 1ms/step - loss: 0.0338 - acc: 0.9952 - val_loss: 0.4797 - val_acc: 0.8568\n",
      "Epoch 56/500\n",
      "3101/3101 [==============================] - 4s 1ms/step - loss: 0.0334 - acc: 0.9939 - val_loss: 0.4746 - val_acc: 0.8542\n",
      "Epoch 57/500\n",
      "3101/3101 [==============================] - 4s 1ms/step - loss: 0.0313 - acc: 0.9955 - val_loss: 0.4873 - val_acc: 0.8548\n",
      "Epoch 58/500\n",
      "3101/3101 [==============================] - 4s 1ms/step - loss: 0.0312 - acc: 0.9932 - val_loss: 0.4872 - val_acc: 0.8619\n",
      "Epoch 59/500\n",
      "3101/3101 [==============================] - 4s 1ms/step - loss: 0.0272 - acc: 0.9952 - val_loss: 0.4824 - val_acc: 0.8581\n",
      "Epoch 60/500\n",
      "3101/3101 [==============================] - 4s 1ms/step - loss: 0.0244 - acc: 0.9984 - val_loss: 0.4804 - val_acc: 0.8568\n"
     ]
    },
    {
     "name": "stdout",
     "output_type": "stream",
     "text": [
      "Epoch 61/500\n",
      "3101/3101 [==============================] - 4s 1ms/step - loss: 0.0230 - acc: 0.9965 - val_loss: 0.5084 - val_acc: 0.8581\n",
      "Epoch 62/500\n",
      "3101/3101 [==============================] - 4s 1ms/step - loss: 0.0272 - acc: 0.9948 - val_loss: 0.4980 - val_acc: 0.8568\n",
      "Epoch 63/500\n",
      "3101/3101 [==============================] - 4s 1ms/step - loss: 0.0245 - acc: 0.9977 - val_loss: 0.4962 - val_acc: 0.8561\n",
      "Epoch 64/500\n",
      "3101/3101 [==============================] - 4s 1ms/step - loss: 0.0243 - acc: 0.9968 - val_loss: 0.4790 - val_acc: 0.8600\n",
      "Epoch 65/500\n",
      "3101/3101 [==============================] - 4s 1ms/step - loss: 0.0203 - acc: 0.9971 - val_loss: 0.4905 - val_acc: 0.8626\n",
      "Epoch 66/500\n",
      "3101/3101 [==============================] - 4s 1ms/step - loss: 0.0205 - acc: 0.9974 - val_loss: 0.4927 - val_acc: 0.8568\n",
      "Epoch 67/500\n",
      "3101/3101 [==============================] - 4s 1ms/step - loss: 0.0217 - acc: 0.9968 - val_loss: 0.4979 - val_acc: 0.8548\n",
      "Epoch 68/500\n",
      "3101/3101 [==============================] - 4s 1ms/step - loss: 0.0191 - acc: 0.9968 - val_loss: 0.5055 - val_acc: 0.8568\n",
      "Epoch 69/500\n",
      "3101/3101 [==============================] - 4s 1ms/step - loss: 0.0183 - acc: 0.9984 - val_loss: 0.5097 - val_acc: 0.8555\n",
      "Epoch 70/500\n",
      "3101/3101 [==============================] - 4s 1ms/step - loss: 0.0161 - acc: 0.9981 - val_loss: 0.5050 - val_acc: 0.8581\n",
      "Epoch 71/500\n",
      "3101/3101 [==============================] - 4s 1ms/step - loss: 0.0187 - acc: 0.9974 - val_loss: 0.5138 - val_acc: 0.8561\n",
      "Epoch 72/500\n",
      "3101/3101 [==============================] - 4s 1ms/step - loss: 0.0177 - acc: 0.9981 - val_loss: 0.5048 - val_acc: 0.8529\n",
      "Epoch 73/500\n",
      "3101/3101 [==============================] - 4s 1ms/step - loss: 0.0176 - acc: 0.9965 - val_loss: 0.5149 - val_acc: 0.8594\n",
      "Epoch 74/500\n",
      "3101/3101 [==============================] - 4s 1ms/step - loss: 0.0164 - acc: 0.9977 - val_loss: 0.5186 - val_acc: 0.8523\n",
      "Epoch 75/500\n",
      "3101/3101 [==============================] - 4s 1ms/step - loss: 0.0152 - acc: 0.9977 - val_loss: 0.5179 - val_acc: 0.8555\n",
      "Epoch 76/500\n",
      "3101/3101 [==============================] - 4s 1ms/step - loss: 0.0129 - acc: 0.9990 - val_loss: 0.5256 - val_acc: 0.8581\n",
      "Epoch 77/500\n",
      "3101/3101 [==============================] - 4s 1ms/step - loss: 0.0126 - acc: 0.9987 - val_loss: 0.5273 - val_acc: 0.8581\n",
      "Epoch 78/500\n",
      "3101/3101 [==============================] - 4s 1ms/step - loss: 0.0127 - acc: 0.9994 - val_loss: 0.5205 - val_acc: 0.8542\n",
      "Epoch 00078: early stopping\n"
     ]
    }
   ],
   "source": [
    "history = model.fit(train_features, train_labels,\n",
    "                   epochs=500,\n",
    "                   batch_size=20,\n",
    "                   validation_data=(validation_features, validation_labels),\n",
    "                   callbacks=[es,mc])"
   ]
  },
  {
   "cell_type": "code",
   "execution_count": 15,
   "metadata": {},
   "outputs": [],
   "source": [
    "model.save('pattern_0427.h5')"
   ]
  },
  {
   "cell_type": "code",
   "execution_count": 12,
   "metadata": {
    "scrolled": true
   },
   "outputs": [
    {
     "data": {
      "image/png": "[encoded data removed]",
      "text/plain": [
       "<Figure size 432x288 with 1 Axes>"
      ]
     },
     "metadata": {
      "needs_background": "light"
     },
     "output_type": "display_data"
    },
    {
     "data": {
      "image/png": "[encoded data removed]",
      "text/plain": [
       "<Figure size 432x288 with 1 Axes>"
      ]
     },
     "metadata": {
      "needs_background": "light"
     },
     "output_type": "display_data"
    }
   ],
   "source": [
    "acc = history.history['acc']\n",
    "val_acc = history.history['val_acc']\n",
    "loss = history.history['loss']\n",
    "val_loss = history.history['val_loss']\n",
    "epochs = range(1, len(acc) + 1)\n",
    "\n",
    "plt.plot(epochs, acc, 'bo', label = 'Training acc')\n",
    "plt.plot(epochs, val_acc, 'b', label = 'Validation acc')\n",
    "# plt.tilte('Training and validation accuracy')\n",
    "plt.legend()\n",
    "\n",
    "plt.figure()\n",
    "\n",
    "plt.plot(epochs, loss, 'bo', label = 'Training loss')\n",
    "plt.plot(epochs, val_loss, 'b', label = 'Validation loss')\n",
    "# plt.tilte('Training and validation loss')\n",
    "plt.legend()\n",
    "\n",
    "plt.show()"
   ]
  },
  {
   "cell_type": "code",
   "execution_count": 16,
   "metadata": {},
   "outputs": [],
   "source": [
    "model.save_weights('pattern_weights_0427.h5')"
   ]
  }
 ],
 "metadata": {
  "kernelspec": {
   "display_name": "[CPU_ENV]",
   "language": "python",
   "name": "cpu_env"
  },
  "language_info": {
   "codemirror_mode": {
    "name": "ipython",
    "version": 3
   },
   "file_extension": ".py",
   "mimetype": "text/x-python",
   "name": "python",
   "nbconvert_exporter": "python",
   "pygments_lexer": "ipython3",
   "version": "3.6.10"
  }
 },
 "nbformat": 4,
 "nbformat_minor": 4
}
