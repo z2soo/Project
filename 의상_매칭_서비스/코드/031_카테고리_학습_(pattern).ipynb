{
 "cells": [
  {
   "cell_type": "code",
   "execution_count": 1,
   "metadata": {
    "scrolled": true
   },
   "outputs": [
    {
     "name": "stderr",
     "output_type": "stream",
     "text": [
      "Using TensorFlow backend.\n"
     ]
    }
   ],
   "source": [
    "import cv2\n",
    "import os\n",
    "import shutil\n",
    "import numpy as np\n",
    "import pandas as pd\n",
    "import tensorflow as tf\n",
    "import matplotlib.pyplot as plt\n",
    "import matplotlib.image as mpimg\n",
    "from PIL import Image\n",
    "from sklearn.model_selection import train_test_split\n",
    "from keras import layers, Input, models, optimizers\n",
    "from keras.models import Model, Sequential\n",
    "from keras.layers import MaxPooling2D, Conv2D\n",
    "from keras.layers import Activation, Dropout, Flatten, Dense\n",
    "from keras.callbacks import ModelCheckpoint\n",
    "from keras.layers.normalization import BatchNormalization\n",
    "from keras.preprocessing.image import ImageDataGenerator\n",
    "from keras_preprocessing import image"
   ]
  },
  {
   "cell_type": "code",
   "execution_count": 2,
   "metadata": {},
   "outputs": [],
   "source": [
    "import os, shutil\n",
    "\n",
    "original_dataset_dir = './pattern_train/'\n",
    "\n",
    "base_dir = './pattern_train_base/'\n",
    "\n",
    "train_dir = os.path.join(base_dir,'train')\n",
    "\n",
    "validation_dir = os.path.join(base_dir,'validation')\n",
    "\n",
    "test_dir = os.path.join(base_dir,'test')\n",
    "\n",
    "\n",
    "os.mkdir(base_dir)\n",
    "os.mkdir(train_dir)\n",
    "os.mkdir(validation_dir)\n",
    "os.mkdir(test_dir)"
   ]
  },
  {
   "cell_type": "code",
   "execution_count": 3,
   "metadata": {},
   "outputs": [],
   "source": [
    "train_check_dir = os.path.join(train_dir, 'check')\n",
    "\n",
    "train_dot_dir = os.path.join(train_dir, 'dot')\n",
    "\n",
    "train_floral_dir = os.path.join(train_dir, 'floral')\n",
    "\n",
    "train_graphic_dir = os.path.join(train_dir, 'graphic')\n",
    "\n",
    "train_leopard_dir = os.path.join(train_dir, 'leopard')\n",
    "\n",
    "train_none_dir = os.path.join(train_dir, 'none')\n",
    "\n",
    "train_stripe_dir = os.path.join(train_dir, 'stripe')\n",
    "\n",
    "os.mkdir(train_check_dir)\n",
    "os.mkdir(train_dot_dir)\n",
    "os.mkdir(train_floral_dir)\n",
    "os.mkdir(train_graphic_dir)\n",
    "os.mkdir(train_leopard_dir)\n",
    "os.mkdir(train_none_dir)\n",
    "os.mkdir(train_stripe_dir)"
   ]
  },
  {
   "cell_type": "code",
   "execution_count": 4,
   "metadata": {},
   "outputs": [],
   "source": [
    "validation_check_dir = os.path.join(validation_dir, 'check')\n",
    "validation_dot_dir = os.path.join(validation_dir, 'dot')\n",
    "validation_floral_dir = os.path.join(validation_dir, 'floral')\n",
    "validation_graphic_dir = os.path.join(validation_dir, 'graphic')\n",
    "validation_leopard_dir = os.path.join(validation_dir, 'leopard')\n",
    "validation_none_dir = os.path.join(validation_dir, 'none')\n",
    "validation_stripe_dir = os.path.join(validation_dir, 'stripe')\n",
    "\n",
    "\n",
    "\n",
    "os.mkdir(validation_check_dir)\n",
    "os.mkdir(validation_dot_dir)\n",
    "os.mkdir(validation_floral_dir)\n",
    "os.mkdir(validation_graphic_dir)\n",
    "os.mkdir(validation_leopard_dir)\n",
    "os.mkdir(validation_none_dir)\n",
    "os.mkdir(validation_stripe_dir)\n"
   ]
  },
  {
   "cell_type": "code",
   "execution_count": 5,
   "metadata": {},
   "outputs": [],
   "source": [
    "test_check_dir = os.path.join(test_dir, 'check')\n",
    "test_dot_dir = os.path.join(test_dir, 'dot')\n",
    "test_floral_dir = os.path.join(test_dir, 'floral')\n",
    "test_graphic_dir = os.path.join(test_dir, 'graphic')\n",
    "test_leopard_dir = os.path.join(test_dir, 'leopard')\n",
    "test_none_dir = os.path.join(test_dir, 'none')\n",
    "test_stripe_dir = os.path.join(test_dir, 'stripe')\n",
    "\n",
    "\n",
    "\n",
    "os.mkdir(test_check_dir)\n",
    "os.mkdir(test_dot_dir)\n",
    "os.mkdir(test_floral_dir)\n",
    "os.mkdir(test_graphic_dir)\n",
    "os.mkdir(test_leopard_dir)\n",
    "os.mkdir(test_none_dir)\n",
    "os.mkdir(test_stripe_dir)\n"
   ]
  },
  {
   "cell_type": "code",
   "execution_count": 6,
   "metadata": {},
   "outputs": [],
   "source": [
    "n = 883\n",
    "fnames = ['check{}.jpg'.format(i) for i in range(int(n/2))]\n",
    "for fname in fnames:\n",
    "    src = os.path.join(original_dataset_dir, fname)\n",
    "    dst = os.path.join(train_check_dir, fname)\n",
    "    shutil.copyfile(src,dst)\n",
    "\n",
    "fnames = ['check{}.jpg'.format(i) for i in range(int(n/2),int(n*3/4))]\n",
    "for fname in fnames:\n",
    "    src = os.path.join(original_dataset_dir, fname)\n",
    "    dst = os.path.join(validation_check_dir, fname)\n",
    "    shutil.copyfile(src,dst)\n",
    "    \n",
    "fnames = ['check{}.jpg'.format(i) for i in range(int(n*3/4),n)]\n",
    "for fname in fnames:\n",
    "    src = os.path.join(original_dataset_dir, fname)\n",
    "    dst = os.path.join(test_check_dir, fname)\n",
    "    shutil.copyfile(src,dst)"
   ]
  },
  {
   "cell_type": "code",
   "execution_count": 7,
   "metadata": {},
   "outputs": [],
   "source": [
    "n = 804\n",
    "fnames = ['dot{}.jpg'.format(i) for i in range(int(n/2))]\n",
    "for fname in fnames:\n",
    "    src = os.path.join(original_dataset_dir, fname)\n",
    "    dst = os.path.join(train_dot_dir, fname)\n",
    "    shutil.copyfile(src,dst)\n",
    "\n",
    "fnames = ['dot{}.jpg'.format(i) for i in range(int(n/2),int(n*3/4))]\n",
    "for fname in fnames:\n",
    "    src = os.path.join(original_dataset_dir, fname)\n",
    "    dst = os.path.join(validation_dot_dir, fname)\n",
    "    shutil.copyfile(src,dst)\n",
    "    \n",
    "fnames = ['dot{}.jpg'.format(i) for i in range(int(n*3/4),n)]\n",
    "for fname in fnames:\n",
    "    src = os.path.join(original_dataset_dir, fname)\n",
    "    dst = os.path.join(test_dot_dir, fname)\n",
    "    shutil.copyfile(src,dst)"
   ]
  },
  {
   "cell_type": "code",
   "execution_count": 8,
   "metadata": {},
   "outputs": [],
   "source": [
    "n = 929\n",
    "fnames = ['floral{}.jpg'.format(i) for i in range(int(n/2))]\n",
    "for fname in fnames:\n",
    "    src = os.path.join(original_dataset_dir, fname)\n",
    "    dst = os.path.join(train_floral_dir, fname)\n",
    "    shutil.copyfile(src,dst)\n",
    "\n",
    "fnames = ['floral{}.jpg'.format(i) for i in range(int(n/2),int(n*3/4))]\n",
    "for fname in fnames:\n",
    "    src = os.path.join(original_dataset_dir, fname)\n",
    "    dst = os.path.join(validation_floral_dir, fname)\n",
    "    shutil.copyfile(src,dst)\n",
    "    \n",
    "fnames = ['floral{}.jpg'.format(i) for i in range(int(n*3/4),n)]\n",
    "for fname in fnames:\n",
    "    src = os.path.join(original_dataset_dir, fname)\n",
    "    dst = os.path.join(test_floral_dir, fname)\n",
    "    shutil.copyfile(src,dst)"
   ]
  },
  {
   "cell_type": "code",
   "execution_count": 9,
   "metadata": {},
   "outputs": [],
   "source": [
    "n = 1000\n",
    "fnames = ['graphic{}.jpg'.format(i) for i in range(int(n/2))]\n",
    "for fname in fnames:\n",
    "    src = os.path.join(original_dataset_dir, fname)\n",
    "    dst = os.path.join(train_graphic_dir, fname)\n",
    "    shutil.copyfile(src,dst)\n",
    "\n",
    "fnames = ['graphic{}.jpg'.format(i) for i in range(int(n/2),int(n*3/4))]\n",
    "for fname in fnames:\n",
    "    src = os.path.join(original_dataset_dir, fname)\n",
    "    dst = os.path.join(validation_graphic_dir, fname)\n",
    "    shutil.copyfile(src,dst)\n",
    "    \n",
    "fnames = ['graphic{}.jpg'.format(i) for i in range(int(n*3/4),n)]\n",
    "for fname in fnames:\n",
    "    src = os.path.join(original_dataset_dir, fname)\n",
    "    dst = os.path.join(test_graphic_dir, fname)\n",
    "    shutil.copyfile(src,dst)"
   ]
  },
  {
   "cell_type": "code",
   "execution_count": 10,
   "metadata": {},
   "outputs": [],
   "source": [
    "n = 736\n",
    "fnames = ['leopard{}.jpg'.format(i) for i in range(int(n/2))]\n",
    "for fname in fnames:\n",
    "    src = os.path.join(original_dataset_dir, fname)\n",
    "    dst = os.path.join(train_leopard_dir, fname)\n",
    "    shutil.copyfile(src,dst)\n",
    "\n",
    "fnames = ['leopard{}.jpg'.format(i) for i in range(int(n/2),int(n*3/4))]\n",
    "for fname in fnames:\n",
    "    src = os.path.join(original_dataset_dir, fname)\n",
    "    dst = os.path.join(validation_leopard_dir, fname)\n",
    "    shutil.copyfile(src,dst)\n",
    "    \n",
    "fnames = ['leopard{}.jpg'.format(i) for i in range(int(n*3/4),n)]\n",
    "for fname in fnames:\n",
    "    src = os.path.join(original_dataset_dir, fname)\n",
    "    dst = os.path.join(test_leopard_dir, fname)\n",
    "    shutil.copyfile(src,dst)"
   ]
  },
  {
   "cell_type": "code",
   "execution_count": 11,
   "metadata": {},
   "outputs": [],
   "source": [
    "n = 1050\n",
    "fnames = ['none{}.jpg'.format(i) for i in range(int(n/2))]\n",
    "for fname in fnames:\n",
    "    src = os.path.join(original_dataset_dir, fname)\n",
    "    dst = os.path.join(train_none_dir, fname)\n",
    "    shutil.copyfile(src,dst)\n",
    "\n",
    "fnames = ['none{}.jpg'.format(i) for i in range(int(n/2),int(n*3/4))]\n",
    "for fname in fnames:\n",
    "    src = os.path.join(original_dataset_dir, fname)\n",
    "    dst = os.path.join(validation_none_dir, fname)\n",
    "    shutil.copyfile(src,dst)\n",
    "    \n",
    "fnames = ['none{}.jpg'.format(i) for i in range(int(n*3/4),n)]\n",
    "for fname in fnames:\n",
    "    src = os.path.join(original_dataset_dir, fname)\n",
    "    dst = os.path.join(test_none_dir, fname)\n",
    "    shutil.copyfile(src,dst)"
   ]
  },
  {
   "cell_type": "code",
   "execution_count": 12,
   "metadata": {},
   "outputs": [],
   "source": [
    "n = 802\n",
    "fnames = ['stripe{}.jpg'.format(i) for i in range(int(n/2))]\n",
    "for fname in fnames:\n",
    "    src = os.path.join(original_dataset_dir, fname)\n",
    "    dst = os.path.join(train_stripe_dir, fname)\n",
    "    shutil.copyfile(src,dst)\n",
    "\n",
    "fnames = ['stripe{}.jpg'.format(i) for i in range(int(n/2),int(n*3/4))]\n",
    "for fname in fnames:\n",
    "    src = os.path.join(original_dataset_dir, fname)\n",
    "    dst = os.path.join(validation_stripe_dir, fname)\n",
    "    shutil.copyfile(src,dst)\n",
    "    \n",
    "fnames = ['stripe{}.jpg'.format(i) for i in range(int(n*3/4),n)]\n",
    "for fname in fnames:\n",
    "    src = os.path.join(original_dataset_dir, fname)\n",
    "    dst = os.path.join(test_stripe_dir, fname)\n",
    "    shutil.copyfile(src,dst)"
   ]
  },
  {
   "cell_type": "code",
   "execution_count": 13,
   "metadata": {},
   "outputs": [
    {
     "name": "stdout",
     "output_type": "stream",
     "text": [
      "Model: \"sequential_1\"\n",
      "_________________________________________________________________\n",
      "Layer (type)                 Output Shape              Param #   \n",
      "=================================================================\n",
      "conv2d_1 (Conv2D)            (None, 148, 148, 32)      896       \n",
      "_________________________________________________________________\n",
      "max_pooling2d_1 (MaxPooling2 (None, 74, 74, 32)        0         \n",
      "_________________________________________________________________\n",
      "conv2d_2 (Conv2D)            (None, 72, 72, 64)        18496     \n",
      "_________________________________________________________________\n",
      "max_pooling2d_2 (MaxPooling2 (None, 36, 36, 64)        0         \n",
      "_________________________________________________________________\n",
      "conv2d_3 (Conv2D)            (None, 34, 34, 128)       73856     \n",
      "_________________________________________________________________\n",
      "max_pooling2d_3 (MaxPooling2 (None, 17, 17, 128)       0         \n",
      "_________________________________________________________________\n",
      "conv2d_4 (Conv2D)            (None, 15, 15, 128)       147584    \n",
      "_________________________________________________________________\n",
      "max_pooling2d_4 (MaxPooling2 (None, 7, 7, 128)         0         \n",
      "_________________________________________________________________\n",
      "flatten_1 (Flatten)          (None, 6272)              0         \n",
      "_________________________________________________________________\n",
      "dense_1 (Dense)              (None, 512)               3211776   \n",
      "_________________________________________________________________\n",
      "dense_2 (Dense)              (None, 7)                 3591      \n",
      "=================================================================\n",
      "Total params: 3,456,199\n",
      "Trainable params: 3,456,199\n",
      "Non-trainable params: 0\n",
      "_________________________________________________________________\n"
     ]
    }
   ],
   "source": [
    "model = models.Sequential()\n",
    "model.add(layers.Conv2D(32,(3,3),activation='relu',input_shape=(150,150,3)))\n",
    "model.add(layers.MaxPooling2D((2,2)))\n",
    "model.add(layers.Conv2D(64,(3,3),activation='relu'))\n",
    "model.add(layers.MaxPooling2D((2,2)))\n",
    "model.add(layers.Conv2D(128,(3,3),activation='relu'))\n",
    "model.add(layers.MaxPooling2D((2,2)))\n",
    "model.add(layers.Conv2D(128,(3,3),activation='relu'))\n",
    "model.add(layers.MaxPooling2D((2,2)))\n",
    "model.add(layers.Flatten())\n",
    "model.add(layers.Dense(512,activation='relu'))\n",
    "model.add(layers.Dense(7,activation='softmax'))\n",
    "model.summary()"
   ]
  },
  {
   "cell_type": "code",
   "execution_count": 14,
   "metadata": {},
   "outputs": [
    {
     "name": "stdout",
     "output_type": "stream",
     "text": [
      "Found 3101 images belonging to 7 classes.\n",
      "Found 1550 images belonging to 7 classes.\n"
     ]
    }
   ],
   "source": [
    "model.compile(loss='categorical_crossentropy', #sparse_categorical_crossentropy\n",
    "              optimizer=optimizers.RMSprop(lr=1e-4),\n",
    "             metrics=['acc'])\n",
    "\n",
    "train_datagen = ImageDataGenerator(rescale=1./255)\n",
    "test_datagen = ImageDataGenerator(rescale=1./255)\n",
    "\n",
    "train_generator = train_datagen.flow_from_directory(\n",
    "    train_dir,\n",
    "    target_size=(150,150),\n",
    "    batch_size=10,\n",
    "    class_mode='categorical')\n",
    "\n",
    "validation_generator = test_datagen.flow_from_directory(\n",
    "    validation_dir,\n",
    "    target_size=(150,150),\n",
    "    batch_size=10,\n",
    "    class_mode='categorical')"
   ]
  }
 ],
 "metadata": {
  "kernelspec": {
   "display_name": "[CPU_ENV]",
   "language": "python",
   "name": "cpu_env"
  },
  "language_info": {
   "codemirror_mode": {
    "name": "ipython",
    "version": 3
   },
   "file_extension": ".py",
   "mimetype": "text/x-python",
   "name": "python",
   "nbconvert_exporter": "python",
   "pygments_lexer": "ipython3",
   "version": "3.6.10"
  }
 },
 "nbformat": 4,
 "nbformat_minor": 4
}
