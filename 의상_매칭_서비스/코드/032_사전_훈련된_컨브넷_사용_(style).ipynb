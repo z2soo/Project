{
 "cells": [
  {
   "cell_type": "code",
   "execution_count": 1,
   "metadata": {},
   "outputs": [
    {
     "name": "stderr",
     "output_type": "stream",
     "text": [
      "Using TensorFlow backend.\n"
     ]
    }
   ],
   "source": [
    "import cv2\n",
    "import os\n",
    "import shutil\n",
    "import numpy as np\n",
    "import pandas as pd\n",
    "import tensorflow as tf\n",
    "import matplotlib.pyplot as plt\n",
    "import matplotlib.image as mpimg\n",
    "from PIL import Image\n",
    "from sklearn.model_selection import train_test_split\n",
    "from keras import layers, Input, models, optimizers\n",
    "from keras.models import Model, Sequential\n",
    "from keras.layers import MaxPooling2D, Conv2D\n",
    "from keras.layers import Activation, Dropout, Flatten, Dense\n",
    "from keras.callbacks import ModelCheckpoint\n",
    "from keras.layers.normalization import BatchNormalization\n",
    "from keras.preprocessing.image import ImageDataGenerator\n",
    "from keras_preprocessing import image"
   ]
  },
  {
   "cell_type": "code",
   "execution_count": 2,
   "metadata": {},
   "outputs": [],
   "source": [
    "from keras.applications import VGG16\n",
    "\n",
    "conv_base = VGG16(weights = 'imagenet',\n",
    "                 include_top=False,\n",
    "                 input_shape=(150,150,3))"
   ]
  },
  {
   "cell_type": "code",
   "execution_count": 3,
   "metadata": {},
   "outputs": [],
   "source": [
    "base_dir = './style_train_base/'\n",
    "train_dir = os.path.join(base_dir, 'train')\n",
    "validation_dir = os.path.join(base_dir, 'validation')\n",
    "test_dir = os.path.join(base_dir, 'test')\n",
    "\n",
    "datagen = ImageDataGenerator(rescale=1./255)\n",
    "batch_size = 20"
   ]
  },
  {
   "cell_type": "code",
   "execution_count": 4,
   "metadata": {},
   "outputs": [],
   "source": [
    "def extract_features(directory,sample_count):\n",
    "    features = np.zeros(shape=(sample_count, 4, 4, 512))\n",
    "    labels = np.zeros(shape=(sample_count,3))\n",
    "    generator = datagen.flow_from_directory(\n",
    "        directory,\n",
    "        target_size=(150,150),\n",
    "        batch_size=batch_size,\n",
    "        class_mode='categorical')\n",
    "    i = 0\n",
    "    for inputs_batch, labels_batch in generator:\n",
    "        features_batch = conv_base.predict(inputs_batch)\n",
    "        features[i * batch_size : (i + 1) * batch_size] = features_batch\n",
    "        labels[i * batch_size : (i + 1) * batch_size] = labels_batch\n",
    "        i += 1\n",
    "        if i * batch_size >= sample_count:\n",
    "            break\n",
    "    return features, labels"
   ]
  },
  {
   "cell_type": "code",
   "execution_count": 5,
   "metadata": {},
   "outputs": [
    {
     "name": "stdout",
     "output_type": "stream",
     "text": [
      "Found 848 images belonging to 3 classes.\n"
     ]
    }
   ],
   "source": [
    "train_sampel = 848\n",
    "\n",
    "train_features, train_labels = extract_features(train_dir, train_sampel) #5096"
   ]
  },
  {
   "cell_type": "code",
   "execution_count": 6,
   "metadata": {},
   "outputs": [
    {
     "name": "stdout",
     "output_type": "stream",
     "text": [
      "Found 424 images belonging to 3 classes.\n"
     ]
    }
   ],
   "source": [
    "validation_sample = 424\n",
    "\n",
    "validation_features, validation_labels = extract_features(validation_dir, validation_sample) # 2548"
   ]
  },
  {
   "cell_type": "code",
   "execution_count": 7,
   "metadata": {},
   "outputs": [
    {
     "name": "stdout",
     "output_type": "stream",
     "text": [
      "Found 426 images belonging to 3 classes.\n"
     ]
    }
   ],
   "source": [
    "test_sample = 426\n",
    "\n",
    "test_features, test_labels = extract_features(test_dir, test_sample) #2547"
   ]
  },
  {
   "cell_type": "code",
   "execution_count": 8,
   "metadata": {},
   "outputs": [],
   "source": [
    "train_features = np.reshape(train_features,(train_sampel, 4 * 4 * 512))\n",
    "validation_features = np.reshape(validation_features,(validation_sample, 4 * 4 * 512))\n",
    "test_features = np.reshape(test_features,(test_sample, 4 * 4 * 512))"
   ]
  },
  {
   "cell_type": "code",
   "execution_count": 9,
   "metadata": {},
   "outputs": [],
   "source": [
    "from keras.callbacks import EarlyStopping\n",
    "from keras.callbacks import ModelCheckpoint\n",
    "es = EarlyStopping(monitor='val_loss', mode='min', verbose=1, patience=50)\n",
    "mc = ModelCheckpoint('best_model_pattern_0424.h5', monitor='val_loss', mode='min', save_best_only=True)"
   ]
  },
  {
   "cell_type": "code",
   "execution_count": 10,
   "metadata": {},
   "outputs": [],
   "source": [
    "from keras import models, layers, optimizers\n",
    "\n",
    "model = models.Sequential()\n",
    "model.add(layers.Dense(256, activation='relu', input_dim = 4 * 4 * 512))\n",
    "model.add(layers.Dropout(0.5))\n",
    "model.add(layers.Dense(3, activation='softmax'))\n",
    "model.compile(optimizer = optimizers.RMSprop(lr=2e-5),\n",
    "                         loss='categorical_crossentropy',\n",
    "                         metrics=['acc'])"
   ]
  },
  {
   "cell_type": "code",
   "execution_count": 11,
   "metadata": {},
   "outputs": [
    {
     "name": "stdout",
     "output_type": "stream",
     "text": [
      "Train on 848 samples, validate on 424 samples\n",
      "Epoch 1/500\n",
      "848/848 [==============================] - 1s 1ms/step - loss: 1.2471 - acc: 0.3903 - val_loss: 1.0692 - val_acc: 0.3892\n",
      "Epoch 2/500\n",
      "848/848 [==============================] - 1s 1ms/step - loss: 1.0732 - acc: 0.4505 - val_loss: 1.0210 - val_acc: 0.4764\n",
      "Epoch 3/500\n",
      "848/848 [==============================] - 1s 1ms/step - loss: 1.0136 - acc: 0.4917 - val_loss: 0.9850 - val_acc: 0.4811\n",
      "Epoch 4/500\n",
      "848/848 [==============================] - 1s 1ms/step - loss: 0.8917 - acc: 0.5731 - val_loss: 0.9469 - val_acc: 0.5212\n",
      "Epoch 5/500\n",
      "848/848 [==============================] - 1s 1ms/step - loss: 0.8105 - acc: 0.6368 - val_loss: 0.9292 - val_acc: 0.5259\n",
      "Epoch 6/500\n",
      "848/848 [==============================] - 1s 1ms/step - loss: 0.8089 - acc: 0.6297 - val_loss: 0.9172 - val_acc: 0.5542\n",
      "Epoch 7/500\n",
      "848/848 [==============================] - 1s 1ms/step - loss: 0.7344 - acc: 0.6899 - val_loss: 0.9139 - val_acc: 0.5094\n",
      "Epoch 8/500\n",
      "848/848 [==============================] - 1s 1ms/step - loss: 0.6928 - acc: 0.7193 - val_loss: 0.9005 - val_acc: 0.5425\n",
      "Epoch 9/500\n",
      "848/848 [==============================] - 1s 1ms/step - loss: 0.6708 - acc: 0.7193 - val_loss: 0.8861 - val_acc: 0.5401\n",
      "Epoch 10/500\n",
      "848/848 [==============================] - 1s 1ms/step - loss: 0.6607 - acc: 0.7288 - val_loss: 0.8887 - val_acc: 0.5472\n",
      "Epoch 11/500\n",
      "848/848 [==============================] - 1s 1ms/step - loss: 0.6213 - acc: 0.7618 - val_loss: 0.8754 - val_acc: 0.5778\n",
      "Epoch 12/500\n",
      "848/848 [==============================] - 1s 1ms/step - loss: 0.5915 - acc: 0.7606 - val_loss: 0.8960 - val_acc: 0.5542\n",
      "Epoch 13/500\n",
      "848/848 [==============================] - 1s 1ms/step - loss: 0.5580 - acc: 0.7795 - val_loss: 0.8781 - val_acc: 0.5755\n",
      "Epoch 14/500\n",
      "848/848 [==============================] - 1s 1ms/step - loss: 0.5403 - acc: 0.7913 - val_loss: 0.8802 - val_acc: 0.5731\n",
      "Epoch 15/500\n",
      "848/848 [==============================] - 1s 1ms/step - loss: 0.5302 - acc: 0.8149 - val_loss: 0.8579 - val_acc: 0.5755\n",
      "Epoch 16/500\n",
      "848/848 [==============================] - 1s 1ms/step - loss: 0.5049 - acc: 0.8125 - val_loss: 0.8734 - val_acc: 0.5637\n",
      "Epoch 17/500\n",
      "848/848 [==============================] - 1s 1ms/step - loss: 0.4886 - acc: 0.8231 - val_loss: 0.8804 - val_acc: 0.5802\n",
      "Epoch 18/500\n",
      "848/848 [==============================] - 1s 1ms/step - loss: 0.4680 - acc: 0.8373 - val_loss: 0.8644 - val_acc: 0.5802\n",
      "Epoch 19/500\n",
      "848/848 [==============================] - 1s 1ms/step - loss: 0.4395 - acc: 0.8597 - val_loss: 0.8777 - val_acc: 0.5684\n",
      "Epoch 20/500\n",
      "848/848 [==============================] - 1s 1ms/step - loss: 0.4215 - acc: 0.8514 - val_loss: 0.8891 - val_acc: 0.5849\n",
      "Epoch 21/500\n",
      "848/848 [==============================] - 1s 1ms/step - loss: 0.4189 - acc: 0.8644 - val_loss: 0.8512 - val_acc: 0.5731\n",
      "Epoch 22/500\n",
      "848/848 [==============================] - 1s 1ms/step - loss: 0.4033 - acc: 0.8750 - val_loss: 0.8505 - val_acc: 0.5873\n",
      "Epoch 23/500\n",
      "848/848 [==============================] - 1s 1ms/step - loss: 0.3806 - acc: 0.8833 - val_loss: 0.8598 - val_acc: 0.5802\n",
      "Epoch 24/500\n",
      "848/848 [==============================] - 1s 1ms/step - loss: 0.3745 - acc: 0.8774 - val_loss: 0.8457 - val_acc: 0.5755\n",
      "Epoch 25/500\n",
      "848/848 [==============================] - 1s 1ms/step - loss: 0.3698 - acc: 0.8939 - val_loss: 0.8944 - val_acc: 0.5566\n",
      "Epoch 26/500\n",
      "848/848 [==============================] - 1s 1ms/step - loss: 0.3418 - acc: 0.8962 - val_loss: 0.8953 - val_acc: 0.5755\n",
      "Epoch 27/500\n",
      "848/848 [==============================] - 1s 1ms/step - loss: 0.3391 - acc: 0.9033 - val_loss: 0.8592 - val_acc: 0.5896\n",
      "Epoch 28/500\n",
      "848/848 [==============================] - 1s 1ms/step - loss: 0.3163 - acc: 0.9210 - val_loss: 0.8555 - val_acc: 0.5967\n",
      "Epoch 29/500\n",
      "848/848 [==============================] - ETA: 0s - loss: 0.3046 - acc: 0.926 - 1s 1ms/step - loss: 0.3027 - acc: 0.9281 - val_loss: 0.8515 - val_acc: 0.5873\n",
      "Epoch 30/500\n",
      "848/848 [==============================] - 1s 1ms/step - loss: 0.2977 - acc: 0.9222 - val_loss: 0.8725 - val_acc: 0.5778\n",
      "Epoch 31/500\n",
      "848/848 [==============================] - 1s 1ms/step - loss: 0.2869 - acc: 0.9316 - val_loss: 0.8660 - val_acc: 0.5943\n",
      "Epoch 32/500\n",
      "848/848 [==============================] - 1s 1ms/step - loss: 0.2620 - acc: 0.9434 - val_loss: 0.8519 - val_acc: 0.5943\n",
      "Epoch 33/500\n",
      "848/848 [==============================] - 1s 1ms/step - loss: 0.2585 - acc: 0.9446 - val_loss: 0.8730 - val_acc: 0.5802\n",
      "Epoch 34/500\n",
      "848/848 [==============================] - 1s 1ms/step - loss: 0.2504 - acc: 0.9410 - val_loss: 0.8795 - val_acc: 0.5896\n",
      "Epoch 35/500\n",
      "848/848 [==============================] - 1s 1ms/step - loss: 0.2442 - acc: 0.9493 - val_loss: 0.8531 - val_acc: 0.5920\n",
      "Epoch 36/500\n",
      "848/848 [==============================] - 1s 1ms/step - loss: 0.2280 - acc: 0.9564 - val_loss: 0.8763 - val_acc: 0.5778\n",
      "Epoch 37/500\n",
      "848/848 [==============================] - 1s 1ms/step - loss: 0.2145 - acc: 0.9623 - val_loss: 0.8757 - val_acc: 0.5849\n",
      "Epoch 38/500\n",
      "848/848 [==============================] - 1s 1ms/step - loss: 0.2188 - acc: 0.9481 - val_loss: 0.8792 - val_acc: 0.5849\n",
      "Epoch 39/500\n",
      "848/848 [==============================] - 1s 1ms/step - loss: 0.2090 - acc: 0.9646 - val_loss: 0.8815 - val_acc: 0.5825\n",
      "Epoch 40/500\n",
      "848/848 [==============================] - 1s 1ms/step - loss: 0.2018 - acc: 0.9670 - val_loss: 0.9014 - val_acc: 0.5849\n",
      "Epoch 41/500\n",
      "848/848 [==============================] - 1s 1ms/step - loss: 0.1929 - acc: 0.9670 - val_loss: 0.8756 - val_acc: 0.5991\n",
      "Epoch 42/500\n",
      "848/848 [==============================] - 1s 1ms/step - loss: 0.1893 - acc: 0.9682 - val_loss: 0.8935 - val_acc: 0.5802\n",
      "Epoch 43/500\n",
      "848/848 [==============================] - 1s 1ms/step - loss: 0.1748 - acc: 0.9729 - val_loss: 0.9050 - val_acc: 0.5802\n",
      "Epoch 44/500\n",
      "848/848 [==============================] - 1s 1ms/step - loss: 0.1758 - acc: 0.9764 - val_loss: 0.8910 - val_acc: 0.5802\n",
      "Epoch 45/500\n",
      "848/848 [==============================] - 1s 1ms/step - loss: 0.1717 - acc: 0.9717 - val_loss: 0.9122 - val_acc: 0.5849\n",
      "Epoch 46/500\n",
      "848/848 [==============================] - 1s 1ms/step - loss: 0.1620 - acc: 0.9764 - val_loss: 0.9394 - val_acc: 0.5873\n",
      "Epoch 47/500\n",
      "848/848 [==============================] - 1s 1ms/step - loss: 0.1570 - acc: 0.9776 - val_loss: 0.9092 - val_acc: 0.5920\n",
      "Epoch 48/500\n",
      "848/848 [==============================] - 1s 1ms/step - loss: 0.1478 - acc: 0.9823 - val_loss: 0.8973 - val_acc: 0.5991\n",
      "Epoch 49/500\n",
      "848/848 [==============================] - 1s 1ms/step - loss: 0.1428 - acc: 0.9870 - val_loss: 0.9040 - val_acc: 0.5896\n",
      "Epoch 50/500\n",
      "848/848 [==============================] - 1s 1ms/step - loss: 0.1433 - acc: 0.9835 - val_loss: 0.9178 - val_acc: 0.5849\n",
      "Epoch 51/500\n",
      "848/848 [==============================] - 1s 1ms/step - loss: 0.1316 - acc: 0.9858 - val_loss: 0.9406 - val_acc: 0.5825\n",
      "Epoch 52/500\n",
      "848/848 [==============================] - 1s 1ms/step - loss: 0.1420 - acc: 0.9776 - val_loss: 0.9388 - val_acc: 0.5778\n",
      "Epoch 53/500\n",
      "848/848 [==============================] - 1s 1ms/step - loss: 0.1218 - acc: 0.9870 - val_loss: 0.9263 - val_acc: 0.5896\n",
      "Epoch 54/500\n",
      "848/848 [==============================] - 1s 1ms/step - loss: 0.1245 - acc: 0.9858 - val_loss: 0.9328 - val_acc: 0.5825\n",
      "Epoch 55/500\n",
      "848/848 [==============================] - 1s 1ms/step - loss: 0.1154 - acc: 0.9870 - val_loss: 0.9531 - val_acc: 0.5802\n",
      "Epoch 56/500\n",
      "848/848 [==============================] - 1s 1ms/step - loss: 0.1110 - acc: 0.9929 - val_loss: 0.9343 - val_acc: 0.5873\n",
      "Epoch 57/500\n",
      "848/848 [==============================] - 1s 1ms/step - loss: 0.1132 - acc: 0.9870 - val_loss: 0.9364 - val_acc: 0.5896\n",
      "Epoch 58/500\n",
      "848/848 [==============================] - 1s 1ms/step - loss: 0.1037 - acc: 0.9929 - val_loss: 0.9678 - val_acc: 0.5825\n",
      "Epoch 59/500\n",
      "848/848 [==============================] - 1s 1ms/step - loss: 0.1030 - acc: 0.9906 - val_loss: 0.9379 - val_acc: 0.5849\n",
      "Epoch 60/500\n",
      "848/848 [==============================] - 1s 1ms/step - loss: 0.0937 - acc: 0.9941 - val_loss: 0.9362 - val_acc: 0.5873\n",
      "Epoch 61/500\n"
     ]
    },
    {
     "name": "stdout",
     "output_type": "stream",
     "text": [
      "848/848 [==============================] - 1s 1ms/step - loss: 0.0889 - acc: 0.9882 - val_loss: 0.9492 - val_acc: 0.5802\n",
      "Epoch 62/500\n",
      "848/848 [==============================] - 1s 1ms/step - loss: 0.0949 - acc: 0.9882 - val_loss: 1.0105 - val_acc: 0.5849\n",
      "Epoch 63/500\n",
      "848/848 [==============================] - 1s 1ms/step - loss: 0.0941 - acc: 0.9906 - val_loss: 0.9689 - val_acc: 0.5778\n",
      "Epoch 64/500\n",
      "848/848 [==============================] - 1s 1ms/step - loss: 0.0839 - acc: 0.9976 - val_loss: 0.9637 - val_acc: 0.5896\n",
      "Epoch 65/500\n",
      "848/848 [==============================] - 1s 1ms/step - loss: 0.0781 - acc: 0.9953 - val_loss: 0.9740 - val_acc: 0.5873\n",
      "Epoch 66/500\n",
      "848/848 [==============================] - 1s 1ms/step - loss: 0.0734 - acc: 0.9941 - val_loss: 0.9760 - val_acc: 0.5825\n",
      "Epoch 67/500\n",
      "848/848 [==============================] - 1s 1ms/step - loss: 0.0748 - acc: 0.9953 - val_loss: 1.0129 - val_acc: 0.5755\n",
      "Epoch 68/500\n",
      "848/848 [==============================] - 1s 1ms/step - loss: 0.0686 - acc: 0.9941 - val_loss: 0.9915 - val_acc: 0.5778\n",
      "Epoch 69/500\n",
      "848/848 [==============================] - 1s 1ms/step - loss: 0.0701 - acc: 0.9941 - val_loss: 0.9911 - val_acc: 0.5778\n",
      "Epoch 70/500\n",
      "848/848 [==============================] - 1s 1ms/step - loss: 0.0616 - acc: 0.9965 - val_loss: 1.0388 - val_acc: 0.5778\n",
      "Epoch 71/500\n",
      "848/848 [==============================] - 1s 1ms/step - loss: 0.0670 - acc: 0.9953 - val_loss: 1.0161 - val_acc: 0.5896\n",
      "Epoch 72/500\n",
      "848/848 [==============================] - 1s 1ms/step - loss: 0.0670 - acc: 0.9953 - val_loss: 1.0181 - val_acc: 0.5778\n",
      "Epoch 73/500\n",
      "848/848 [==============================] - 1s 1ms/step - loss: 0.0597 - acc: 0.9988 - val_loss: 1.0225 - val_acc: 0.5731\n",
      "Epoch 74/500\n",
      "848/848 [==============================] - 1s 1ms/step - loss: 0.0553 - acc: 0.9965 - val_loss: 1.0262 - val_acc: 0.5873\n",
      "Epoch 00074: early stopping\n"
     ]
    }
   ],
   "source": [
    "history = model.fit(train_features, train_labels,\n",
    "                   epochs=500,\n",
    "                   batch_size=20,\n",
    "                   validation_data=(validation_features, validation_labels),\n",
    "                   callbacks=[es,mc])"
   ]
  },
  {
   "cell_type": "code",
   "execution_count": 12,
   "metadata": {},
   "outputs": [],
   "source": [
    "model.save('style_0427.h5')"
   ]
  },
  {
   "cell_type": "code",
   "execution_count": 13,
   "metadata": {
    "scrolled": true
   },
   "outputs": [
    {
     "data": {
      "image/png": "[encoded data removed]",
      "text/plain": [
       "<Figure size 432x288 with 1 Axes>"
      ]
     },
     "metadata": {
      "needs_background": "light"
     },
     "output_type": "display_data"
    },
    {
     "data": {
      "image/png": "[encoded data removed]",
      "text/plain": [
       "<Figure size 432x288 with 1 Axes>"
      ]
     },
     "metadata": {
      "needs_background": "light"
     },
     "output_type": "display_data"
    }
   ],
   "source": [
    "acc = history.history['acc']\n",
    "val_acc = history.history['val_acc']\n",
    "loss = history.history['loss']\n",
    "val_loss = history.history['val_loss']\n",
    "epochs = range(1, len(acc) + 1)\n",
    "\n",
    "plt.plot(epochs, acc, 'bo', label = 'Training acc')\n",
    "plt.plot(epochs, val_acc, 'b', label = 'Validation acc')\n",
    "# plt.tilte('Training and validation accuracy')\n",
    "plt.legend()\n",
    "\n",
    "plt.figure()\n",
    "\n",
    "plt.plot(epochs, loss, 'bo', label = 'Training loss')\n",
    "plt.plot(epochs, val_loss, 'b', label = 'Validation loss')\n",
    "# plt.tilte('Training and validation loss')\n",
    "plt.legend()\n",
    "\n",
    "plt.show()"
   ]
  },
  {
   "cell_type": "code",
   "execution_count": 14,
   "metadata": {},
   "outputs": [],
   "source": [
    "model.save_weights('style_weights_0427.h5')"
   ]
  }
 ],
 "metadata": {
  "kernelspec": {
   "display_name": "[CPU_ENV]",
   "language": "python",
   "name": "cpu_env"
  },
  "language_info": {
   "codemirror_mode": {
    "name": "ipython",
    "version": 3
   },
   "file_extension": ".py",
   "mimetype": "text/x-python",
   "name": "python",
   "nbconvert_exporter": "python",
   "pygments_lexer": "ipython3",
   "version": "3.6.10"
  }
 },
 "nbformat": 4,
 "nbformat_minor": 4
}
