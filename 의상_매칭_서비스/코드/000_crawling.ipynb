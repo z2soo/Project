{
 "cells": [
  {
   "cell_type": "code",
   "execution_count": 0,
   "metadata": {
    "colab": {},
    "colab_type": "code",
    "id": "B7pnHiadHdRE"
   },
   "outputs": [],
   "source": [
    "# selenium zip 파일 풀어서 crawling.ipynb 파일과 동일 폴더 안에 넣기\n",
    "# 만약에 돌렸는데 chromedriver 버전 에러 뜨면 chrome버전확인하고 chromedriver 버전 맞춰서 다시 깔아줘야 함\n",
    "# 현재 selenium zip파일의 chromedriver는 아마? 80버전"
   ]
  },
  {
   "cell_type": "code",
   "execution_count": 12,
   "metadata": {},
   "outputs": [
    {
     "name": "stderr",
     "output_type": "stream",
     "text": [
      "ERROR: Could not find a version that satisfies the requirement webdriver (from versions: none)\n",
      "ERROR: No matching distribution found for webdriver\n"
     ]
    }
   ],
   "source": [
    "!pip install webdriver"
   ]
  },
  {
   "cell_type": "code",
   "execution_count": 13,
   "metadata": {
    "colab": {},
    "colab_type": "code",
    "id": "Ku6jqrRWHdRK"
   },
   "outputs": [
    {
     "ename": "ImportError",
     "evalue": "cannot import name 'webdriver'",
     "output_type": "error",
     "traceback": [
      "\u001b[1;31m---------------------------------------------------------------------------\u001b[0m",
      "\u001b[1;31mImportError\u001b[0m                               Traceback (most recent call last)",
      "\u001b[1;32m<ipython-input-13-6c877e7cd654>\u001b[0m in \u001b[0;36m<module>\u001b[1;34m\u001b[0m\n\u001b[0;32m      1\u001b[0m \u001b[1;32mimport\u001b[0m \u001b[0mtime\u001b[0m\u001b[1;33m\u001b[0m\u001b[1;33m\u001b[0m\u001b[0m\n\u001b[1;32m----> 2\u001b[1;33m \u001b[1;32mfrom\u001b[0m \u001b[0mselenium\u001b[0m \u001b[1;32mimport\u001b[0m \u001b[0mwebdriver\u001b[0m\u001b[1;33m\u001b[0m\u001b[1;33m\u001b[0m\u001b[0m\n\u001b[0m\u001b[0;32m      3\u001b[0m \u001b[1;31m# from selenium.webdriver.common.keys import Keys\u001b[0m\u001b[1;33m\u001b[0m\u001b[1;33m\u001b[0m\u001b[1;33m\u001b[0m\u001b[0m\n\u001b[0;32m      4\u001b[0m \u001b[1;31m# from urllib.request import urlopen\u001b[0m\u001b[1;33m\u001b[0m\u001b[1;33m\u001b[0m\u001b[1;33m\u001b[0m\u001b[0m\n\u001b[0;32m      5\u001b[0m \u001b[1;31m# from urllib.parse import quote_plus\u001b[0m\u001b[1;33m\u001b[0m\u001b[1;33m\u001b[0m\u001b[1;33m\u001b[0m\u001b[0m\n",
      "\u001b[1;31mImportError\u001b[0m: cannot import name 'webdriver'"
     ]
    }
   ],
   "source": [
    "import time\n",
    "from selenium import webdriver\n",
    "# from selenium.webdriver.common.keys import Keys\n",
    "# from urllib.request import urlopen\n",
    "# from urllib.parse import quote_plus"
   ]
  },
  {
   "cell_type": "markdown",
   "metadata": {
    "colab_type": "text",
    "id": "neGZV-NeHdRO"
   },
   "source": [
    "# pinterest 크롤링"
   ]
  },
  {
   "cell_type": "code",
   "execution_count": 0,
   "metadata": {
    "colab": {},
    "colab_type": "code",
    "id": "g6QV5ybkHdRP"
   },
   "outputs": [],
   "source": [
    "def pinterest_crawling(my_id,my_password,page,directory):\n",
    "    ### 사이트 열기\n",
    "    search = input('어떤 사진을 원하느냐:')\n",
    "    first = search.replace(' ','%20')\n",
    "    last = search.replace(' ','%7Ctyped&term_meta[]=')\n",
    "    \n",
    "    url = 'https://www.pinterest.co.kr/search/pins/?q='+ first + '&rs=typed&term_meta[]=' + last + '%7Ctyped'\n",
    "    \n",
    "    driver = webdriver.Chrome()\n",
    "    driver.get(url)\n",
    "\n",
    "    time.sleep(3) \n",
    "\n",
    "\n",
    "    ## 로그인\n",
    "    login_section = '//*[@id=\"HeaderContent\"]/div/div[1]/div/div/div[2]/button'\n",
    "\n",
    "\n",
    "    driver.find_element_by_xpath(login_section).click()\n",
    "    time.sleep(2)\n",
    "\n",
    "    elem_login = driver.find_element_by_name(\"id\")\n",
    "    elem_login.clear()\n",
    "    elem_login.send_keys(my_id) ## 핀터레스트 아이디\n",
    "\n",
    "    elem_login = driver.find_element_by_name('password')\n",
    "    elem_login.clear()\n",
    "    elem_login.send_keys(my_password) ## 핀터레스트 비밀번호\n",
    "\n",
    "    time.sleep(1)\n",
    "\n",
    "    xpath = \"\"\"//*[@id=\"__PWS_ROOT__\"]/div[1]/div/div/div[3]/div/div/div/div/div/div[3]/form/div[5]/button\"\"\"\n",
    "    driver.find_element_by_xpath(xpath).click()\n",
    "\n",
    "    time.sleep(4)\n",
    "\n",
    "\n",
    "    # body 태그를 태그 이름으로 찾기\n",
    "    elem = driver.find_element_by_tag_name(\"body\") \n",
    "    src_set = set()\n",
    "\n",
    "    # 페이지 스크롤을 위해 임시 변수 선언\n",
    "    pagedowns = 1\n",
    "\n",
    "    while pagedowns < page: #이 숫자를 조정해서 crawling 사진수를 늘릴 수 있음\n",
    "            elem.send_keys(Keys.PAGE_DOWN)\n",
    "            time.sleep(3)\n",
    "        \n",
    "            # 브라우저에 보이는 모든 img 태그를 css 선택자 문법으로 찾는다.\n",
    "            img = driver.find_elements_by_css_selector('div.XiG > img')\n",
    "        \n",
    "            for i in img:\n",
    "                src_set.add(i.get_attribute('src'))\n",
    "            pagedowns += 1\n",
    "\n",
    "\n",
    "    src_list = list(src_set)\n",
    "\n",
    "\n",
    "    print(len(src_list))\n",
    "\n",
    "    n=1\n",
    "    for k in src_list:\n",
    "            with urlopen(k) as f:\n",
    "                    with open(directory + '/' + search + str(n) + '.jpg', 'wb') as h: #파일 저장할 폴더를 미리 만들어주고 디렉토리 지정해주기\n",
    "                            img = f.read()\n",
    "                            h.write(img)\n",
    "            n += 1\n",
    "\n",
    "    driver.close()\n",
    "\n"
   ]
  },
  {
   "cell_type": "markdown",
   "metadata": {
    "colab_type": "text",
    "id": "v4nya8ESHdRT"
   },
   "source": [
    "# Google 크롤링"
   ]
  },
  {
   "cell_type": "code",
   "execution_count": 0,
   "metadata": {
    "colab": {},
    "colab_type": "code",
    "id": "wb4-x5JhHdRT"
   },
   "outputs": [],
   "source": [
    "def google_crawling(page,directory):\n",
    "    ### 사이트 열기\n",
    "    search = input('어떤 사진을 원하느냐:')\n",
    "    url = f'https://www.google.com/search?q={quote_plus(search)}&source=lnms&tbm=isch&sa=X&ved=2ahUKEwjCm9vJhufoAhUK7GEKHfMnASQQ_AUoAXoECA0QAw&biw=859&bih=896'\n",
    "\n",
    "\n",
    "    driver = webdriver.Chrome()\n",
    "    driver.get(url)\n",
    "\n",
    "    time.sleep(3)\n",
    "    \n",
    "\n",
    "    elem = driver.find_element_by_tag_name(\"body\") \n",
    "\n",
    "    src_set = set()\n",
    "\n",
    "    # 페이지 스크롤을 위해 임시 변수 선언\n",
    "    pagedowns = 1\n",
    "\n",
    "    while pagedowns < page:\n",
    "        \n",
    "            elem.send_keys(Keys.PAGE_DOWN)\n",
    "        \n",
    "            time.sleep(3)\n",
    "        \n",
    "        \n",
    "            img = driver.find_elements_by_css_selector('.rg_i.Q4LuWd.tx8vtf')\n",
    "        \n",
    "            for i in img:\n",
    "                src_set.add(i.get_attribute('src'))\n",
    "            pagedowns += 1\n",
    "\n",
    "    src_list = list(src_set)\n",
    "\n",
    "\n",
    "    print(len(src_list))\n",
    "\n",
    "    n=1\n",
    "    for k in src_list:\n",
    "            try:\n",
    "                with urlopen(k) as f:\n",
    "                    with open(directory + '/' + search + str(n) + '.jpg', 'wb') as h:\n",
    "                        img = f.read()\n",
    "                        h.write(img)\n",
    "            except AttributeError :\n",
    "                pass\n",
    "            n += 1\n",
    "\n",
    "    driver.close()"
   ]
  },
  {
   "cell_type": "markdown",
   "metadata": {
    "colab_type": "text",
    "id": "v2gVG51SHdRX"
   },
   "source": [
    "# Instagram 해시태그 크롤링"
   ]
  },
  {
   "cell_type": "code",
   "execution_count": 0,
   "metadata": {
    "colab": {},
    "colab_type": "code",
    "id": "Fh0IYas3HdRY"
   },
   "outputs": [],
   "source": [
    "def instatag_crawling(my_id,my_password,page,directory):\n",
    "    baseUrl = 'https://www.instagram.com/explore/tags/'\n",
    "    plusUrl = input('검색할 태그를 입력하세요 :')\n",
    "    url = baseUrl + quote_plus(plusUrl)\n",
    "\n",
    "    driver = webdriver.Chrome()\n",
    "    driver.get(url)\n",
    "\n",
    "    time.sleep(3)\n",
    "\n",
    "    # 로그인 하기\n",
    "    login_section = '//*[@id=\"react-root\"]/section/nav/div[2]/div/div/div[3]/div/span/a[1]/button'\n",
    "    driver.find_element_by_xpath(login_section).click()\n",
    "    time.sleep(2)\n",
    "\n",
    "\n",
    "    elem_login = driver.find_element_by_name(\"username\")\n",
    "    elem_login.clear()\n",
    "    elem_login.send_keys(my_id)\n",
    "\n",
    "    elem_login = driver.find_element_by_name('password')\n",
    "    elem_login.clear()\n",
    "    elem_login.send_keys(my_password)\n",
    "\n",
    "    time.sleep(1)\n",
    "\n",
    "    xpath = \"\"\"//*[@id=\"react-root\"]/section/main/div/article/div/div[1]/div/form/div[4]/button\"\"\"\n",
    "    driver.find_element_by_xpath(xpath).click()\n",
    "\n",
    "    time.sleep(4)\n",
    "\n",
    "\n",
    "    elem = driver.find_element_by_tag_name(\"body\") \n",
    "\n",
    "    src_set = set()\n",
    "\n",
    "    # 페이지 스크롤을 위해 임시 변수 선언\n",
    "    pagedowns = 1\n",
    "\n",
    "    while pagedowns < page:\n",
    "            elem.send_keys(Keys.PAGE_DOWN)\n",
    "            time.sleep(3)\n",
    "        \n",
    "            # 브라우저에 보이는 모든 img 태그를 css 선택자 문법으로 찾는다.\n",
    "            img = driver.find_elements_by_css_selector('div.KL4Bh > img')\n",
    "        \n",
    "            for i in img:\n",
    "                src_set.add(i.get_attribute('src'))\n",
    "            pagedowns += 1\n",
    "\n",
    "    src_list = list(src_set)\n",
    "\n",
    "\n",
    "    print(len(src_list))\n",
    "\n",
    "    n=1\n",
    "    for k in src_list:\n",
    "            with urlopen(k) as f:\n",
    "                    with open(directory + '/' + plusUrl + str(n) + '.jpg', 'wb') as h:\n",
    "                            img = f.read()\n",
    "                            h.write(img)\n",
    "            n += 1\n",
    "\n",
    "    driver.close()\n"
   ]
  },
  {
   "cell_type": "markdown",
   "metadata": {
    "colab_type": "text",
    "id": "5rwoZJMpHdRc"
   },
   "source": [
    "# Instagram 게시물 크롤링"
   ]
  },
  {
   "cell_type": "code",
   "execution_count": 0,
   "metadata": {
    "colab": {},
    "colab_type": "code",
    "id": "mF4DKFukHdRd"
   },
   "outputs": [],
   "source": [
    "def instapost_crawling(my_id,my_password,page,directory):\n",
    "    baseUrl = 'https://www.instagram.com/'\n",
    "    plusUrl = input('검색할 계정명 입력하세요 :')\n",
    "    url = baseUrl + quote_plus(plusUrl)\n",
    "\n",
    "    driver = webdriver.Chrome()\n",
    "    driver.get(url)\n",
    "\n",
    "    time.sleep(3)\n",
    "\n",
    "    # 로그인 하기\n",
    "    login_section = '//*[@id=\"react-root\"]/section/nav/div[2]/div/div/div[3]/div/span/a[1]/button'\n",
    "    driver.find_element_by_xpath(login_section).click()\n",
    "    time.sleep(2)\n",
    "\n",
    "\n",
    "    elem_login = driver.find_element_by_name(\"username\")\n",
    "    elem_login.clear()\n",
    "    elem_login.send_keys(my_id)\n",
    "\n",
    "    elem_login = driver.find_element_by_name('password')\n",
    "    elem_login.clear()\n",
    "    elem_login.send_keys(my_password)\n",
    "\n",
    "    time.sleep(1)\n",
    "\n",
    "    xpath = \"\"\"//*[@id=\"react-root\"]/section/main/div/article/div/div[1]/div/form/div[4]/button\"\"\"\n",
    "    driver.find_element_by_xpath(xpath).click()\n",
    "\n",
    "    time.sleep(4)\n",
    "\n",
    "\n",
    "    elem = driver.find_element_by_tag_name(\"body\") \n",
    "\n",
    "    src_set = set()\n",
    "\n",
    "    # 페이지 스크롤을 위해 임시 변수 선언\n",
    "    pagedowns = 1\n",
    "\n",
    "    while pagedowns < page:\n",
    "            elem.send_keys(Keys.PAGE_DOWN)\n",
    "            time.sleep(3)\n",
    "        \n",
    "            # 브라우저에 보이는 모든 img 태그를 css 선택자 문법으로 찾는다.\n",
    "            img = driver.find_elements_by_css_selector('div.KL4Bh > img')\n",
    "        \n",
    "            for i in img:\n",
    "                src_set.add(i.get_attribute('src'))\n",
    "            pagedowns += 1\n",
    "\n",
    "    src_list = list(src_set)\n",
    "\n",
    "\n",
    "    print(len(src_list))\n",
    "\n",
    "    n=1\n",
    "    for k in src_list:\n",
    "            with urlopen(k) as f:\n",
    "                    with open(directory + '/' + plusUrl + str(n) + '.jpg', 'wb') as h:\n",
    "                            img = f.read()\n",
    "                            h.write(img)\n",
    "            n += 1\n",
    "\n",
    "    driver.close()\n"
   ]
  },
  {
   "cell_type": "code",
   "execution_count": 0,
   "metadata": {
    "colab": {},
    "colab_type": "code",
    "id": "aCOQkj0iHdRh"
   },
   "outputs": [],
   "source": [
    "# page 수는 스크롤 횟수이므로 저장할 사진 갯수와 다름. \n",
    "# 함수 돌리고 return 되는 값이 저장된 사진 갯수임.\n",
    "# 사진 몇백장 crawling하고 싶으면 page 500정도로 해서 돌려야 함."
   ]
  },
  {
   "cell_type": "code",
   "execution_count": 0,
   "metadata": {
    "colab": {},
    "colab_type": "code",
    "id": "ZMjrydjiHdRl",
    "outputId": "2b84eac2-705b-40d5-8d50-c875e7be8553",
    "scrolled": false
   },
   "outputs": [
    {
     "name": "stdout",
     "output_type": "stream",
     "text": [
      "어떤 사진을 원하느냐:운동복\n",
      "30\n"
     ]
    }
   ],
   "source": [
    "google_crawling(2,'저장할dir')"
   ]
  },
  {
   "cell_type": "code",
   "execution_count": 0,
   "metadata": {
    "colab": {},
    "colab_type": "code",
    "id": "YW5k-k-gHdRq",
    "outputId": "9af1207b-0da2-42f3-f377-149af033eab7"
   },
   "outputs": [
    {
     "name": "stdout",
     "output_type": "stream",
     "text": [
      "어떤 사진을 원하느냐:feminine style\n",
      "9\n"
     ]
    }
   ],
   "source": [
    "pinterest_crawling('핀터레스트아이디','핀터레스트비밀번호',2,'저장할dir')"
   ]
  },
  {
   "cell_type": "code",
   "execution_count": 0,
   "metadata": {
    "colab": {},
    "colab_type": "code",
    "id": "CUJ4AN1eHdRw",
    "outputId": "12cbbd52-d48d-4a32-ac4d-f1a0d6105220"
   },
   "outputs": [
    {
     "name": "stdout",
     "output_type": "stream",
     "text": [
      "검색할 태그를 입력하세요 :ootd\n",
      "21\n"
     ]
    }
   ],
   "source": [
    "instatag_crawling('인스타아이디','인스타비밀번호',2,'저장할dir')"
   ]
  },
  {
   "cell_type": "code",
   "execution_count": 0,
   "metadata": {
    "colab": {},
    "colab_type": "code",
    "id": "G8u0vIxxHdR0",
    "outputId": "74c98926-4a8a-47d9-e6c2-ab2eb426fd94",
    "scrolled": true
   },
   "outputs": [
    {
     "name": "stdout",
     "output_type": "stream",
     "text": [
      "검색할 계정명 입력하세요 :codibook\n",
      "12\n"
     ]
    }
   ],
   "source": [
    "instapost_crawling('인스타아이디','인스타비밀번호',2,'저장할dir')"
   ]
  }
 ],
 "metadata": {
  "colab": {
   "name": "crawling.ipynb",
   "provenance": []
  },
  "kernelspec": {
   "display_name": "Python [conda env:cpu_env] *",
   "language": "python",
   "name": "conda-env-cpu_env-py"
  },
  "language_info": {
   "codemirror_mode": {
    "name": "ipython",
    "version": 3
   },
   "file_extension": ".py",
   "mimetype": "text/x-python",
   "name": "python",
   "nbconvert_exporter": "python",
   "pygments_lexer": "ipython3",
   "version": "3.6.9"
  }
 },
 "nbformat": 4,
 "nbformat_minor": 1
}
