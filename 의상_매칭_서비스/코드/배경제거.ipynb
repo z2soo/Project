{
 "cells": [
  {
   "cell_type": "code",
   "execution_count": 3,
   "metadata": {},
   "outputs": [],
   "source": [
    "import requests\n",
    "import matplotlib.pyplot as plt\n",
    "import matplotlib.image as mpimg\n",
    "import matplotlib.patches as patches\n",
    "from matplotlib.pyplot import imshow\n",
    "import numpy as np\n",
    "import pandas as pd\n",
    "import sys\n",
    "import argparse\n",
    "from PIL import Image, ImageDraw, ImageFont\n",
    "from io import BytesIO\n",
    "import json\n",
    "import pprint\n",
    "import cv2\n",
    "import os\n",
    "import time"
   ]
  },
  {
   "cell_type": "markdown",
   "metadata": {},
   "source": [
    "## 카카오 URL, 인증키"
   ]
  },
  {
   "cell_type": "code",
   "execution_count": 4,
   "metadata": {},
   "outputs": [],
   "source": [
    "API_URL = 'https://kapi.kakao.com/v1/vision/product/detect'\n",
    "MYAPP_KEY = '89b7d96fc38f45fbf6ca52c2b13d2ad8'\n",
    "url = \"https://kapi.kakao.com/v1/vision/product/detect\"       \n",
    "headers = {'Authorization': 'KakaoAK {}'.format(MYAPP_KEY)}"
   ]
  },
  {
   "cell_type": "code",
   "execution_count": 4,
   "metadata": {},
   "outputs": [],
   "source": [
    "# 1. 사용할 이미지 설정\n",
    "\n",
    "img_dir ='./data/style/casual44.jpg'                         # 학원컴퓨터\n",
    "#img_dir ='C:/Jupyter_Script/img/test/test (103).jpg'            # 노트북"
   ]
  },
  {
   "cell_type": "code",
   "execution_count": 5,
   "metadata": {},
   "outputs": [],
   "source": [
    "files = { 'file' : open(img_dir, 'rb')}\n",
    "response = requests.post(url, headers=headers, files=files)\n",
    "result = response.json()\n",
    "fig_w, fig_h = result['result']['width'], result['result']['height']"
   ]
  },
  {
   "cell_type": "code",
   "execution_count": 6,
   "metadata": {
    "scrolled": true
   },
   "outputs": [
    {
     "name": "stdout",
     "output_type": "stream",
     "text": [
      "[[0.34, 0.473333, 0.633333, 0.886667, 'pants'], [0.326667, 0.493333, 0.473333, 0.873333, 'shoes'], [0.26, 0.16, 0.706667, 0.733333, 'outer'], [0.493333, 0.88, 0.6, 0.986667, 'sports shoes']]\n",
      "pants\n",
      "shoes\n",
      "outer\n",
      "sports shoes\n"
     ]
    },
    {
     "data": {
      "text/plain": [
       "<function matplotlib.pyplot.show(*args, **kw)>"
      ]
     },
     "execution_count": 6,
     "metadata": {},
     "output_type": "execute_result"
    },
    {
     "data": {
      "image/png": "[encoded data removed]",
      "text/plain": [
       "<Figure size 432x288 with 1 Axes>"
      ]
     },
     "metadata": {
      "needs_background": "light"
     },
     "output_type": "display_data"
    }
   ],
   "source": [
    "# 1) 사진 정보 담기\n",
    "info = []\n",
    "for each in result['result']['objects']:                 \n",
    "    each = list(each.values())                       \n",
    "    info.append(each)\n",
    "print(info)\n",
    "    \n",
    "# 순서 : x1, y1, x2, y2, class\n",
    "# 'class' key로 호출할 때, 여러 value(glasses, shoes 등) 포함됬었음\n",
    "# 조건으로 pants, t-shirts 등 만 걸러내기 어려워서 이를 보안\n",
    "    \n",
    "    \n",
    "\n",
    "# 2) 사진 잘라내기     \n",
    "# 계속 새로운 이미지를 띄워줘야 앞에서 잘린 이미지로 계속 작업하지 않음\n",
    "x_list = []\n",
    "y_list = []\n",
    "w_list = []\n",
    "h_list = []\n",
    "for _ in range(len(info)):\n",
    "    image = Image.open(img_dir)\n",
    "    \n",
    "    img = cv2.imread('./data/style/casual44.jpg',1)\n",
    "    img_rgb = cv2.cvtColor(img, cv2.COLOR_BGR2RGB)\n",
    "    \n",
    "    category = info[_][4]\n",
    "    print(category)\n",
    "    \n",
    "    if category in ('shirts','t-shirts','pants','skirts','outer'):\n",
    "\n",
    "        x = info[_][0]*fig_w #- 100\n",
    "        y = info[_][1]*fig_h #- 100\n",
    "        w = info[_][2]*fig_w #+ 50\n",
    "        h = info[_][3]*fig_h #+ 50\n",
    "        x_list.append(x)\n",
    "        y_list.append(y)\n",
    "        w_list.append(w)\n",
    "        h_list.append(h)\n",
    "x = int(min(x_list))\n",
    "y = int(min(y_list))\n",
    "w = int(max(w_list))\n",
    "h = int(max(h_list))\n",
    "\n",
    "mask = np.zeros(img.shape[:2],np.uint8)\n",
    "\n",
    "bgdModel = np.zeros((1,65),np.float64)\n",
    "fgdModel = np.zeros((1,65),np.float64)\n",
    " \n",
    "rect = (int(x),int(y),int(w),int(h)) # 범위 좌표\n",
    "cv2.grabCut(img,mask,rect,bgdModel,fgdModel,5,cv2.GC_INIT_WITH_RECT)\n",
    " \n",
    "mask2 = np.where((mask==2)|(mask==0),0,1).astype('uint8')\n",
    "image_rbg_nobg = img_rgb * mask2[:,:,np.newaxis]\n",
    "\n",
    "plt,imshow(image_rbg_nobg), plt.axis(\"off\")\n",
    "plt.show\n",
    "\n"
   ]
  },
  {
   "cell_type": "code",
   "execution_count": 11,
   "metadata": {},
   "outputs": [],
   "source": [
    "save_dir = str('./data/nobg_style/')\n",
    "\n",
    "for img_name in os.listdir('./data/style/'):\n",
    "    try:    \n",
    "        img_dir = './data/style/' + img_name\n",
    "    \n",
    "        img = cv2.imread(img_dir,1)\n",
    "        img_rgb = cv2.cvtColor(img, cv2.COLOR_BGR2RGB)\n",
    "    \n",
    "        files = { 'file' : open(img_dir, 'rb')}\n",
    "        response = requests.post(url, headers=headers, files=files)\n",
    "        result = response.json()\n",
    "        fig_w, fig_h = result['result']['width'], result['result']['height']\n",
    "    \n",
    "        info = []\n",
    "        for each in result['result']['objects']:                 \n",
    "            each = list(each.values())                       \n",
    "            info.append(each)\n",
    "        \n",
    "        x_list = []\n",
    "        y_list = []\n",
    "        w_list = []\n",
    "        h_list = []\n",
    "        \n",
    "        category_list = []\n",
    "        \n",
    "        for _ in range(len(info)):\n",
    "   \n",
    "            category = info[_][4]\n",
    "            category_list.append(category)\n",
    "            if category in ('shirts','t-shirts','outer','pants','skirts','one-piece'):\n",
    "\n",
    "                x = info[_][0]*fig_w #- 100\n",
    "                y = info[_][1]*fig_h #- 100\n",
    "                w = info[_][2]*fig_w #+ 50\n",
    "                h = info[_][3]*fig_h #+ 50\n",
    "                x_list.append(x)\n",
    "                y_list.append(y)\n",
    "                w_list.append(w)\n",
    "                h_list.append(h)\n",
    "                \n",
    "                rect = (int(min(x_list)),int(min(y_list)),int(max(w_list)),int(max(h_list)))\n",
    "                \n",
    "            else:\n",
    "                pass\n",
    "        \n",
    "        if category_list.isdisjoint(['one-piece']):\n",
    "            if category_list.isdisjoint(['shirts','t-shirts','outer']) or category_list.isdisjoint(['pants','skirts']):\n",
    "                rect = (5,5,150,150)\n",
    "                \n",
    "                \n",
    "\n",
    "        mask = np.zeros(img.shape[:2],np.uint8)\n",
    "        bgdModel = np.zeros((1,65),np.float64)\n",
    "        fgdModel = np.zeros((1,65),np.float64)\n",
    "        cv2.grabCut(img,mask,rect,bgdModel,fgdModel,5,cv2.GC_INIT_WITH_RECT)\n",
    " \n",
    "        mask2 = np.where((mask==2)|(mask==0),0,1).astype('uint8')\n",
    "        image_rbg_nobg = img_rgb * mask2[:,:,np.newaxis]\n",
    "        img = cv2.resize(image_rbg_nobg, (150,150))\n",
    "    \n",
    "        new_name = save_dir + img_name\n",
    "        cv2.imwrite(new_name, img)\n",
    "    except:\n",
    "  \n",
    "        mask = np.zeros(img.shape[:2],np.uint8)\n",
    "        bgdModel = np.zeros((1,65),np.float64)\n",
    "        fgdModel = np.zeros((1,65),np.float64)\n",
    " \n",
    "        rect = (5,5,150,150)\n",
    "        cv2.grabCut(img,mask,rect,bgdModel,fgdModel,5,cv2.GC_INIT_WITH_RECT)\n",
    " \n",
    "        mask2 = np.where((mask==2)|(mask==0),0,1).astype('uint8')\n",
    "        image_rbg_nobg = img_rgb * mask2[:,:,np.newaxis]\n",
    "        img = cv2.resize(image_rbg_nobg, (150,150))\n",
    "    \n",
    "        new_name = save_dir + img_name\n",
    "        cv2.imwrite(new_name, img)\n",
    "    \n",
    "\n"
   ]
  }
 ],
 "metadata": {
  "kernelspec": {
   "display_name": "[CPU_ENV]",
   "language": "python",
   "name": "cpu_env"
  },
  "language_info": {
   "codemirror_mode": {
    "name": "ipython",
    "version": 3
   },
   "file_extension": ".py",
   "mimetype": "text/x-python",
   "name": "python",
   "nbconvert_exporter": "python",
   "pygments_lexer": "ipython3",
   "version": "3.6.10"
  }
 },
 "nbformat": 4,
 "nbformat_minor": 4
}
