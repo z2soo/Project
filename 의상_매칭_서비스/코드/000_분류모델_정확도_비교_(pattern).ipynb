{
 "cells": [
  {
   "cell_type": "code",
   "execution_count": 2,
   "metadata": {},
   "outputs": [],
   "source": [
    "import cv2\n",
    "import os\n",
    "import numpy as np\n",
    "import pandas as pd\n",
    "import tensorflow as tf\n",
    "import matplotlib.pyplot as plt\n",
    "from PIL import Image\n",
    "from sklearn.model_selection import train_test_split\n",
    "from keras import layers, Input, models, optimizers\n",
    "from keras.models import Model, Sequential\n",
    "from keras.layers import MaxPooling2D, Conv2D\n",
    "from keras.layers import Activation, Dropout, Flatten, Dense\n",
    "from keras.callbacks import ModelCheckpoint\n",
    "from keras.layers.normalization import BatchNormalization\n",
    "from keras.preprocessing.image import ImageDataGenerator\n",
    "from keras.models import load_model\n",
    "from keras.optimizers import Adam\n",
    "optimizer = Adam(lr=0.001)\n"
   ]
  },
  {
   "cell_type": "markdown",
   "metadata": {},
   "source": [
    "## 데이터 불러오기"
   ]
  },
  {
   "cell_type": "code",
   "execution_count": 19,
   "metadata": {},
   "outputs": [
    {
     "name": "stdout",
     "output_type": "stream",
     "text": [
      "Found 4847 images belonging to 8 classes.\n",
      "Found 2385 images belonging to 8 classes.\n"
     ]
    }
   ],
   "source": [
    "train_datagen = ImageDataGenerator(rescale=1./255,\n",
    "                                   validation_split=0.33)\n",
    "\n",
    "training_set = train_datagen.flow_from_directory('C:/python_DA/final_project/img/pattern_original',\n",
    "                                                 target_size = (150,150),\n",
    "                                                 batch_size = 10,\n",
    "                                                 class_mode = 'categorical',\n",
    "                                                 subset=\"training\")\n",
    "\n",
    "validation_set = train_datagen.flow_from_directory('C:/python_DA/final_project/img/pattern_original',\n",
    "                                                 target_size = (150,150),\n",
    "                                                 batch_size = 10,\n",
    "                                                 class_mode = 'categorical',\n",
    "                                                 subset=\"validation\")"
   ]
  },
  {
   "cell_type": "markdown",
   "metadata": {},
   "source": [
    "## 모델 불러오기 및 정확도"
   ]
  },
  {
   "cell_type": "code",
   "execution_count": 14,
   "metadata": {},
   "outputs": [
    {
     "name": "stdout",
     "output_type": "stream",
     "text": [
      "--- train data acc ---\n",
      "acc: 93.25%\n",
      "\n",
      "\n",
      "--- validation data acc ---\n",
      "acc: 76.35%\n",
      "\n",
      "\n"
     ]
    }
   ],
   "source": [
    "model_1 = load_model('./model/pattern_7class_정확도77.h5')\n",
    "model_1.compile(optimizer = optimizer, \n",
    "               loss = 'categorical_crossentropy', \n",
    "               metrics = ['accuracy'])\n",
    "\n",
    "train_scores = model_1.evaluate_generator(training_set)\n",
    "vali_scores = model_1.evaluate_generator(validation_set)\n",
    "\n",
    "print('--- train data acc ---')\n",
    "print(\"%s: %.2f%%\" %(model_1.metrics_names[1], train_scores[1]*100))\n",
    "print('\\n')\n",
    "\n",
    "print('--- validation data acc ---')\n",
    "print(\"%s: %.2f%%\" %(model_1.metrics_names[1], vali_scores[1]*100))\n",
    "print('\\n')\n",
    "\n",
    "# pattern_re 사진으로 정확도 측정시\n",
    "# train: 87.15\n",
    "# vali: 75.38\n",
    "\n",
    "# pattern_original 사진으로 정확도 측정시\n",
    "# train: 93.25\n",
    "# vali: 76.35"
   ]
  },
  {
   "cell_type": "code",
   "execution_count": 17,
   "metadata": {},
   "outputs": [
    {
     "name": "stdout",
     "output_type": "stream",
     "text": [
      "--- train data acc ---\n",
      "acc: 78.41%\n",
      "\n",
      "\n",
      "--- validation data acc ---\n",
      "acc: 66.62%\n",
      "\n",
      "\n"
     ]
    }
   ],
   "source": [
    "model_2 = load_model('./model/pattern_7class_정확도76.h5')\n",
    "model_2.compile(optimizer = optimizer, \n",
    "               loss = 'categorical_crossentropy', \n",
    "               metrics = ['accuracy'])\n",
    "\n",
    "train_scores = model_2.evaluate_generator(training_set)\n",
    "vali_scores = model_2.evaluate_generator(validation_set)\n",
    "\n",
    "print('--- train data acc ---')\n",
    "print(\"%s: %.2f%%\" %(model_2.metrics_names[1], train_scores[1]*100))\n",
    "print('\\n')\n",
    "\n",
    "print('--- validation data acc ---')\n",
    "print(\"%s: %.2f%%\" %(model_2.metrics_names[1], vali_scores[1]*100))\n",
    "print('\\n')\n",
    "\n",
    "# pattern_re 사진으로 정확도 측정시\n",
    "# train: \n",
    "# vali:\n",
    "\n",
    "# pattern_original 사진으로 정확도 측정시\n",
    "# train: 78.41\n",
    "# vali: 66.62"
   ]
  },
  {
   "cell_type": "code",
   "execution_count": 20,
   "metadata": {},
   "outputs": [
    {
     "name": "stdout",
     "output_type": "stream",
     "text": [
      "--- train data acc ---\n",
      "acc: 87.17%\n",
      "\n",
      "\n",
      "--- validation data acc ---\n",
      "acc: 67.42%\n",
      "\n",
      "\n"
     ]
    }
   ],
   "source": [
    "model_3 = load_model('./model/pattern_no_camo_정확도76.h5')                 # class 8 가지임(tribal 추가)\n",
    "model_3.compile(optimizer = optimizer, \n",
    "               loss = 'categorical_crossentropy', \n",
    "               metrics = ['accuracy'])\n",
    "\n",
    "train_scores = model_3.evaluate_generator(training_set)\n",
    "vali_scores = model_3.evaluate_generator(validation_set)\n",
    "\n",
    "print('--- train data acc ---')\n",
    "print(\"%s: %.2f%%\" %(model_3.metrics_names[1], train_scores[1]*100))\n",
    "print('\\n')\n",
    "\n",
    "print('--- validation data acc ---')\n",
    "print(\"%s: %.2f%%\" %(model_3.metrics_names[1], vali_scores[1]*100))\n",
    "print('\\n')\n",
    "\n",
    "\n",
    "# pattern_re 사진으로 정확도 측정시\n",
    "# train: \n",
    "# vali:\n",
    "\n",
    "# pattern_original 사진으로 정확도 측정시\n",
    "# train: 87.17%\n",
    "# vali: 67.42%"
   ]
  }
 ],
 "metadata": {
  "kernelspec": {
   "display_name": "Python [conda env:cpu_env] *",
   "language": "python",
   "name": "conda-env-cpu_env-py"
  },
  "language_info": {
   "codemirror_mode": {
    "name": "ipython",
    "version": 3
   },
   "file_extension": ".py",
   "mimetype": "text/x-python",
   "name": "python",
   "nbconvert_exporter": "python",
   "pygments_lexer": "ipython3",
   "version": "3.6.9"
  }
 },
 "nbformat": 4,
 "nbformat_minor": 2
}
