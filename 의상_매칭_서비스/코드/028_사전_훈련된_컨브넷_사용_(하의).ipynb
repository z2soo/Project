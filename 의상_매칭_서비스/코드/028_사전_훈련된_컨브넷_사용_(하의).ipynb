{
 "cells": [
  {
   "cell_type": "code",
   "execution_count": 1,
   "metadata": {},
   "outputs": [
    {
     "name": "stderr",
     "output_type": "stream",
     "text": [
      "C:\\Users\\student\\Anaconda3\\envs\\cpu_env\\lib\\site-packages\\tensorflow\\python\\framework\\dtypes.py:493: FutureWarning: Passing (type, 1) or '1type' as a synonym of type is deprecated; in a future version of numpy, it will be understood as (type, (1,)) / '(1,)type'.\n",
      "  _np_qint8 = np.dtype([(\"qint8\", np.int8, 1)])\n",
      "C:\\Users\\student\\Anaconda3\\envs\\cpu_env\\lib\\site-packages\\tensorflow\\python\\framework\\dtypes.py:494: FutureWarning: Passing (type, 1) or '1type' as a synonym of type is deprecated; in a future version of numpy, it will be understood as (type, (1,)) / '(1,)type'.\n",
      "  _np_quint8 = np.dtype([(\"quint8\", np.uint8, 1)])\n",
      "C:\\Users\\student\\Anaconda3\\envs\\cpu_env\\lib\\site-packages\\tensorflow\\python\\framework\\dtypes.py:495: FutureWarning: Passing (type, 1) or '1type' as a synonym of type is deprecated; in a future version of numpy, it will be understood as (type, (1,)) / '(1,)type'.\n",
      "  _np_qint16 = np.dtype([(\"qint16\", np.int16, 1)])\n",
      "C:\\Users\\student\\Anaconda3\\envs\\cpu_env\\lib\\site-packages\\tensorflow\\python\\framework\\dtypes.py:496: FutureWarning: Passing (type, 1) or '1type' as a synonym of type is deprecated; in a future version of numpy, it will be understood as (type, (1,)) / '(1,)type'.\n",
      "  _np_quint16 = np.dtype([(\"quint16\", np.uint16, 1)])\n",
      "C:\\Users\\student\\Anaconda3\\envs\\cpu_env\\lib\\site-packages\\tensorflow\\python\\framework\\dtypes.py:497: FutureWarning: Passing (type, 1) or '1type' as a synonym of type is deprecated; in a future version of numpy, it will be understood as (type, (1,)) / '(1,)type'.\n",
      "  _np_qint32 = np.dtype([(\"qint32\", np.int32, 1)])\n",
      "C:\\Users\\student\\Anaconda3\\envs\\cpu_env\\lib\\site-packages\\tensorflow\\python\\framework\\dtypes.py:502: FutureWarning: Passing (type, 1) or '1type' as a synonym of type is deprecated; in a future version of numpy, it will be understood as (type, (1,)) / '(1,)type'.\n",
      "  np_resource = np.dtype([(\"resource\", np.ubyte, 1)])\n",
      "Using TensorFlow backend.\n"
     ]
    }
   ],
   "source": [
    "import cv2\n",
    "import os\n",
    "import shutil\n",
    "import numpy as np\n",
    "import pandas as pd\n",
    "import tensorflow as tf\n",
    "import matplotlib.pyplot as plt\n",
    "import matplotlib.image as mpimg\n",
    "from PIL import Image\n",
    "from sklearn.model_selection import train_test_split\n",
    "from keras import layers, Input, models, optimizers\n",
    "from keras.models import Model, Sequential\n",
    "from keras.layers import MaxPooling2D, Conv2D\n",
    "from keras.layers import Activation, Dropout, Flatten, Dense\n",
    "from keras.callbacks import ModelCheckpoint\n",
    "from keras.layers.normalization import BatchNormalization\n",
    "from keras.preprocessing.image import ImageDataGenerator\n",
    "from keras_preprocessing import image"
   ]
  },
  {
   "cell_type": "code",
   "execution_count": 2,
   "metadata": {},
   "outputs": [],
   "source": [
    "from keras.applications import VGG16\n",
    "\n",
    "conv_base = VGG16(weights = 'imagenet',\n",
    "                 include_top=False,\n",
    "                 input_shape=(150,150,3))"
   ]
  },
  {
   "cell_type": "code",
   "execution_count": 3,
   "metadata": {},
   "outputs": [],
   "source": [
    "base_dir = './data/train_lower_base'\n",
    "train_dir = os.path.join(base_dir, 'train')\n",
    "validation_dir = os.path.join(base_dir, 'validation')\n",
    "test_dir = os.path.join(base_dir, 'test')\n",
    "\n",
    "datagen = ImageDataGenerator(rescale=1./255)\n",
    "batch_size = 20"
   ]
  },
  {
   "cell_type": "code",
   "execution_count": 4,
   "metadata": {},
   "outputs": [],
   "source": [
    "def extract_features(directory,sample_count):\n",
    "    features = np.zeros(shape=(sample_count, 4, 4, 512))\n",
    "    labels = np.zeros(shape=(sample_count,5))\n",
    "    generator = datagen.flow_from_directory(\n",
    "        directory,\n",
    "        target_size=(150,150),\n",
    "        batch_size=batch_size,\n",
    "        class_mode='categorical')\n",
    "    i = 0\n",
    "    for inputs_batch, labels_batch in generator:\n",
    "        features_batch = conv_base.predict(inputs_batch)\n",
    "        features[i * batch_size : (i + 1) * batch_size] = features_batch\n",
    "        labels[i * batch_size : (i + 1) * batch_size] = labels_batch\n",
    "        i += 1\n",
    "        if i * batch_size >= sample_count:\n",
    "            break\n",
    "    return features, labels"
   ]
  },
  {
   "cell_type": "code",
   "execution_count": 5,
   "metadata": {},
   "outputs": [
    {
     "name": "stdout",
     "output_type": "stream",
     "text": [
      "Found 1250 images belonging to 5 classes.\n"
     ]
    }
   ],
   "source": [
    "train_sampel = 1250\n",
    "\n",
    "train_features, train_labels = extract_features(train_dir, train_sampel) #5096"
   ]
  },
  {
   "cell_type": "code",
   "execution_count": 6,
   "metadata": {},
   "outputs": [
    {
     "name": "stdout",
     "output_type": "stream",
     "text": [
      "Found 625 images belonging to 5 classes.\n"
     ]
    }
   ],
   "source": [
    "validation_sample = 625\n",
    "\n",
    "validation_features, validation_labels = extract_features(validation_dir, validation_sample) # 2548"
   ]
  },
  {
   "cell_type": "code",
   "execution_count": 7,
   "metadata": {},
   "outputs": [
    {
     "name": "stdout",
     "output_type": "stream",
     "text": [
      "Found 625 images belonging to 5 classes.\n"
     ]
    }
   ],
   "source": [
    "test_sample = 625\n",
    "\n",
    "test_features, test_labels = extract_features(test_dir, test_sample) #2547"
   ]
  },
  {
   "cell_type": "code",
   "execution_count": 8,
   "metadata": {},
   "outputs": [],
   "source": [
    "train_features = np.reshape(train_features,(train_sampel, 4 * 4 * 512))\n",
    "validation_features = np.reshape(validation_features,(validation_sample, 4 * 4 * 512))\n",
    "test_features = np.reshape(test_features,(test_sample, 4 * 4 * 512))"
   ]
  },
  {
   "cell_type": "code",
   "execution_count": 9,
   "metadata": {},
   "outputs": [],
   "source": [
    "from keras.callbacks import EarlyStopping\n",
    "from keras.callbacks import ModelCheckpoint\n",
    "es = EarlyStopping(monitor='val_loss', mode='min', verbose=1, patience=50)\n",
    "mc = ModelCheckpoint('best_model_pattern_0424.h5', monitor='val_loss', mode='min', save_best_only=True)"
   ]
  },
  {
   "cell_type": "code",
   "execution_count": 10,
   "metadata": {},
   "outputs": [],
   "source": [
    "from keras import models, layers, optimizers\n",
    "\n",
    "model = models.Sequential()\n",
    "model.add(layers.Dense(256, activation='relu', input_dim = 4 * 4 * 512))\n",
    "model.add(layers.Dropout(0.5))\n",
    "model.add(layers.Dense(5, activation='softmax'))\n",
    "model.compile(optimizer = optimizers.RMSprop(lr=2e-5),\n",
    "                         loss='categorical_crossentropy',\n",
    "                         metrics=['acc'])"
   ]
  },
  {
   "cell_type": "code",
   "execution_count": 11,
   "metadata": {},
   "outputs": [
    {
     "name": "stdout",
     "output_type": "stream",
     "text": [
      "Train on 1250 samples, validate on 625 samples\n",
      "Epoch 1/500\n",
      "1250/1250 [==============================] - 2s 1ms/step - loss: 1.6412 - acc: 0.2984 - val_loss: 1.1647 - val_acc: 0.6000\n",
      "Epoch 2/500\n",
      "1250/1250 [==============================] - 2s 1ms/step - loss: 1.1751 - acc: 0.5352 - val_loss: 0.8990 - val_acc: 0.7456\n",
      "Epoch 3/500\n",
      "1250/1250 [==============================] - 2s 1ms/step - loss: 0.8987 - acc: 0.6688 - val_loss: 0.7689 - val_acc: 0.7920\n",
      "Epoch 4/500\n",
      "1250/1250 [==============================] - 2s 1ms/step - loss: 0.7378 - acc: 0.7456 - val_loss: 0.6400 - val_acc: 0.8304\n",
      "Epoch 5/500\n",
      "1250/1250 [==============================] - 2s 1ms/step - loss: 0.6428 - acc: 0.7816 - val_loss: 0.5710 - val_acc: 0.8480\n",
      "Epoch 6/500\n",
      "1250/1250 [==============================] - 2s 1ms/step - loss: 0.5598 - acc: 0.8272 - val_loss: 0.5246 - val_acc: 0.8592\n",
      "Epoch 7/500\n",
      "1250/1250 [==============================] - 2s 1ms/step - loss: 0.4868 - acc: 0.8264 - val_loss: 0.4885 - val_acc: 0.8720\n",
      "Epoch 8/500\n",
      "1250/1250 [==============================] - 2s 1ms/step - loss: 0.4262 - acc: 0.8608 - val_loss: 0.4579 - val_acc: 0.8688\n",
      "Epoch 9/500\n",
      "1250/1250 [==============================] - 2s 1ms/step - loss: 0.3967 - acc: 0.8832 - val_loss: 0.4318 - val_acc: 0.8768\n",
      "Epoch 10/500\n",
      "1250/1250 [==============================] - 2s 1ms/step - loss: 0.3751 - acc: 0.8848 - val_loss: 0.4081 - val_acc: 0.8768\n",
      "Epoch 11/500\n",
      "1250/1250 [==============================] - 2s 1ms/step - loss: 0.3346 - acc: 0.8960 - val_loss: 0.4051 - val_acc: 0.8880\n",
      "Epoch 12/500\n",
      "1250/1250 [==============================] - 2s 1ms/step - loss: 0.3165 - acc: 0.9064 - val_loss: 0.3943 - val_acc: 0.8784\n",
      "Epoch 13/500\n",
      "1250/1250 [==============================] - 2s 1ms/step - loss: 0.2931 - acc: 0.9136 - val_loss: 0.3702 - val_acc: 0.8832\n",
      "Epoch 14/500\n",
      "1250/1250 [==============================] - 2s 1ms/step - loss: 0.2730 - acc: 0.9096 - val_loss: 0.3691 - val_acc: 0.8928\n",
      "Epoch 15/500\n",
      "1250/1250 [==============================] - 2s 1ms/step - loss: 0.2415 - acc: 0.9304 - val_loss: 0.3520 - val_acc: 0.8928\n",
      "Epoch 16/500\n",
      "1250/1250 [==============================] - 2s 1ms/step - loss: 0.2449 - acc: 0.9248 - val_loss: 0.3646 - val_acc: 0.8912\n",
      "Epoch 17/500\n",
      "1250/1250 [==============================] - ETA: 0s - loss: 0.2075 - acc: 0.947 - 2s 1ms/step - loss: 0.2075 - acc: 0.9472 - val_loss: 0.3540 - val_acc: 0.8912\n",
      "Epoch 18/500\n",
      "1250/1250 [==============================] - 2s 1ms/step - loss: 0.2046 - acc: 0.9448 - val_loss: 0.3456 - val_acc: 0.8896\n",
      "Epoch 19/500\n",
      "1250/1250 [==============================] - 2s 1ms/step - loss: 0.2028 - acc: 0.9488 - val_loss: 0.3329 - val_acc: 0.8832\n",
      "Epoch 20/500\n",
      "1250/1250 [==============================] - 2s 1ms/step - loss: 0.1829 - acc: 0.9528 - val_loss: 0.3255 - val_acc: 0.8976\n",
      "Epoch 21/500\n",
      "1250/1250 [==============================] - 2s 1ms/step - loss: 0.1670 - acc: 0.9560 - val_loss: 0.3302 - val_acc: 0.8976\n",
      "Epoch 22/500\n",
      "1250/1250 [==============================] - 2s 1ms/step - loss: 0.1630 - acc: 0.9520 - val_loss: 0.3279 - val_acc: 0.8976\n",
      "Epoch 23/500\n",
      "1250/1250 [==============================] - 2s 1ms/step - loss: 0.1571 - acc: 0.9600 - val_loss: 0.3240 - val_acc: 0.8960\n",
      "Epoch 24/500\n",
      "1250/1250 [==============================] - 2s 1ms/step - loss: 0.1402 - acc: 0.9720 - val_loss: 0.3103 - val_acc: 0.8976\n",
      "Epoch 25/500\n",
      "1250/1250 [==============================] - 2s 1ms/step - loss: 0.1412 - acc: 0.9632 - val_loss: 0.3106 - val_acc: 0.9008\n",
      "Epoch 26/500\n",
      "1250/1250 [==============================] - 2s 1ms/step - loss: 0.1320 - acc: 0.9672 - val_loss: 0.3088 - val_acc: 0.9040\n",
      "Epoch 27/500\n",
      "1250/1250 [==============================] - 2s 1ms/step - loss: 0.1284 - acc: 0.9704 - val_loss: 0.3045 - val_acc: 0.9024\n",
      "Epoch 28/500\n",
      "1250/1250 [==============================] - 2s 1ms/step - loss: 0.1196 - acc: 0.9656 - val_loss: 0.3071 - val_acc: 0.9040\n",
      "Epoch 29/500\n",
      "1250/1250 [==============================] - 2s 1ms/step - loss: 0.1061 - acc: 0.9752 - val_loss: 0.3011 - val_acc: 0.9024\n",
      "Epoch 30/500\n",
      "1250/1250 [==============================] - 2s 1ms/step - loss: 0.1029 - acc: 0.9808 - val_loss: 0.2995 - val_acc: 0.9040\n",
      "Epoch 31/500\n",
      "1250/1250 [==============================] - 2s 1ms/step - loss: 0.1017 - acc: 0.9760 - val_loss: 0.3150 - val_acc: 0.9008\n",
      "Epoch 32/500\n",
      "1250/1250 [==============================] - 2s 1ms/step - loss: 0.0894 - acc: 0.9816 - val_loss: 0.2965 - val_acc: 0.8992\n",
      "Epoch 33/500\n",
      "1250/1250 [==============================] - 2s 1ms/step - loss: 0.0844 - acc: 0.9816 - val_loss: 0.3023 - val_acc: 0.9056\n",
      "Epoch 34/500\n",
      "1250/1250 [==============================] - 2s 1ms/step - loss: 0.0910 - acc: 0.9816 - val_loss: 0.2956 - val_acc: 0.8992\n",
      "Epoch 35/500\n",
      "1250/1250 [==============================] - 2s 1ms/step - loss: 0.0828 - acc: 0.9872 - val_loss: 0.2928 - val_acc: 0.9056\n",
      "Epoch 36/500\n",
      "1250/1250 [==============================] - 2s 1ms/step - loss: 0.0671 - acc: 0.9912 - val_loss: 0.2927 - val_acc: 0.9008\n",
      "Epoch 37/500\n",
      "1250/1250 [==============================] - 2s 1ms/step - loss: 0.0681 - acc: 0.9864 - val_loss: 0.2952 - val_acc: 0.9008\n",
      "Epoch 38/500\n",
      "1250/1250 [==============================] - 2s 1ms/step - loss: 0.0723 - acc: 0.9848 - val_loss: 0.2941 - val_acc: 0.9024\n",
      "Epoch 39/500\n",
      "1250/1250 [==============================] - 2s 1ms/step - loss: 0.0633 - acc: 0.9944 - val_loss: 0.2963 - val_acc: 0.8976\n",
      "Epoch 40/500\n",
      "1250/1250 [==============================] - 2s 1ms/step - loss: 0.0635 - acc: 0.9880 - val_loss: 0.2915 - val_acc: 0.9008\n",
      "Epoch 41/500\n",
      "1250/1250 [==============================] - 2s 1ms/step - loss: 0.0621 - acc: 0.9888 - val_loss: 0.2998 - val_acc: 0.8992\n",
      "Epoch 42/500\n",
      "1250/1250 [==============================] - 2s 1ms/step - loss: 0.0581 - acc: 0.9952 - val_loss: 0.2898 - val_acc: 0.9056\n",
      "Epoch 43/500\n",
      "1250/1250 [==============================] - 2s 1ms/step - loss: 0.0548 - acc: 0.9944 - val_loss: 0.2912 - val_acc: 0.9040\n",
      "Epoch 44/500\n",
      "1250/1250 [==============================] - 2s 1ms/step - loss: 0.0501 - acc: 0.9920 - val_loss: 0.2947 - val_acc: 0.9024\n",
      "Epoch 45/500\n",
      "1250/1250 [==============================] - 2s 1ms/step - loss: 0.0509 - acc: 0.9920 - val_loss: 0.2895 - val_acc: 0.9008\n",
      "Epoch 46/500\n",
      "1250/1250 [==============================] - 2s 1ms/step - loss: 0.0505 - acc: 0.9896 - val_loss: 0.2903 - val_acc: 0.9056\n",
      "Epoch 47/500\n",
      "1250/1250 [==============================] - 2s 1ms/step - loss: 0.0448 - acc: 0.9968 - val_loss: 0.2869 - val_acc: 0.9056\n",
      "Epoch 48/500\n",
      "1250/1250 [==============================] - 2s 1ms/step - loss: 0.0422 - acc: 0.9960 - val_loss: 0.2922 - val_acc: 0.9024\n",
      "Epoch 49/500\n",
      "1250/1250 [==============================] - 2s 1ms/step - loss: 0.0406 - acc: 0.9952 - val_loss: 0.2934 - val_acc: 0.9072\n",
      "Epoch 50/500\n",
      "1250/1250 [==============================] - 2s 1ms/step - loss: 0.0393 - acc: 0.9952 - val_loss: 0.2905 - val_acc: 0.9040\n",
      "Epoch 51/500\n",
      "1250/1250 [==============================] - 2s 1ms/step - loss: 0.0379 - acc: 0.9968 - val_loss: 0.2931 - val_acc: 0.9008\n",
      "Epoch 52/500\n",
      "1250/1250 [==============================] - 2s 1ms/step - loss: 0.0375 - acc: 0.9968 - val_loss: 0.2897 - val_acc: 0.9040\n",
      "Epoch 53/500\n",
      "1250/1250 [==============================] - 2s 1ms/step - loss: 0.0324 - acc: 0.9992 - val_loss: 0.2923 - val_acc: 0.9024\n",
      "Epoch 54/500\n",
      "1250/1250 [==============================] - 2s 1ms/step - loss: 0.0351 - acc: 0.9952 - val_loss: 0.2963 - val_acc: 0.9008\n",
      "Epoch 55/500\n",
      "1250/1250 [==============================] - 2s 1ms/step - loss: 0.0302 - acc: 0.9968 - val_loss: 0.2914 - val_acc: 0.9008\n",
      "Epoch 56/500\n",
      "1250/1250 [==============================] - 2s 1ms/step - loss: 0.0300 - acc: 0.9976 - val_loss: 0.2929 - val_acc: 0.9040\n",
      "Epoch 57/500\n",
      "1250/1250 [==============================] - 2s 1ms/step - loss: 0.0256 - acc: 0.9984 - val_loss: 0.2967 - val_acc: 0.9024\n",
      "Epoch 58/500\n",
      "1250/1250 [==============================] - 2s 1ms/step - loss: 0.0286 - acc: 0.9968 - val_loss: 0.2902 - val_acc: 0.9024\n",
      "Epoch 59/500\n",
      "1250/1250 [==============================] - 2s 1ms/step - loss: 0.0240 - acc: 0.9992 - val_loss: 0.2927 - val_acc: 0.8992\n",
      "Epoch 60/500\n"
     ]
    },
    {
     "name": "stdout",
     "output_type": "stream",
     "text": [
      "1250/1250 [==============================] - 2s 1ms/step - loss: 0.0243 - acc: 0.9976 - val_loss: 0.2940 - val_acc: 0.9024\n",
      "Epoch 61/500\n",
      "1250/1250 [==============================] - 2s 1ms/step - loss: 0.0235 - acc: 0.9992 - val_loss: 0.2981 - val_acc: 0.9040\n",
      "Epoch 62/500\n",
      "1250/1250 [==============================] - 2s 1ms/step - loss: 0.0212 - acc: 0.9984 - val_loss: 0.2908 - val_acc: 0.9056\n",
      "Epoch 63/500\n",
      "1250/1250 [==============================] - 2s 1ms/step - loss: 0.0229 - acc: 0.9968 - val_loss: 0.3007 - val_acc: 0.8960\n",
      "Epoch 64/500\n",
      "1250/1250 [==============================] - 2s 1ms/step - loss: 0.0187 - acc: 0.9992 - val_loss: 0.3029 - val_acc: 0.9008\n",
      "Epoch 65/500\n",
      "1250/1250 [==============================] - 2s 1ms/step - loss: 0.0225 - acc: 0.9968 - val_loss: 0.2947 - val_acc: 0.9024\n",
      "Epoch 66/500\n",
      "1250/1250 [==============================] - 2s 1ms/step - loss: 0.0176 - acc: 1.0000 - val_loss: 0.2969 - val_acc: 0.9024\n",
      "Epoch 67/500\n",
      "1250/1250 [==============================] - 2s 1ms/step - loss: 0.0162 - acc: 1.0000 - val_loss: 0.2968 - val_acc: 0.9008\n",
      "Epoch 68/500\n",
      "1250/1250 [==============================] - 2s 1ms/step - loss: 0.0160 - acc: 0.9992 - val_loss: 0.2987 - val_acc: 0.8992\n",
      "Epoch 69/500\n",
      "1250/1250 [==============================] - 2s 1ms/step - loss: 0.0145 - acc: 1.0000 - val_loss: 0.3026 - val_acc: 0.9040\n",
      "Epoch 70/500\n",
      "1250/1250 [==============================] - 2s 1ms/step - loss: 0.0162 - acc: 0.9992 - val_loss: 0.3038 - val_acc: 0.9024\n",
      "Epoch 71/500\n",
      "1250/1250 [==============================] - 2s 1ms/step - loss: 0.0142 - acc: 1.0000 - val_loss: 0.2992 - val_acc: 0.8992\n",
      "Epoch 72/500\n",
      "1250/1250 [==============================] - 2s 1ms/step - loss: 0.0136 - acc: 1.0000 - val_loss: 0.2993 - val_acc: 0.9008\n",
      "Epoch 73/500\n",
      "1250/1250 [==============================] - 2s 1ms/step - loss: 0.0135 - acc: 1.0000 - val_loss: 0.3004 - val_acc: 0.8992\n",
      "Epoch 74/500\n",
      "1250/1250 [==============================] - 2s 1ms/step - loss: 0.0126 - acc: 1.0000 - val_loss: 0.3028 - val_acc: 0.9024\n",
      "Epoch 75/500\n",
      "1250/1250 [==============================] - 2s 1ms/step - loss: 0.0124 - acc: 1.0000 - val_loss: 0.3031 - val_acc: 0.9008\n",
      "Epoch 76/500\n",
      "1250/1250 [==============================] - 2s 1ms/step - loss: 0.0132 - acc: 0.9992 - val_loss: 0.3037 - val_acc: 0.9024\n",
      "Epoch 77/500\n",
      "1250/1250 [==============================] - 2s 1ms/step - loss: 0.0105 - acc: 1.0000 - val_loss: 0.3060 - val_acc: 0.9024\n",
      "Epoch 78/500\n",
      "1250/1250 [==============================] - 2s 1ms/step - loss: 0.0104 - acc: 1.0000 - val_loss: 0.3050 - val_acc: 0.9008\n",
      "Epoch 79/500\n",
      "1250/1250 [==============================] - 2s 1ms/step - loss: 0.0100 - acc: 0.9992 - val_loss: 0.3044 - val_acc: 0.9008\n",
      "Epoch 80/500\n",
      "1250/1250 [==============================] - 2s 1ms/step - loss: 0.0097 - acc: 1.0000 - val_loss: 0.3072 - val_acc: 0.9008\n",
      "Epoch 81/500\n",
      "1250/1250 [==============================] - 2s 1ms/step - loss: 0.0079 - acc: 1.0000 - val_loss: 0.3072 - val_acc: 0.9008\n",
      "Epoch 82/500\n",
      "1250/1250 [==============================] - 2s 1ms/step - loss: 0.0074 - acc: 1.0000 - val_loss: 0.3090 - val_acc: 0.9008\n",
      "Epoch 83/500\n",
      "1250/1250 [==============================] - 2s 1ms/step - loss: 0.0082 - acc: 0.9992 - val_loss: 0.3075 - val_acc: 0.9040\n",
      "Epoch 84/500\n",
      "1250/1250 [==============================] - 2s 1ms/step - loss: 0.0080 - acc: 1.0000 - val_loss: 0.3223 - val_acc: 0.9024\n",
      "Epoch 85/500\n",
      "1250/1250 [==============================] - 2s 1ms/step - loss: 0.0062 - acc: 1.0000 - val_loss: 0.3232 - val_acc: 0.9008\n",
      "Epoch 86/500\n",
      "1250/1250 [==============================] - 2s 1ms/step - loss: 0.0075 - acc: 1.0000 - val_loss: 0.3153 - val_acc: 0.9024\n",
      "Epoch 87/500\n",
      "1250/1250 [==============================] - 2s 1ms/step - loss: 0.0064 - acc: 1.0000 - val_loss: 0.3172 - val_acc: 0.8992\n",
      "Epoch 88/500\n",
      "1250/1250 [==============================] - 2s 1ms/step - loss: 0.0057 - acc: 1.0000 - val_loss: 0.3193 - val_acc: 0.9024\n",
      "Epoch 89/500\n",
      "1250/1250 [==============================] - 2s 1ms/step - loss: 0.0056 - acc: 1.0000 - val_loss: 0.3285 - val_acc: 0.9008\n",
      "Epoch 90/500\n",
      "1250/1250 [==============================] - 2s 1ms/step - loss: 0.0062 - acc: 1.0000 - val_loss: 0.3241 - val_acc: 0.9056\n",
      "Epoch 91/500\n",
      "1250/1250 [==============================] - 2s 1ms/step - loss: 0.0060 - acc: 1.0000 - val_loss: 0.3233 - val_acc: 0.9024\n",
      "Epoch 92/500\n",
      "1250/1250 [==============================] - 2s 1ms/step - loss: 0.0062 - acc: 0.9992 - val_loss: 0.3229 - val_acc: 0.8976\n",
      "Epoch 93/500\n",
      "1250/1250 [==============================] - 2s 1ms/step - loss: 0.0065 - acc: 1.0000 - val_loss: 0.3231 - val_acc: 0.9008\n",
      "Epoch 94/500\n",
      "1250/1250 [==============================] - 2s 1ms/step - loss: 0.0050 - acc: 1.0000 - val_loss: 0.3225 - val_acc: 0.8960\n",
      "Epoch 95/500\n",
      "1250/1250 [==============================] - 2s 1ms/step - loss: 0.0048 - acc: 1.0000 - val_loss: 0.3277 - val_acc: 0.9024\n",
      "Epoch 96/500\n",
      "1250/1250 [==============================] - 2s 1ms/step - loss: 0.0056 - acc: 1.0000 - val_loss: 0.3270 - val_acc: 0.9008\n",
      "Epoch 97/500\n",
      "1250/1250 [==============================] - 2s 1ms/step - loss: 0.0040 - acc: 1.0000 - val_loss: 0.3245 - val_acc: 0.8960\n",
      "Epoch 00097: early stopping\n"
     ]
    }
   ],
   "source": [
    "history = model.fit(train_features, train_labels,\n",
    "                   epochs=500,\n",
    "                   batch_size=20,\n",
    "                   validation_data=(validation_features, validation_labels),\n",
    "                   callbacks=[es,mc])"
   ]
  },
  {
   "cell_type": "code",
   "execution_count": 14,
   "metadata": {},
   "outputs": [],
   "source": [
    "model.save('upper0425_9990.h5')"
   ]
  },
  {
   "cell_type": "code",
   "execution_count": 13,
   "metadata": {},
   "outputs": [
    {
     "data": {
      "image/png": "[encoded data removed]",
      "text/plain": [
       "<matplotlib.figure.Figure at 0x299852f1588>"
      ]
     },
     "metadata": {
      "needs_background": "light"
     },
     "output_type": "display_data"
    },
    {
     "data": {
      "image/png": "[encoded data removed]",
      "text/plain": [
       "<matplotlib.figure.Figure at 0x299851b3d30>"
      ]
     },
     "metadata": {
      "needs_background": "light"
     },
     "output_type": "display_data"
    }
   ],
   "source": [
    "acc = history.history['acc']\n",
    "val_acc = history.history['val_acc']\n",
    "loss = history.history['loss']\n",
    "val_loss = history.history['val_loss']\n",
    "epochs = range(1, len(acc) + 1)\n",
    "\n",
    "plt.plot(epochs, acc, 'bo', label = 'Training acc')\n",
    "plt.plot(epochs, val_acc, 'b', label = 'Validation acc')\n",
    "# plt.tilte('Training and validation accuracy')\n",
    "plt.legend()\n",
    "\n",
    "plt.figure()\n",
    "\n",
    "plt.plot(epochs, loss, 'bo', label = 'Training loss')\n",
    "plt.plot(epochs, val_loss, 'b', label = 'Validation loss')\n",
    "# plt.tilte('Training and validation loss')\n",
    "plt.legend()\n",
    "\n",
    "plt.show()"
   ]
  }
 ],
 "metadata": {
  "kernelspec": {
   "display_name": "[CPU_ENV]",
   "language": "python",
   "name": "cpu_env"
  },
  "language_info": {
   "codemirror_mode": {
    "name": "ipython",
    "version": 3
   },
   "file_extension": ".py",
   "mimetype": "text/x-python",
   "name": "python",
   "nbconvert_exporter": "python",
   "pygments_lexer": "ipython3",
   "version": "3.6.10"
  }
 },
 "nbformat": 4,
 "nbformat_minor": 4
}
