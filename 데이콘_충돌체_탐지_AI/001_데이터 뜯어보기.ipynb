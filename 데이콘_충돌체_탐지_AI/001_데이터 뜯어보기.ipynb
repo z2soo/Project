{
 "cells": [
  {
   "cell_type": "code",
   "execution_count": 40,
   "metadata": {},
   "outputs": [
    {
     "ename": "ModuleNotFoundError",
     "evalue": "No module named 'tensorflow.python'",
     "output_type": "error",
     "traceback": [
      "\u001b[1;31m---------------------------------------------------------------------------\u001b[0m",
      "\u001b[1;31mModuleNotFoundError\u001b[0m                       Traceback (most recent call last)",
      "\u001b[1;32m<ipython-input-40-f933b13fe2d2>\u001b[0m in \u001b[0;36m<module>\u001b[1;34m\u001b[0m\n\u001b[1;32m----> 1\u001b[1;33m \u001b[1;32mimport\u001b[0m \u001b[0mtensorflow\u001b[0m \u001b[1;32mas\u001b[0m \u001b[0mtf\u001b[0m\u001b[1;33m\u001b[0m\u001b[1;33m\u001b[0m\u001b[0m\n\u001b[0m\u001b[0;32m      2\u001b[0m \u001b[1;32mfrom\u001b[0m \u001b[0mtensorflow\u001b[0m\u001b[1;33m.\u001b[0m\u001b[0mkeras\u001b[0m \u001b[1;32mimport\u001b[0m \u001b[0mmodels\u001b[0m\u001b[1;33m\u001b[0m\u001b[1;33m\u001b[0m\u001b[0m\n\u001b[0;32m      3\u001b[0m \u001b[1;32mfrom\u001b[0m \u001b[0mkeras\u001b[0m \u001b[1;32mimport\u001b[0m \u001b[0mlayers\u001b[0m\u001b[1;33m\u001b[0m\u001b[1;33m\u001b[0m\u001b[0m\n\u001b[0;32m      4\u001b[0m \u001b[1;32mfrom\u001b[0m \u001b[0mkeras\u001b[0m\u001b[1;33m.\u001b[0m\u001b[0mapplications\u001b[0m \u001b[1;32mimport\u001b[0m \u001b[0mXception\u001b[0m\u001b[1;33m\u001b[0m\u001b[1;33m\u001b[0m\u001b[0m\n\u001b[0;32m      5\u001b[0m \u001b[1;32mfrom\u001b[0m \u001b[0mkeras\u001b[0m\u001b[1;33m.\u001b[0m\u001b[0mutils\u001b[0m \u001b[1;32mimport\u001b[0m \u001b[0mto_categorical\u001b[0m\u001b[1;33m\u001b[0m\u001b[1;33m\u001b[0m\u001b[0m\n",
      "\u001b[1;32m~\\anaconda3\\envs\\venv\\lib\\site-packages\\tensorflow\\__init__.py\u001b[0m in \u001b[0;36m<module>\u001b[1;34m\u001b[0m\n\u001b[0;32m     22\u001b[0m \u001b[1;33m\u001b[0m\u001b[0m\n\u001b[0;32m     23\u001b[0m \u001b[1;31m# pylint: disable=wildcard-import\u001b[0m\u001b[1;33m\u001b[0m\u001b[1;33m\u001b[0m\u001b[1;33m\u001b[0m\u001b[0m\n\u001b[1;32m---> 24\u001b[1;33m \u001b[1;32mfrom\u001b[0m \u001b[0mtensorflow\u001b[0m\u001b[1;33m.\u001b[0m\u001b[0mpython\u001b[0m \u001b[1;32mimport\u001b[0m \u001b[1;33m*\u001b[0m\u001b[1;33m\u001b[0m\u001b[1;33m\u001b[0m\u001b[0m\n\u001b[0m\u001b[0;32m     25\u001b[0m \u001b[1;31m# pylint: enable=wildcard-import\u001b[0m\u001b[1;33m\u001b[0m\u001b[1;33m\u001b[0m\u001b[1;33m\u001b[0m\u001b[0m\n\u001b[0;32m     26\u001b[0m \u001b[1;33m\u001b[0m\u001b[0m\n",
      "\u001b[1;31mModuleNotFoundError\u001b[0m: No module named 'tensorflow.python'"
     ]
    }
   ],
   "source": [
    "import tensorflow as tf\n",
    "from tensorflow.keras import models\n",
    "from keras import layers\n",
    "from keras.applications import Xception\n",
    "from keras.utils import to_categorical\n",
    "from keras.models import Sequential\n",
    "from keras.layers import Dense, Activation\n",
    "from keras.utils import multi_gpu_model\n",
    "from keras.optimizers import SGD, RMSprop, Adam\n",
    "from keras import metrics\n",
    "import numpy as np\n",
    "import pandas as pd"
   ]
  },
  {
   "cell_type": "code",
   "execution_count": 3,
   "metadata": {},
   "outputs": [],
   "source": [
    "# 데이터 불러오기\n",
    "train_features = pd.read_csv('./original/train_features.csv')\n",
    "train_target = pd.read_csv('./original/train_target.csv', index_col = 'id')\n",
    "test_features = pd.read_csv('./original/test_features.csv')"
   ]
  },
  {
   "cell_type": "code",
   "execution_count": 4,
   "metadata": {},
   "outputs": [
    {
     "name": "stdout",
     "output_type": "stream",
     "text": [
      "train_features (1050000, 6)\n",
      "train_target (2800, 4)\n",
      "test_features (262500, 6)\n"
     ]
    }
   ],
   "source": [
    "print(f'train_features {train_features.shape}')\n",
    "print(f'train_target {train_target.shape}')\n",
    "print(f'test_features {test_features.shape}')"
   ]
  },
  {
   "cell_type": "code",
   "execution_count": 26,
   "metadata": {
    "scrolled": true
   },
   "outputs": [
    {
     "data": {
      "text/html": [
       "<div>\n",
       "<style scoped>\n",
       "    .dataframe tbody tr th:only-of-type {\n",
       "        vertical-align: middle;\n",
       "    }\n",
       "\n",
       "    .dataframe tbody tr th {\n",
       "        vertical-align: top;\n",
       "    }\n",
       "\n",
       "    .dataframe thead th {\n",
       "        text-align: right;\n",
       "    }\n",
       "</style>\n",
       "<table border=\"1\" class=\"dataframe\">\n",
       "  <thead>\n",
       "    <tr style=\"text-align: right;\">\n",
       "      <th></th>\n",
       "      <th>id</th>\n",
       "      <th>Time</th>\n",
       "      <th>S1</th>\n",
       "      <th>S2</th>\n",
       "      <th>S3</th>\n",
       "      <th>S4</th>\n",
       "    </tr>\n",
       "  </thead>\n",
       "  <tbody>\n",
       "    <tr>\n",
       "      <th>1049995</th>\n",
       "      <td>2799</td>\n",
       "      <td>0.001480</td>\n",
       "      <td>-89256.32</td>\n",
       "      <td>-164614.6</td>\n",
       "      <td>48186.29</td>\n",
       "      <td>-147910.20</td>\n",
       "    </tr>\n",
       "    <tr>\n",
       "      <th>1049996</th>\n",
       "      <td>2799</td>\n",
       "      <td>0.001484</td>\n",
       "      <td>-29233.44</td>\n",
       "      <td>-179404.2</td>\n",
       "      <td>109534.40</td>\n",
       "      <td>-111591.10</td>\n",
       "    </tr>\n",
       "    <tr>\n",
       "      <th>1049997</th>\n",
       "      <td>2799</td>\n",
       "      <td>0.001488</td>\n",
       "      <td>37147.25</td>\n",
       "      <td>-190011.7</td>\n",
       "      <td>178781.10</td>\n",
       "      <td>-86836.78</td>\n",
       "    </tr>\n",
       "    <tr>\n",
       "      <th>1049998</th>\n",
       "      <td>2799</td>\n",
       "      <td>0.001492</td>\n",
       "      <td>98278.50</td>\n",
       "      <td>-190771.4</td>\n",
       "      <td>245726.70</td>\n",
       "      <td>-75660.00</td>\n",
       "    </tr>\n",
       "    <tr>\n",
       "      <th>1049999</th>\n",
       "      <td>2799</td>\n",
       "      <td>0.001496</td>\n",
       "      <td>151683.00</td>\n",
       "      <td>-177267.3</td>\n",
       "      <td>307932.80</td>\n",
       "      <td>-72835.82</td>\n",
       "    </tr>\n",
       "  </tbody>\n",
       "</table>\n",
       "</div>"
      ],
      "text/plain": [
       "           id      Time         S1        S2         S3         S4\n",
       "1049995  2799  0.001480  -89256.32 -164614.6   48186.29 -147910.20\n",
       "1049996  2799  0.001484  -29233.44 -179404.2  109534.40 -111591.10\n",
       "1049997  2799  0.001488   37147.25 -190011.7  178781.10  -86836.78\n",
       "1049998  2799  0.001492   98278.50 -190771.4  245726.70  -75660.00\n",
       "1049999  2799  0.001496  151683.00 -177267.3  307932.80  -72835.82"
      ]
     },
     "metadata": {},
     "output_type": "display_data"
    },
    {
     "data": {
      "text/html": [
       "<div>\n",
       "<style scoped>\n",
       "    .dataframe tbody tr th:only-of-type {\n",
       "        vertical-align: middle;\n",
       "    }\n",
       "\n",
       "    .dataframe tbody tr th {\n",
       "        vertical-align: top;\n",
       "    }\n",
       "\n",
       "    .dataframe thead th {\n",
       "        text-align: right;\n",
       "    }\n",
       "</style>\n",
       "<table border=\"1\" class=\"dataframe\">\n",
       "  <thead>\n",
       "    <tr style=\"text-align: right;\">\n",
       "      <th></th>\n",
       "      <th>X</th>\n",
       "      <th>Y</th>\n",
       "      <th>M</th>\n",
       "      <th>V</th>\n",
       "    </tr>\n",
       "    <tr>\n",
       "      <th>id</th>\n",
       "      <th></th>\n",
       "      <th></th>\n",
       "      <th></th>\n",
       "      <th></th>\n",
       "    </tr>\n",
       "  </thead>\n",
       "  <tbody>\n",
       "    <tr>\n",
       "      <th>0</th>\n",
       "      <td>0.0</td>\n",
       "      <td>-400.0</td>\n",
       "      <td>50.0</td>\n",
       "      <td>0.4</td>\n",
       "    </tr>\n",
       "    <tr>\n",
       "      <th>1</th>\n",
       "      <td>400.0</td>\n",
       "      <td>0.0</td>\n",
       "      <td>100.0</td>\n",
       "      <td>1.0</td>\n",
       "    </tr>\n",
       "    <tr>\n",
       "      <th>2</th>\n",
       "      <td>-300.0</td>\n",
       "      <td>-200.0</td>\n",
       "      <td>25.0</td>\n",
       "      <td>0.4</td>\n",
       "    </tr>\n",
       "    <tr>\n",
       "      <th>3</th>\n",
       "      <td>200.0</td>\n",
       "      <td>-100.0</td>\n",
       "      <td>150.0</td>\n",
       "      <td>0.4</td>\n",
       "    </tr>\n",
       "    <tr>\n",
       "      <th>4</th>\n",
       "      <td>-300.0</td>\n",
       "      <td>-100.0</td>\n",
       "      <td>150.0</td>\n",
       "      <td>0.4</td>\n",
       "    </tr>\n",
       "  </tbody>\n",
       "</table>\n",
       "</div>"
      ],
      "text/plain": [
       "        X      Y      M    V\n",
       "id                          \n",
       "0     0.0 -400.0   50.0  0.4\n",
       "1   400.0    0.0  100.0  1.0\n",
       "2  -300.0 -200.0   25.0  0.4\n",
       "3   200.0 -100.0  150.0  0.4\n",
       "4  -300.0 -100.0  150.0  0.4"
      ]
     },
     "metadata": {},
     "output_type": "display_data"
    }
   ],
   "source": [
    "display(train_features.tail())\n",
    "display(train_target.head())"
   ]
  },
  {
   "cell_type": "markdown",
   "metadata": {},
   "source": [
    "### 데이터에 대한 설명"
   ]
  },
  {
   "cell_type": "code",
   "execution_count": 28,
   "metadata": {},
   "outputs": [
    {
     "name": "stdout",
     "output_type": "stream",
     "text": [
      "train features\n",
      "id = 충돌체 고유 아이디\n",
      "time = 관측시간(second)\n",
      "s1 = S1 센서에서 측정된 가속도 (mm/s^2)\n",
      "s2 = S2 센서에서 측정된 가속도 (mm/s^2)\n",
      "s3 = S3 센서에서 측정된 가속도 (mm/s^2)\n",
      "s4 = S4 센서에서 측정된 가속도 (mm/s^2)\n",
      "\n",
      "train_target\n",
      "id = 충돌체 고유 아이디\n",
      "X, Y = 충격하중이 가해진 X, Y 좌표 (mm)\n",
      "M = 충돌체의 질량 (g)\n",
      "V = 충돌체의 충돌 속도 (m/s)\n",
      "\n"
     ]
    }
   ],
   "source": [
    "print('''train features\n",
    "id = 충돌체 고유 아이디\n",
    "time = 관측시간(second)\n",
    "s1 = S1 센서에서 측정된 가속도 (mm/s^2)\n",
    "s2 = S2 센서에서 측정된 가속도 (mm/s^2)\n",
    "s3 = S3 센서에서 측정된 가속도 (mm/s^2)\n",
    "s4 = S4 센서에서 측정된 가속도 (mm/s^2)\n",
    "\n",
    "train_target\n",
    "id = 충돌체 고유 아이디\n",
    "X, Y = 충격하중이 가해진 X, Y 좌표 (mm)\n",
    "M = 충돌체의 질량 (g)\n",
    "V = 충돌체의 충돌 속도 (m/s)\n",
    "''')"
   ]
  },
  {
   "cell_type": "code",
   "execution_count": 31,
   "metadata": {},
   "outputs": [
    {
     "name": "stdout",
     "output_type": "stream",
     "text": [
      "id 각각은 375 row를 가짐\n",
      "id는 0 ~ 2779\n"
     ]
    }
   ],
   "source": [
    "print('''id 각각은 375 row를 가짐\n",
    "id는 0 ~ 2779''')"
   ]
  },
  {
   "cell_type": "markdown",
   "metadata": {},
   "source": [
    "## 우선은 id=0인 값들로 먼저 예측 모델을 짜보자"
   ]
  },
  {
   "cell_type": "code",
   "execution_count": 23,
   "metadata": {},
   "outputs": [
    {
     "data": {
      "text/html": [
       "<div>\n",
       "<style scoped>\n",
       "    .dataframe tbody tr th:only-of-type {\n",
       "        vertical-align: middle;\n",
       "    }\n",
       "\n",
       "    .dataframe tbody tr th {\n",
       "        vertical-align: top;\n",
       "    }\n",
       "\n",
       "    .dataframe thead th {\n",
       "        text-align: right;\n",
       "    }\n",
       "</style>\n",
       "<table border=\"1\" class=\"dataframe\">\n",
       "  <thead>\n",
       "    <tr style=\"text-align: right;\">\n",
       "      <th></th>\n",
       "      <th>id</th>\n",
       "      <th>Time</th>\n",
       "      <th>S1</th>\n",
       "      <th>S2</th>\n",
       "      <th>S3</th>\n",
       "      <th>S4</th>\n",
       "    </tr>\n",
       "  </thead>\n",
       "  <tbody>\n",
       "    <tr>\n",
       "      <th>0</th>\n",
       "      <td>0</td>\n",
       "      <td>0.000000</td>\n",
       "      <td>0.00</td>\n",
       "      <td>0.00</td>\n",
       "      <td>0.00</td>\n",
       "      <td>0.000</td>\n",
       "    </tr>\n",
       "    <tr>\n",
       "      <th>1</th>\n",
       "      <td>0</td>\n",
       "      <td>0.000004</td>\n",
       "      <td>0.00</td>\n",
       "      <td>0.00</td>\n",
       "      <td>0.00</td>\n",
       "      <td>0.000</td>\n",
       "    </tr>\n",
       "    <tr>\n",
       "      <th>2</th>\n",
       "      <td>0</td>\n",
       "      <td>0.000008</td>\n",
       "      <td>0.00</td>\n",
       "      <td>0.00</td>\n",
       "      <td>0.00</td>\n",
       "      <td>0.000</td>\n",
       "    </tr>\n",
       "    <tr>\n",
       "      <th>3</th>\n",
       "      <td>0</td>\n",
       "      <td>0.000012</td>\n",
       "      <td>0.00</td>\n",
       "      <td>0.00</td>\n",
       "      <td>0.00</td>\n",
       "      <td>0.000</td>\n",
       "    </tr>\n",
       "    <tr>\n",
       "      <th>4</th>\n",
       "      <td>0</td>\n",
       "      <td>0.000016</td>\n",
       "      <td>0.00</td>\n",
       "      <td>0.00</td>\n",
       "      <td>0.00</td>\n",
       "      <td>0.000</td>\n",
       "    </tr>\n",
       "    <tr>\n",
       "      <th>...</th>\n",
       "      <td>...</td>\n",
       "      <td>...</td>\n",
       "      <td>...</td>\n",
       "      <td>...</td>\n",
       "      <td>...</td>\n",
       "      <td>...</td>\n",
       "    </tr>\n",
       "    <tr>\n",
       "      <th>370</th>\n",
       "      <td>0</td>\n",
       "      <td>0.001480</td>\n",
       "      <td>-64168.90</td>\n",
       "      <td>-64168.90</td>\n",
       "      <td>52279.59</td>\n",
       "      <td>106792.600</td>\n",
       "    </tr>\n",
       "    <tr>\n",
       "      <th>371</th>\n",
       "      <td>0</td>\n",
       "      <td>0.001484</td>\n",
       "      <td>-64236.79</td>\n",
       "      <td>-64236.79</td>\n",
       "      <td>16518.64</td>\n",
       "      <td>58248.420</td>\n",
       "    </tr>\n",
       "    <tr>\n",
       "      <th>372</th>\n",
       "      <td>0</td>\n",
       "      <td>0.001488</td>\n",
       "      <td>-63755.95</td>\n",
       "      <td>-63755.95</td>\n",
       "      <td>-25270.30</td>\n",
       "      <td>3015.649</td>\n",
       "    </tr>\n",
       "    <tr>\n",
       "      <th>373</th>\n",
       "      <td>0</td>\n",
       "      <td>0.001492</td>\n",
       "      <td>-63020.44</td>\n",
       "      <td>-63020.44</td>\n",
       "      <td>-65904.66</td>\n",
       "      <td>-49795.140</td>\n",
       "    </tr>\n",
       "    <tr>\n",
       "      <th>374</th>\n",
       "      <td>0</td>\n",
       "      <td>0.001496</td>\n",
       "      <td>-61808.07</td>\n",
       "      <td>-61808.07</td>\n",
       "      <td>-102329.20</td>\n",
       "      <td>-95687.360</td>\n",
       "    </tr>\n",
       "  </tbody>\n",
       "</table>\n",
       "<p>375 rows × 6 columns</p>\n",
       "</div>"
      ],
      "text/plain": [
       "     id      Time        S1        S2         S3          S4\n",
       "0     0  0.000000      0.00      0.00       0.00       0.000\n",
       "1     0  0.000004      0.00      0.00       0.00       0.000\n",
       "2     0  0.000008      0.00      0.00       0.00       0.000\n",
       "3     0  0.000012      0.00      0.00       0.00       0.000\n",
       "4     0  0.000016      0.00      0.00       0.00       0.000\n",
       "..   ..       ...       ...       ...        ...         ...\n",
       "370   0  0.001480 -64168.90 -64168.90   52279.59  106792.600\n",
       "371   0  0.001484 -64236.79 -64236.79   16518.64   58248.420\n",
       "372   0  0.001488 -63755.95 -63755.95  -25270.30    3015.649\n",
       "373   0  0.001492 -63020.44 -63020.44  -65904.66  -49795.140\n",
       "374   0  0.001496 -61808.07 -61808.07 -102329.20  -95687.360\n",
       "\n",
       "[375 rows x 6 columns]"
      ]
     },
     "metadata": {},
     "output_type": "display_data"
    }
   ],
   "source": [
    "df_0 = train_features[train_features['id'] == 0]\n",
    "display(df_0)"
   ]
  },
  {
   "cell_type": "code",
   "execution_count": null,
   "metadata": {},
   "outputs": [],
   "source": []
  },
  {
   "cell_type": "code",
   "execution_count": null,
   "metadata": {},
   "outputs": [],
   "source": []
  }
 ],
 "metadata": {
  "kernelspec": {
   "display_name": "Python [conda env:venv] *",
   "language": "python",
   "name": "conda-env-venv-py"
  },
  "language_info": {
   "codemirror_mode": {
    "name": "ipython",
    "version": 3
   },
   "file_extension": ".py",
   "mimetype": "text/x-python",
   "name": "python",
   "nbconvert_exporter": "python",
   "pygments_lexer": "ipython3",
   "version": "3.6.10"
  }
 },
 "nbformat": 4,
 "nbformat_minor": 4
}
